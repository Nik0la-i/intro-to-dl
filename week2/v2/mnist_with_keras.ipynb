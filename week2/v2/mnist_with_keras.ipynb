{
  "nbformat": 4,
  "nbformat_minor": 0,
  "metadata": {
    "kernelspec": {
      "display_name": "Python 3",
      "language": "python",
      "name": "python3"
    },
    "language_info": {
      "codemirror_mode": {
        "name": "ipython",
        "version": 3
      },
      "file_extension": ".py",
      "mimetype": "text/x-python",
      "name": "python",
      "nbconvert_exporter": "python",
      "pygments_lexer": "ipython3",
      "version": "3.6.5"
    },
    "colab": {
      "name": "mnist_with_keras.ipynb",
      "provenance": []
    }
  },
  "cells": [
    {
      "cell_type": "code",
      "metadata": {
        "id": "qze9t_8nx3a6",
        "outputId": "cba04c4f-18d2-46e7-e8f3-b8fd6f68e84a",
        "colab": {
          "base_uri": "https://localhost:8080/"
        }
      },
      "source": [
        "# set tf 1.x for colab\n",
        "%tensorflow_version 1.x"
      ],
      "execution_count": 1,
      "outputs": [
        {
          "output_type": "stream",
          "text": [
            "TensorFlow 1.x selected.\n"
          ],
          "name": "stdout"
        }
      ]
    },
    {
      "cell_type": "code",
      "metadata": {
        "id": "WlyiBLMOx_ad",
        "outputId": "e044631c-8a41-4a04-c0d6-bc7924a918b1",
        "colab": {
          "base_uri": "https://localhost:8080/"
        }
      },
      "source": [
        "!wget https://raw.githubusercontent.com/Nik0la-i/intro-to-dl/master/setup_google_colab.py\n",
        "import setup_google_colab\n",
        "setup_google_colab.setup_week2()"
      ],
      "execution_count": 2,
      "outputs": [
        {
          "output_type": "stream",
          "text": [
            "--2021-08-26 14:05:55--  https://raw.githubusercontent.com/Nik0la-i/intro-to-dl/master/setup_google_colab.py\n",
            "Resolving raw.githubusercontent.com (raw.githubusercontent.com)... 185.199.108.133, 185.199.109.133, 185.199.110.133, ...\n",
            "Connecting to raw.githubusercontent.com (raw.githubusercontent.com)|185.199.108.133|:443... connected.\n",
            "HTTP request sent, awaiting response... 200 OK\n",
            "Length: 3636 (3.6K) [text/plain]\n",
            "Saving to: ‘setup_google_colab.py’\n",
            "\n",
            "\rsetup_google_colab.   0%[                    ]       0  --.-KB/s               \rsetup_google_colab. 100%[===================>]   3.55K  --.-KB/s    in 0s      \n",
            "\n",
            "2021-08-26 14:05:55 (50.8 MB/s) - ‘setup_google_colab.py’ saved [3636/3636]\n",
            "\n",
            "**************************************************\n",
            "inception_v3_weights_tf_dim_ordering_tf_kernels_notop.h5\n",
            "**************************************************\n",
            "cifar-10-batches-py.tar.gz\n",
            "**************************************************\n",
            "mnist.npz\n"
          ],
          "name": "stdout"
        }
      ]
    },
    {
      "cell_type": "code",
      "metadata": {
        "id": "QKwRVplyyHAA",
        "outputId": "3dd0f3df-36af-4f27-d87d-17b26a57c3f2",
        "colab": {
          "base_uri": "https://localhost:8080/",
          "height": 945
        }
      },
      "source": [
        "!pip3 uninstall keras\n",
        "!pip3 install keras==2.1.6\n",
        "!pip3 install h5py==2.10.0"
      ],
      "execution_count": 4,
      "outputs": [
        {
          "output_type": "stream",
          "text": [
            "Found existing installation: keras 2.6.0\n",
            "Uninstalling keras-2.6.0:\n",
            "  Would remove:\n",
            "    /usr/local/lib/python3.7/dist-packages/keras-2.6.0.dist-info/*\n",
            "    /usr/local/lib/python3.7/dist-packages/keras/*\n",
            "  Would not remove (might be manually added):\n",
            "    /usr/local/lib/python3.7/dist-packages/keras/applications/resnet50.py\n",
            "    /usr/local/lib/python3.7/dist-packages/keras/backend/__init__.py\n",
            "    /usr/local/lib/python3.7/dist-packages/keras/backend/cntk_backend.py\n",
            "    /usr/local/lib/python3.7/dist-packages/keras/backend/common.py\n",
            "    /usr/local/lib/python3.7/dist-packages/keras/backend/tensorflow_backend.py\n",
            "    /usr/local/lib/python3.7/dist-packages/keras/backend/theano_backend.py\n",
            "    /usr/local/lib/python3.7/dist-packages/keras/engine/topology.py\n",
            "    /usr/local/lib/python3.7/dist-packages/keras/initializers.py\n",
            "    /usr/local/lib/python3.7/dist-packages/keras/layers/normalization.py\n",
            "    /usr/local/lib/python3.7/dist-packages/keras/legacy/__init__.py\n",
            "    /usr/local/lib/python3.7/dist-packages/keras/legacy/interfaces.py\n",
            "    /usr/local/lib/python3.7/dist-packages/keras/legacy/layers.py\n",
            "    /usr/local/lib/python3.7/dist-packages/keras/legacy/models.py\n",
            "    /usr/local/lib/python3.7/dist-packages/keras/objectives.py\n",
            "    /usr/local/lib/python3.7/dist-packages/keras/utils/test_utils.py\n",
            "Proceed (y/n)? y\n",
            "  Successfully uninstalled keras-2.6.0\n",
            "Collecting keras==2.1.6\n",
            "  Downloading Keras-2.1.6-py2.py3-none-any.whl (339 kB)\n",
            "\u001b[K     |████████████████████████████████| 339 kB 5.0 MB/s \n",
            "\u001b[?25hRequirement already satisfied: pyyaml in /usr/local/lib/python3.7/dist-packages (from keras==2.1.6) (3.13)\n",
            "Requirement already satisfied: h5py in /usr/local/lib/python3.7/dist-packages (from keras==2.1.6) (3.1.0)\n",
            "Requirement already satisfied: scipy>=0.14 in /usr/local/lib/python3.7/dist-packages (from keras==2.1.6) (1.4.1)\n",
            "Requirement already satisfied: numpy>=1.9.1 in /usr/local/lib/python3.7/dist-packages (from keras==2.1.6) (1.19.5)\n",
            "Requirement already satisfied: six>=1.9.0 in /usr/local/lib/python3.7/dist-packages (from keras==2.1.6) (1.15.0)\n",
            "Requirement already satisfied: cached-property in /usr/local/lib/python3.7/dist-packages (from h5py->keras==2.1.6) (1.5.2)\n",
            "Installing collected packages: keras\n",
            "  Attempting uninstall: keras\n",
            "    Found existing installation: Keras 2.0.6\n",
            "    Uninstalling Keras-2.0.6:\n",
            "      Successfully uninstalled Keras-2.0.6\n",
            "Successfully installed keras-2.1.6\n",
            "Collecting h5py==2.10.0\n",
            "  Downloading h5py-2.10.0-cp37-cp37m-manylinux1_x86_64.whl (2.9 MB)\n",
            "\u001b[K     |████████████████████████████████| 2.9 MB 5.2 MB/s \n",
            "\u001b[?25hRequirement already satisfied: numpy>=1.7 in /usr/local/lib/python3.7/dist-packages (from h5py==2.10.0) (1.19.5)\n",
            "Requirement already satisfied: six in /usr/local/lib/python3.7/dist-packages (from h5py==2.10.0) (1.15.0)\n",
            "Installing collected packages: h5py\n",
            "  Attempting uninstall: h5py\n",
            "    Found existing installation: h5py 3.1.0\n",
            "    Uninstalling h5py-3.1.0:\n",
            "      Successfully uninstalled h5py-3.1.0\n",
            "Successfully installed h5py-2.10.0\n"
          ],
          "name": "stdout"
        },
        {
          "output_type": "display_data",
          "data": {
            "application/vnd.colab-display-data+json": {
              "pip_warning": {
                "packages": [
                  "h5py"
                ]
              }
            }
          },
          "metadata": {}
        }
      ]
    },
    {
      "cell_type": "markdown",
      "metadata": {
        "id": "RUUdzHbyx3a-"
      },
      "source": [
        "# MNIST digits classification with Keras\n",
        "\n",
        "We don't expect you to code anything here because you've already solved it with TensorFlow.\n",
        "\n",
        "But you can appreciate how simpler it is with Keras.\n",
        "\n",
        "We'll be happy if you play around with the architecture though, there're some tips at the end."
      ]
    },
    {
      "cell_type": "markdown",
      "metadata": {
        "id": "9BVTkJcHx3a_"
      },
      "source": [
        "<img src=\"https://github.com/Nik0la-i/intro-to-dl/blob/master/week2/v2/images/mnist_sample.png?raw=1\" style=\"width:30%\">"
      ]
    },
    {
      "cell_type": "code",
      "metadata": {
        "id": "Du7wUvU0x3bA",
        "outputId": "09271b07-8dae-47ce-c54b-7267a4f58532",
        "colab": {
          "base_uri": "https://localhost:8080/"
        }
      },
      "source": [
        "import numpy as np\n",
        "from sklearn.metrics import accuracy_score\n",
        "from matplotlib import pyplot as plt\n",
        "%matplotlib inline\n",
        "import tensorflow as tf\n",
        "print(\"We're using TF\", tf.__version__)\n",
        "import keras\n",
        "print(\"We are using Keras\", keras.__version__)\n",
        "\n",
        "import sys\n",
        "sys.path.append(\"../..\")\n",
        "import keras_utils\n",
        "from keras_utils import reset_tf_session"
      ],
      "execution_count": 2,
      "outputs": [
        {
          "output_type": "stream",
          "text": [
            "We're using TF 1.15.2\n",
            "We are using Keras 2.1.6\n"
          ],
          "name": "stdout"
        },
        {
          "output_type": "stream",
          "text": [
            "Using TensorFlow backend.\n"
          ],
          "name": "stderr"
        }
      ]
    },
    {
      "cell_type": "markdown",
      "metadata": {
        "id": "idPS-7NYx3bB"
      },
      "source": [
        "# Look at the data\n",
        "\n",
        "In this task we have 50000 28x28 images of digits from 0 to 9.\n",
        "We will train a classifier on this data."
      ]
    },
    {
      "cell_type": "code",
      "metadata": {
        "id": "Tya2nmxcx3bC",
        "outputId": "caa88d0a-2396-42ba-c520-58b0d0dd0a34",
        "colab": {
          "base_uri": "https://localhost:8080/"
        }
      },
      "source": [
        "import preprocessed_mnist\n",
        "X_train, y_train, X_val, y_val, X_test, y_test = preprocessed_mnist.load_dataset()"
      ],
      "execution_count": 3,
      "outputs": [
        {
          "output_type": "stream",
          "text": [
            "Downloading data from https://s3.amazonaws.com/img-datasets/mnist.npz\n",
            "11493376/11490434 [==============================] - 0s 0us/step\n"
          ],
          "name": "stdout"
        }
      ]
    },
    {
      "cell_type": "code",
      "metadata": {
        "id": "xeOypqvMx3bD",
        "outputId": "924594d5-d7c1-4484-9a01-4023cd1a5831",
        "colab": {
          "base_uri": "https://localhost:8080/",
          "height": 681
        }
      },
      "source": [
        "# X contains rgb values divided by 255\n",
        "print(\"X_train [shape %s] sample patch:\\n\" % (str(X_train.shape)), X_train[1, 15:20, 5:10])\n",
        "print(\"A closeup of a sample patch:\")\n",
        "plt.imshow(X_train[1, 15:20, 5:10], cmap=\"Greys\")\n",
        "plt.show()\n",
        "print(\"And the whole sample:\")\n",
        "plt.imshow(X_train[1], cmap=\"Greys\")\n",
        "plt.show()\n",
        "print(\"y_train [shape %s] 10 samples:\\n\" % (str(y_train.shape)), y_train[:10])"
      ],
      "execution_count": 4,
      "outputs": [
        {
          "output_type": "stream",
          "text": [
            "X_train [shape (50000, 28, 28)] sample patch:\n",
            " [[0.         0.29803922 0.96470588 0.98823529 0.43921569]\n",
            " [0.         0.33333333 0.98823529 0.90196078 0.09803922]\n",
            " [0.         0.33333333 0.98823529 0.8745098  0.        ]\n",
            " [0.         0.33333333 0.98823529 0.56862745 0.        ]\n",
            " [0.         0.3372549  0.99215686 0.88235294 0.        ]]\n",
            "A closeup of a sample patch:\n"
          ],
          "name": "stdout"
        },
        {
          "output_type": "display_data",
          "data": {
            "image/png": "[encoded data removed]",
            "text/plain": [
              "<Figure size 432x288 with 1 Axes>"
            ]
          },
          "metadata": {
            "needs_background": "light"
          }
        },
        {
          "output_type": "stream",
          "text": [
            "And the whole sample:\n"
          ],
          "name": "stdout"
        },
        {
          "output_type": "display_data",
          "data": {
            "image/png": "[encoded data removed]",
            "text/plain": [
              "<Figure size 432x288 with 1 Axes>"
            ]
          },
          "metadata": {
            "needs_background": "light"
          }
        },
        {
          "output_type": "stream",
          "text": [
            "y_train [shape (50000,)] 10 samples:\n",
            " [5 0 4 1 9 2 1 3 1 4]\n"
          ],
          "name": "stdout"
        }
      ]
    },
    {
      "cell_type": "code",
      "metadata": {
        "id": "dVSojwlKx3bE",
        "outputId": "32428d5b-1f01-4cc2-a4ac-dd227d9428ba",
        "colab": {
          "base_uri": "https://localhost:8080/"
        }
      },
      "source": [
        "# flatten images\n",
        "X_train_flat = X_train.reshape((X_train.shape[0], -1))\n",
        "print(X_train_flat.shape)\n",
        "\n",
        "X_val_flat = X_val.reshape((X_val.shape[0], -1))\n",
        "print(X_val_flat.shape)"
      ],
      "execution_count": 5,
      "outputs": [
        {
          "output_type": "stream",
          "text": [
            "(50000, 784)\n",
            "(10000, 784)\n"
          ],
          "name": "stdout"
        }
      ]
    },
    {
      "cell_type": "code",
      "metadata": {
        "id": "b21WSuzsx3bG",
        "outputId": "51c0e512-b5e5-4bf9-ce77-5351ad7c2ad3",
        "colab": {
          "base_uri": "https://localhost:8080/"
        }
      },
      "source": [
        "# one-hot encode the target\n",
        "y_train_oh = keras.utils.to_categorical(y_train, 10)\n",
        "y_val_oh = keras.utils.to_categorical(y_val, 10)\n",
        "\n",
        "print(y_train_oh.shape)\n",
        "print(y_train_oh[:3], y_train[:3])"
      ],
      "execution_count": 6,
      "outputs": [
        {
          "output_type": "stream",
          "text": [
            "(50000, 10)\n",
            "[[0. 0. 0. 0. 0. 1. 0. 0. 0. 0.]\n",
            " [1. 0. 0. 0. 0. 0. 0. 0. 0. 0.]\n",
            " [0. 0. 0. 0. 1. 0. 0. 0. 0. 0.]] [5 0 4]\n"
          ],
          "name": "stdout"
        }
      ]
    },
    {
      "cell_type": "code",
      "metadata": {
        "id": "lhMEyCaxx3bH",
        "outputId": "3618f5ae-a68d-49b3-da43-4a16677fcc94",
        "colab": {
          "base_uri": "https://localhost:8080/"
        }
      },
      "source": [
        "# building a model with keras\n",
        "from keras.layers import Dense, Activation\n",
        "from keras.models import Sequential\n",
        "\n",
        "# we still need to clear a graph though\n",
        "s = reset_tf_session()\n",
        "\n",
        "model = Sequential()  # it is a feed-forward network without loops like in RNN\n",
        "model.add(Dense(256, input_shape=(784,)))  # the first layer must specify the input shape (replacing placeholders)\n",
        "model.add(Activation('sigmoid'))\n",
        "model.add(Dense(256))\n",
        "model.add(Activation('sigmoid'))\n",
        "model.add(Dense(10))\n",
        "model.add(Activation('softmax'))"
      ],
      "execution_count": 8,
      "outputs": [
        {
          "output_type": "stream",
          "text": [
            "WARNING:tensorflow:From /content/keras_utils.py:68: The name tf.get_default_session is deprecated. Please use tf.compat.v1.get_default_session instead.\n",
            "\n",
            "WARNING:tensorflow:From /usr/local/lib/python3.7/dist-packages/keras/backend/tensorflow_backend.py:89: The name tf.reset_default_graph is deprecated. Please use tf.compat.v1.reset_default_graph instead.\n",
            "\n",
            "WARNING:tensorflow:From /usr/local/lib/python3.7/dist-packages/keras/backend/tensorflow_backend.py:92: The name tf.placeholder_with_default is deprecated. Please use tf.compat.v1.placeholder_with_default instead.\n",
            "\n",
            "WARNING:tensorflow:From /usr/local/lib/python3.7/dist-packages/keras/backend/tensorflow_backend.py:96: The name tf.get_default_graph is deprecated. Please use tf.compat.v1.get_default_graph instead.\n",
            "\n",
            "WARNING:tensorflow:From /content/keras_utils.py:75: The name tf.ConfigProto is deprecated. Please use tf.compat.v1.ConfigProto instead.\n",
            "\n",
            "WARNING:tensorflow:From /content/keras_utils.py:77: The name tf.InteractiveSession is deprecated. Please use tf.compat.v1.InteractiveSession instead.\n",
            "\n",
            "WARNING:tensorflow:From /usr/local/lib/python3.7/dist-packages/keras/backend/tensorflow_backend.py:508: The name tf.placeholder is deprecated. Please use tf.compat.v1.placeholder instead.\n",
            "\n",
            "WARNING:tensorflow:From /usr/local/lib/python3.7/dist-packages/keras/backend/tensorflow_backend.py:3837: The name tf.random_uniform is deprecated. Please use tf.random.uniform instead.\n",
            "\n"
          ],
          "name": "stdout"
        }
      ]
    },
    {
      "cell_type": "code",
      "metadata": {
        "id": "UNxmbYTDx3bI",
        "outputId": "26fdf897-e244-491f-eb3b-f37a87c1ab93",
        "colab": {
          "base_uri": "https://localhost:8080/"
        }
      },
      "source": [
        "# you can look at all layers and parameter count\n",
        "model.summary()"
      ],
      "execution_count": 9,
      "outputs": [
        {
          "output_type": "stream",
          "text": [
            "_________________________________________________________________\n",
            "Layer (type)                 Output Shape              Param #   \n",
            "=================================================================\n",
            "dense_1 (Dense)              (None, 256)               200960    \n",
            "_________________________________________________________________\n",
            "activation_1 (Activation)    (None, 256)               0         \n",
            "_________________________________________________________________\n",
            "dense_2 (Dense)              (None, 256)               65792     \n",
            "_________________________________________________________________\n",
            "activation_2 (Activation)    (None, 256)               0         \n",
            "_________________________________________________________________\n",
            "dense_3 (Dense)              (None, 10)                2570      \n",
            "_________________________________________________________________\n",
            "activation_3 (Activation)    (None, 10)                0         \n",
            "=================================================================\n",
            "Total params: 269,322\n",
            "Trainable params: 269,322\n",
            "Non-trainable params: 0\n",
            "_________________________________________________________________\n"
          ],
          "name": "stdout"
        }
      ]
    },
    {
      "cell_type": "code",
      "metadata": {
        "id": "9TA9A8Lbx3bI",
        "outputId": "0e127319-4380-4f4d-8623-8f8e63eb165e",
        "colab": {
          "base_uri": "https://localhost:8080/"
        }
      },
      "source": [
        "# now we \"compile\" the model specifying the loss and optimizer\n",
        "model.compile(\n",
        "    loss='categorical_crossentropy', # this is our cross-entropy\n",
        "    optimizer='adam',\n",
        "    metrics=['accuracy']  # report accuracy during training\n",
        ")"
      ],
      "execution_count": 10,
      "outputs": [
        {
          "output_type": "stream",
          "text": [
            "WARNING:tensorflow:From /usr/local/lib/python3.7/dist-packages/keras/optimizers.py:757: The name tf.train.Optimizer is deprecated. Please use tf.compat.v1.train.Optimizer instead.\n",
            "\n",
            "WARNING:tensorflow:From /usr/local/lib/python3.7/dist-packages/keras/backend/tensorflow_backend.py:3014: The name tf.log is deprecated. Please use tf.math.log instead.\n",
            "\n"
          ],
          "name": "stdout"
        }
      ]
    },
    {
      "cell_type": "code",
      "metadata": {
        "id": "uyHBGHlX5uHF"
      },
      "source": [
        "class CustomCallback(keras.callbacks.Callback):\n",
        "    def on_train_begin(self, logs=None):\n",
        "        keys = list(logs.keys())\n",
        "        print(\"Starting training; got log keys: {}\".format(keys))\n",
        "\n",
        "    def on_train_end(self, logs=None):\n",
        "        keys = list(logs.keys())\n",
        "        print(\"Stop training; got log keys: {}\".format(keys))\n",
        "\n",
        "    def on_epoch_begin(self, epoch, logs=None):\n",
        "        keys = list(logs.keys())\n",
        "        print(\"Start epoch {} of training; got log keys: {}\".format(epoch, keys))\n",
        "\n",
        "    def on_epoch_end(self, epoch, logs=None):\n",
        "        keys = list(logs.keys())\n",
        "        print(\"End epoch {} of training; got log keys: {}\".format(epoch, keys))\n",
        "\n",
        "    def on_test_begin(self, logs=None):\n",
        "        keys = list(logs.keys())\n",
        "        print(\"Start testing; got log keys: {}\".format(keys))\n",
        "\n",
        "    def on_test_end(self, logs=None):\n",
        "        keys = list(logs.keys())\n",
        "        print(\"Stop testing; got log keys: {}\".format(keys))\n",
        "\n",
        "    def on_predict_begin(self, logs=None):\n",
        "        keys = list(logs.keys())\n",
        "        print(\"Start predicting; got log keys: {}\".format(keys))\n",
        "\n",
        "    def on_predict_end(self, logs=None):\n",
        "        keys = list(logs.keys())\n",
        "        print(\"Stop predicting; got log keys: {}\".format(keys))\n",
        "\n",
        "    def on_train_batch_begin(self, batch, logs=None):\n",
        "        keys = list(logs.keys())\n",
        "        print(\"...Training: start of batch {}; got log keys: {}\".format(batch, keys))\n",
        "\n",
        "    def on_train_batch_end(self, batch, logs=None):\n",
        "        keys = list(logs.keys())\n",
        "        print(\"...Training: end of batch {}; got log keys: {}\".format(batch, keys))\n",
        "\n",
        "    def on_test_batch_begin(self, batch, logs=None):\n",
        "        keys = list(logs.keys())\n",
        "        print(\"...Evaluating: start of batch {}; got log keys: {}\".format(batch, keys))\n",
        "\n",
        "    def on_test_batch_end(self, batch, logs=None):\n",
        "        keys = list(logs.keys())\n",
        "        print(\"...Evaluating: end of batch {}; got log keys: {}\".format(batch, keys))\n",
        "\n",
        "    def on_predict_batch_begin(self, batch, logs=None):\n",
        "        keys = list(logs.keys())\n",
        "        print(\"...Predicting: start of batch {}; got log keys: {}\".format(batch, keys))\n",
        "\n",
        "    def on_predict_batch_end(self, batch, logs=None):\n",
        "        keys = list(logs.keys())\n",
        "        print(\"...Predicting: end of batch {}; got log keys: {}\".format(batch, keys))"
      ],
      "execution_count": 20,
      "outputs": []
    },
    {
      "cell_type": "code",
      "metadata": {
        "id": "F8rkdZ3Xx3bI",
        "outputId": "6f8aa500-c0c3-4dfa-b4bd-17c030127aae",
        "colab": {
          "base_uri": "https://localhost:8080/"
        }
      },
      "source": [
        "# and now we can fit the model with model.fit()\n",
        "# and we don't have to write loops and batching manually as in TensorFlow\n",
        "model.fit(\n",
        "    X_train_flat, \n",
        "    y_train_oh,\n",
        "    batch_size=512, \n",
        "    epochs=40,\n",
        "    validation_data=(X_val_flat, y_val_oh),\n",
        "    callbacks=[CustomCallback()],\n",
        "    verbose=0\n",
        ")"
      ],
      "execution_count": 21,
      "outputs": [
        {
          "output_type": "stream",
          "text": [
            "Starting training; got log keys: []\n",
            "Start epoch 0 of training; got log keys: []\n",
            "End epoch 0 of training; got log keys: ['val_loss', 'val_acc', 'loss', 'acc']\n",
            "Start epoch 1 of training; got log keys: []\n",
            "End epoch 1 of training; got log keys: ['val_loss', 'val_acc', 'loss', 'acc']\n",
            "Start epoch 2 of training; got log keys: []\n",
            "End epoch 2 of training; got log keys: ['val_loss', 'val_acc', 'loss', 'acc']\n",
            "Start epoch 3 of training; got log keys: []\n",
            "End epoch 3 of training; got log keys: ['val_loss', 'val_acc', 'loss', 'acc']\n",
            "Start epoch 4 of training; got log keys: []\n",
            "End epoch 4 of training; got log keys: ['val_loss', 'val_acc', 'loss', 'acc']\n",
            "Start epoch 5 of training; got log keys: []\n",
            "End epoch 5 of training; got log keys: ['val_loss', 'val_acc', 'loss', 'acc']\n",
            "Start epoch 6 of training; got log keys: []\n",
            "End epoch 6 of training; got log keys: ['val_loss', 'val_acc', 'loss', 'acc']\n",
            "Start epoch 7 of training; got log keys: []\n",
            "End epoch 7 of training; got log keys: ['val_loss', 'val_acc', 'loss', 'acc']\n",
            "Start epoch 8 of training; got log keys: []\n",
            "End epoch 8 of training; got log keys: ['val_loss', 'val_acc', 'loss', 'acc']\n",
            "Start epoch 9 of training; got log keys: []\n",
            "End epoch 9 of training; got log keys: ['val_loss', 'val_acc', 'loss', 'acc']\n",
            "Start epoch 10 of training; got log keys: []\n",
            "End epoch 10 of training; got log keys: ['val_loss', 'val_acc', 'loss', 'acc']\n",
            "Start epoch 11 of training; got log keys: []\n",
            "End epoch 11 of training; got log keys: ['val_loss', 'val_acc', 'loss', 'acc']\n",
            "Start epoch 12 of training; got log keys: []\n",
            "End epoch 12 of training; got log keys: ['val_loss', 'val_acc', 'loss', 'acc']\n",
            "Start epoch 13 of training; got log keys: []\n",
            "End epoch 13 of training; got log keys: ['val_loss', 'val_acc', 'loss', 'acc']\n",
            "Start epoch 14 of training; got log keys: []\n",
            "End epoch 14 of training; got log keys: ['val_loss', 'val_acc', 'loss', 'acc']\n",
            "Start epoch 15 of training; got log keys: []\n",
            "End epoch 15 of training; got log keys: ['val_loss', 'val_acc', 'loss', 'acc']\n",
            "Start epoch 16 of training; got log keys: []\n",
            "End epoch 16 of training; got log keys: ['val_loss', 'val_acc', 'loss', 'acc']\n",
            "Start epoch 17 of training; got log keys: []\n",
            "End epoch 17 of training; got log keys: ['val_loss', 'val_acc', 'loss', 'acc']\n",
            "Start epoch 18 of training; got log keys: []\n",
            "End epoch 18 of training; got log keys: ['val_loss', 'val_acc', 'loss', 'acc']\n",
            "Start epoch 19 of training; got log keys: []\n",
            "End epoch 19 of training; got log keys: ['val_loss', 'val_acc', 'loss', 'acc']\n",
            "Start epoch 20 of training; got log keys: []\n",
            "End epoch 20 of training; got log keys: ['val_loss', 'val_acc', 'loss', 'acc']\n",
            "Start epoch 21 of training; got log keys: []\n",
            "End epoch 21 of training; got log keys: ['val_loss', 'val_acc', 'loss', 'acc']\n",
            "Start epoch 22 of training; got log keys: []\n",
            "End epoch 22 of training; got log keys: ['val_loss', 'val_acc', 'loss', 'acc']\n",
            "Start epoch 23 of training; got log keys: []\n",
            "End epoch 23 of training; got log keys: ['val_loss', 'val_acc', 'loss', 'acc']\n",
            "Start epoch 24 of training; got log keys: []\n",
            "End epoch 24 of training; got log keys: ['val_loss', 'val_acc', 'loss', 'acc']\n",
            "Start epoch 25 of training; got log keys: []\n",
            "End epoch 25 of training; got log keys: ['val_loss', 'val_acc', 'loss', 'acc']\n",
            "Start epoch 26 of training; got log keys: []\n",
            "End epoch 26 of training; got log keys: ['val_loss', 'val_acc', 'loss', 'acc']\n",
            "Start epoch 27 of training; got log keys: []\n",
            "End epoch 27 of training; got log keys: ['val_loss', 'val_acc', 'loss', 'acc']\n",
            "Start epoch 28 of training; got log keys: []\n",
            "End epoch 28 of training; got log keys: ['val_loss', 'val_acc', 'loss', 'acc']\n",
            "Start epoch 29 of training; got log keys: []\n",
            "End epoch 29 of training; got log keys: ['val_loss', 'val_acc', 'loss', 'acc']\n",
            "Start epoch 30 of training; got log keys: []\n",
            "End epoch 30 of training; got log keys: ['val_loss', 'val_acc', 'loss', 'acc']\n",
            "Start epoch 31 of training; got log keys: []\n",
            "End epoch 31 of training; got log keys: ['val_loss', 'val_acc', 'loss', 'acc']\n",
            "Start epoch 32 of training; got log keys: []\n",
            "End epoch 32 of training; got log keys: ['val_loss', 'val_acc', 'loss', 'acc']\n",
            "Start epoch 33 of training; got log keys: []\n",
            "End epoch 33 of training; got log keys: ['val_loss', 'val_acc', 'loss', 'acc']\n",
            "Start epoch 34 of training; got log keys: []\n",
            "End epoch 34 of training; got log keys: ['val_loss', 'val_acc', 'loss', 'acc']\n",
            "Start epoch 35 of training; got log keys: []\n",
            "End epoch 35 of training; got log keys: ['val_loss', 'val_acc', 'loss', 'acc']\n",
            "Start epoch 36 of training; got log keys: []\n",
            "End epoch 36 of training; got log keys: ['val_loss', 'val_acc', 'loss', 'acc']\n",
            "Start epoch 37 of training; got log keys: []\n",
            "End epoch 37 of training; got log keys: ['val_loss', 'val_acc', 'loss', 'acc']\n",
            "Start epoch 38 of training; got log keys: []\n",
            "End epoch 38 of training; got log keys: ['val_loss', 'val_acc', 'loss', 'acc']\n",
            "Start epoch 39 of training; got log keys: []\n",
            "End epoch 39 of training; got log keys: ['val_loss', 'val_acc', 'loss', 'acc']\n",
            "Stop training; got log keys: []\n"
          ],
          "name": "stdout"
        },
        {
          "output_type": "execute_result",
          "data": {
            "text/plain": [
              "<keras.callbacks.History at 0x7f9401a18490>"
            ]
          },
          "metadata": {},
          "execution_count": 21
        }
      ]
    },
    {
      "cell_type": "markdown",
      "metadata": {
        "id": "FnW5g4Lfx3bJ"
      },
      "source": [
        "# Here're the notes for those who want to play around here\n",
        "\n",
        "Here are some tips on what you could do:\n",
        "\n",
        " * __Network size__\n",
        "   * More neurons, \n",
        "   * More layers, ([docs](https://keras.io/))\n",
        "\n",
        "   * Other nonlinearities in the hidden layers\n",
        "     * tanh, relu, leaky relu, etc\n",
        "   * Larger networks may take more epochs to train, so don't discard your net just because it could didn't beat the baseline in 5 epochs.\n",
        "\n",
        "\n",
        " * __Early Stopping__\n",
        "   * Training for 100 epochs regardless of anything is probably a bad idea.\n",
        "   * Some networks converge over 5 epochs, others - over 500.\n",
        "   * Way to go: stop when validation score is 10 iterations past maximum\n",
        "     \n",
        "\n",
        " * __Faster optimization__\n",
        "   * rmsprop, nesterov_momentum, adam, adagrad and so on.\n",
        "     * Converge faster and sometimes reach better optima\n",
        "     * It might make sense to tweak learning rate/momentum, other learning parameters, batch size and number of epochs\n",
        "\n",
        "\n",
        " * __Regularize__ to prevent overfitting\n",
        "   * Add some L2 weight norm to the loss function, theano will do the rest\n",
        "     * Can be done manually or via - https://keras.io/regularizers/\n",
        "   \n",
        "   \n",
        " * __Data augmemntation__ - getting 5x as large dataset for free is a great deal\n",
        "   * https://keras.io/preprocessing/image/\n",
        "   * Zoom-in+slice = move\n",
        "   * Rotate+zoom(to remove black stripes)\n",
        "   * any other perturbations\n",
        "   * Simple way to do that (if you have PIL/Image): \n",
        "     * ```from scipy.misc import imrotate,imresize```\n",
        "     * and a few slicing\n",
        "   * Stay realistic. There's usually no point in flipping dogs upside down as that is not the way you usually see them."
      ]
    },
    {
      "cell_type": "code",
      "metadata": {
        "id": "oxo-ZSyux3bJ"
      },
      "source": [
        ""
      ],
      "execution_count": null,
      "outputs": []
    }
  ]
}
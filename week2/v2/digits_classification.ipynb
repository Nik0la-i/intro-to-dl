{
  "nbformat": 4,
  "nbformat_minor": 0,
  "metadata": {
    "kernelspec": {
      "display_name": "Python 3",
      "language": "python",
      "name": "python3"
    },
    "language_info": {
      "codemirror_mode": {
        "name": "ipython",
        "version": 3
      },
      "file_extension": ".py",
      "mimetype": "text/x-python",
      "name": "python",
      "nbconvert_exporter": "python",
      "pygments_lexer": "ipython3",
      "version": "3.6.5"
    },
    "colab": {
      "name": "digits_classification.ipynb",
      "provenance": []
    }
  },
  "cells": [
    {
      "cell_type": "code",
      "metadata": {
        "id": "FVSreSo5bPVV",
        "outputId": "ebd459b8-c575-489c-b0f6-748bff46e232",
        "colab": {
          "base_uri": "https://localhost:8080/"
        }
      },
      "source": [
        "# set tf 1.x for colab\n",
        "%tensorflow_version 1.x"
      ],
      "execution_count": 1,
      "outputs": [
        {
          "output_type": "stream",
          "text": [
            "TensorFlow 1.x selected.\n"
          ],
          "name": "stdout"
        }
      ]
    },
    {
      "cell_type": "code",
      "metadata": {
        "id": "lq_QYb4BbWb1"
      },
      "source": [
        "%load_ext tensorboard"
      ],
      "execution_count": 2,
      "outputs": []
    },
    {
      "cell_type": "code",
      "metadata": {
        "id": "EnGMN6egbeqc",
        "outputId": "5cec9da6-92b8-4f2e-e3aa-78369538bb17",
        "colab": {
          "base_uri": "https://localhost:8080/"
        }
      },
      "source": [
        "!wget https://raw.githubusercontent.com/Nik0la-i/intro-to-dl/master/setup_google_colab.py\n",
        "import setup_google_colab\n",
        "setup_google_colab.setup_week2()"
      ],
      "execution_count": 3,
      "outputs": [
        {
          "output_type": "stream",
          "text": [
            "--2021-08-26 07:47:57--  https://raw.githubusercontent.com/Nik0la-i/intro-to-dl/master/setup_google_colab.py\n",
            "Resolving raw.githubusercontent.com (raw.githubusercontent.com)... 185.199.108.133, 185.199.109.133, 185.199.110.133, ...\n",
            "Connecting to raw.githubusercontent.com (raw.githubusercontent.com)|185.199.108.133|:443... connected.\n",
            "HTTP request sent, awaiting response... 200 OK\n",
            "Length: 3636 (3.6K) [text/plain]\n",
            "Saving to: ‘setup_google_colab.py’\n",
            "\n",
            "\rsetup_google_colab.   0%[                    ]       0  --.-KB/s               \rsetup_google_colab. 100%[===================>]   3.55K  --.-KB/s    in 0s      \n",
            "\n",
            "2021-08-26 07:47:57 (65.3 MB/s) - ‘setup_google_colab.py’ saved [3636/3636]\n",
            "\n",
            "**************************************************\n",
            "inception_v3_weights_tf_dim_ordering_tf_kernels_notop.h5\n",
            "**************************************************\n",
            "cifar-10-batches-py.tar.gz\n",
            "**************************************************\n",
            "mnist.npz\n"
          ],
          "name": "stdout"
        }
      ]
    },
    {
      "cell_type": "code",
      "metadata": {
        "id": "_lpRwYyecus5",
        "outputId": "69524530-945e-4856-e5cd-6dd1cfb5d38a",
        "colab": {
          "base_uri": "https://localhost:8080/",
          "height": 421
        }
      },
      "source": [
        "!pip3 uninstall kerasн\n",
        "!pip3 install keras==2.1.6\n",
        "!pip3 install h5py==2.10.0"
      ],
      "execution_count": 9,
      "outputs": [
        {
          "output_type": "stream",
          "text": [
            "\u001b[31mERROR: Invalid requirement: 'kerasнy'\u001b[0m\n",
            "Requirement already satisfied: keras==2.1.6 in /usr/local/lib/python3.7/dist-packages (2.1.6)\n",
            "Requirement already satisfied: pyyaml in /usr/local/lib/python3.7/dist-packages (from keras==2.1.6) (3.13)\n",
            "Requirement already satisfied: scipy>=0.14 in /usr/local/lib/python3.7/dist-packages (from keras==2.1.6) (1.4.1)\n",
            "Requirement already satisfied: numpy>=1.9.1 in /usr/local/lib/python3.7/dist-packages (from keras==2.1.6) (1.19.5)\n",
            "Requirement already satisfied: h5py in /usr/local/lib/python3.7/dist-packages (from keras==2.1.6) (3.1.0)\n",
            "Requirement already satisfied: six>=1.9.0 in /usr/local/lib/python3.7/dist-packages (from keras==2.1.6) (1.15.0)\n",
            "Requirement already satisfied: cached-property in /usr/local/lib/python3.7/dist-packages (from h5py->keras==2.1.6) (1.5.2)\n",
            "Collecting h5py==2.10.0\n",
            "  Downloading h5py-2.10.0-cp37-cp37m-manylinux1_x86_64.whl (2.9 MB)\n",
            "\u001b[K     |████████████████████████████████| 2.9 MB 32.9 MB/s \n",
            "\u001b[?25hRequirement already satisfied: numpy>=1.7 in /usr/local/lib/python3.7/dist-packages (from h5py==2.10.0) (1.19.5)\n",
            "Requirement already satisfied: six in /usr/local/lib/python3.7/dist-packages (from h5py==2.10.0) (1.15.0)\n",
            "Installing collected packages: h5py\n",
            "  Attempting uninstall: h5py\n",
            "    Found existing installation: h5py 3.1.0\n",
            "    Uninstalling h5py-3.1.0:\n",
            "      Successfully uninstalled h5py-3.1.0\n",
            "Successfully installed h5py-2.10.0\n"
          ],
          "name": "stdout"
        },
        {
          "output_type": "display_data",
          "data": {
            "application/vnd.colab-display-data+json": {
              "pip_warning": {
                "packages": [
                  "h5py"
                ]
              }
            }
          },
          "metadata": {}
        }
      ]
    },
    {
      "cell_type": "code",
      "metadata": {
        "id": "52105Ggv5Ars"
      },
      "source": [
        "import grading"
      ],
      "execution_count": 113,
      "outputs": []
    },
    {
      "cell_type": "markdown",
      "metadata": {
        "id": "pVddht33bPVY"
      },
      "source": [
        "# MNIST digits classification with TensorFlow"
      ]
    },
    {
      "cell_type": "markdown",
      "metadata": {
        "id": "CVjX5MrwbPVY"
      },
      "source": [
        "<img src=\"https://github.com/Nik0la-i/intro-to-dl/blob/master/week2/v2/images/mnist_sample.png?raw=1\" style=\"width:30%\">"
      ]
    },
    {
      "cell_type": "code",
      "metadata": {
        "id": "l0GUvrfQbPVZ",
        "outputId": "5dfacdac-bb3f-42b4-d13b-c49a56cbf769",
        "colab": {
          "base_uri": "https://localhost:8080/"
        }
      },
      "source": [
        "import numpy as np\n",
        "from sklearn.metrics import accuracy_score\n",
        "from matplotlib import pyplot as plt\n",
        "%matplotlib inline\n",
        "import tensorflow as tf\n",
        "print(\"We're using TF\", tf.__version__)\n",
        "\n",
        "import sys\n",
        "sys.path.append(\"../..\")\n",
        "import grading\n",
        "\n",
        "import matplotlib_utils\n",
        "from importlib import reload\n",
        "reload(matplotlib_utils)\n",
        "\n",
        "import grading_utils\n",
        "reload(grading_utils)\n",
        "\n",
        "import keras_utils\n",
        "from keras_utils import reset_tf_session"
      ],
      "execution_count": 111,
      "outputs": [
        {
          "output_type": "stream",
          "text": [
            "We're using TF 1.15.2\n"
          ],
          "name": "stdout"
        }
      ]
    },
    {
      "cell_type": "markdown",
      "metadata": {
        "id": "TgLref5MbPVa"
      },
      "source": [
        "# Fill in your Coursera token and email\n",
        "To successfully submit your answers to our grader, please fill in your Coursera submission token and email"
      ]
    },
    {
      "cell_type": "code",
      "metadata": {
        "id": "X_addEDIbPVa"
      },
      "source": [
        "grader = grading.Grader(assignment_key=\"XtD7ho3TEeiHQBLWejjYAA\", \n",
        "                        all_parts=[\"9XaAS\", \"vmogZ\", \"RMv95\", \"i8bgs\", \"rE763\"])"
      ],
      "execution_count": 117,
      "outputs": []
    },
    {
      "cell_type": "code",
      "metadata": {
        "id": "srrGbeuObPVb"
      },
      "source": [
        "# token expires every 30 min\n",
        "COURSERA_TOKEN = \"pHeDGThh4IlWSIKN\"\n",
        "COURSERA_EMAIL = \"nkoudryavtsev@gmail.com\""
      ],
      "execution_count": 136,
      "outputs": []
    },
    {
      "cell_type": "markdown",
      "metadata": {
        "id": "RLYubsF3bPVc"
      },
      "source": [
        "# Look at the data\n",
        "\n",
        "In this task we have 50000 28x28 images of digits from 0 to 9.\n",
        "We will train a classifier on this data."
      ]
    },
    {
      "cell_type": "code",
      "metadata": {
        "id": "OcuNdnLEbPVd"
      },
      "source": [
        "import preprocessed_mnist\n",
        "X_train, y_train, X_val, y_val, X_test, y_test = preprocessed_mnist.load_dataset()"
      ],
      "execution_count": 52,
      "outputs": []
    },
    {
      "cell_type": "code",
      "metadata": {
        "id": "DFB-XzxIeb6G",
        "outputId": "fda5984c-e753-4a95-eb36-fc9f004f092b",
        "colab": {
          "base_uri": "https://localhost:8080/"
        }
      },
      "source": [
        "print(X_train.shape)\n",
        "print(X_val.shape)\n",
        "print(X_test.shape)"
      ],
      "execution_count": 4,
      "outputs": [
        {
          "output_type": "stream",
          "text": [
            "(50000, 28, 28)\n",
            "(10000, 28, 28)\n",
            "(10000, 28, 28)\n"
          ],
          "name": "stdout"
        }
      ]
    },
    {
      "cell_type": "code",
      "metadata": {
        "id": "QGes5-M4bPVe",
        "outputId": "679e03ff-b02b-4dea-a8c0-03384369482e",
        "colab": {
          "base_uri": "https://localhost:8080/",
          "height": 681
        }
      },
      "source": [
        "# X contains rgb values divided by 255\n",
        "print(\"X_train [shape %s] sample patch:\\n\" % (str(X_train.shape)), X_train[1, 15:20, 5:10])\n",
        "print(\"A closeup of a sample patch:\")\n",
        "plt.imshow(X_train[1, 15:20, 5:10], cmap=\"Greys\")\n",
        "plt.show()\n",
        "print(\"And the whole sample:\")\n",
        "plt.imshow(X_train[1], cmap=\"Greys\")\n",
        "plt.show()\n",
        "print(\"y_train [shape %s] 10 samples:\\n\" % (str(y_train.shape)), y_train[:10])"
      ],
      "execution_count": 5,
      "outputs": [
        {
          "output_type": "stream",
          "text": [
            "X_train [shape (50000, 28, 28)] sample patch:\n",
            " [[0.         0.29803922 0.96470588 0.98823529 0.43921569]\n",
            " [0.         0.33333333 0.98823529 0.90196078 0.09803922]\n",
            " [0.         0.33333333 0.98823529 0.8745098  0.        ]\n",
            " [0.         0.33333333 0.98823529 0.56862745 0.        ]\n",
            " [0.         0.3372549  0.99215686 0.88235294 0.        ]]\n",
            "A closeup of a sample patch:\n"
          ],
          "name": "stdout"
        },
        {
          "output_type": "display_data",
          "data": {
            "image/png": "[encoded data removed]",
            "text/plain": [
              "<Figure size 432x288 with 1 Axes>"
            ]
          },
          "metadata": {
            "needs_background": "light"
          }
        },
        {
          "output_type": "stream",
          "text": [
            "And the whole sample:\n"
          ],
          "name": "stdout"
        },
        {
          "output_type": "display_data",
          "data": {
            "image/png": "[encoded data removed]",
            "text/plain": [
              "<Figure size 432x288 with 1 Axes>"
            ]
          },
          "metadata": {
            "needs_background": "light"
          }
        },
        {
          "output_type": "stream",
          "text": [
            "y_train [shape (50000,)] 10 samples:\n",
            " [5 0 4 1 9 2 1 3 1 4]\n"
          ],
          "name": "stdout"
        }
      ]
    },
    {
      "cell_type": "markdown",
      "metadata": {
        "id": "hvtEnKPjbPVe"
      },
      "source": [
        "# Linear model\n",
        "\n",
        "Your task is to train a linear classifier $\\vec{x} \\rightarrow y$ with SGD using TensorFlow.\n",
        "\n",
        "You will need to calculate a logit (a linear transformation) $z_k$ for each class: \n",
        "$$z_k = \\vec{x} \\cdot \\vec{w_k} + b_k \\quad k = 0..9$$\n",
        "\n",
        "And transform logits $z_k$ to valid probabilities $p_k$ with softmax: \n",
        "$$p_k = \\frac{e^{z_k}}{\\sum_{i=0}^{9}{e^{z_i}}} \\quad k = 0..9$$\n",
        "\n",
        "We will use a cross-entropy loss to train our multi-class classifier:\n",
        "$$\\text{cross-entropy}(y, p) = -\\sum_{k=0}^{9}{\\log(p_k)[y = k]}$$ \n",
        "\n",
        "where \n",
        "$$\n",
        "[x]=\\begin{cases}\n",
        "       1, \\quad \\text{if $x$ is true} \\\\\n",
        "       0, \\quad \\text{otherwise}\n",
        "    \\end{cases}\n",
        "$$\n",
        "\n",
        "Cross-entropy minimization pushes $p_k$ close to 1 when $y = k$, which is what we want.\n",
        "\n",
        "Here's the plan:\n",
        "* Flatten the images (28x28 -> 784) with `X_train.reshape((X_train.shape[0], -1))` to simplify our linear model implementation\n",
        "* Use a matrix placeholder for flattened `X_train`\n",
        "* Convert `y_train` to one-hot encoded vectors that are needed for cross-entropy\n",
        "* Use a shared variable `W` for all weights (a column $\\vec{w_k}$ per class) and `b` for all biases.\n",
        "* Aim for ~0.93 validation accuracy"
      ]
    },
    {
      "cell_type": "code",
      "metadata": {
        "id": "RVgXly2wbPVf",
        "outputId": "92990e09-85f8-4655-f8b3-36bcdacdb151",
        "colab": {
          "base_uri": "https://localhost:8080/"
        }
      },
      "source": [
        "X_train_flat = X_train.reshape((X_train.shape[0], -1))\n",
        "print(X_train_flat.shape)\n",
        "\n",
        "X_val_flat = X_val.reshape((X_val.shape[0], -1))\n",
        "print(X_val_flat.shape)"
      ],
      "execution_count": 53,
      "outputs": [
        {
          "output_type": "stream",
          "text": [
            "(50000, 784)\n",
            "(10000, 784)\n"
          ],
          "name": "stdout"
        }
      ]
    },
    {
      "cell_type": "code",
      "metadata": {
        "id": "dYD5bHsPbPVf",
        "outputId": "b44fd860-e367-40b8-bc68-6c38135fd099",
        "colab": {
          "base_uri": "https://localhost:8080/"
        }
      },
      "source": [
        "import keras\n",
        "\n",
        "y_train_oh = keras.utils.to_categorical(y_train, 10)\n",
        "y_val_oh = keras.utils.to_categorical(y_val, 10)\n",
        "\n",
        "print(y_train_oh.shape)\n",
        "print(y_train_oh[:3], y_train[:3])"
      ],
      "execution_count": 7,
      "outputs": [
        {
          "output_type": "stream",
          "text": [
            "(50000, 10)\n",
            "[[0. 0. 0. 0. 0. 1. 0. 0. 0. 0.]\n",
            " [1. 0. 0. 0. 0. 0. 0. 0. 0. 0.]\n",
            " [0. 0. 0. 0. 1. 0. 0. 0. 0. 0.]] [5 0 4]\n"
          ],
          "name": "stdout"
        }
      ]
    },
    {
      "cell_type": "code",
      "metadata": {
        "id": "FMJwUT_ebPVg"
      },
      "source": [
        "# run this again if you remake your graph\n",
        "s = reset_tf_session()"
      ],
      "execution_count": 85,
      "outputs": []
    },
    {
      "cell_type": "code",
      "metadata": {
        "id": "9kkT5l_xbPVg"
      },
      "source": [
        "# Model parameters: W and b\n",
        "# W = ### YOUR CODE HERE ### tf.get_variable(...) with shape[0] = 784\n",
        "# b = ### YOUR CODE HERE ### tf.get_variable(...)\n",
        "#tf.get_variable()\n",
        "W = tf.Variable(tf.zeros(shape=(784, 10), dtype='float32'), name='W')\n",
        "b = tf.Variable(tf.zeros(10, dtype='float32'), name='b')\n"
      ],
      "execution_count": 86,
      "outputs": []
    },
    {
      "cell_type": "code",
      "metadata": {
        "id": "mvhQPvtgbPVg"
      },
      "source": [
        "# Placeholders for the input data\n",
        "# input_X = ### YOUR CODE HERE ### tf.placeholder(...) for flat X with shape[0] = None for any batch size\n",
        "# input_y = ### YOUR CODE HERE ### tf.placeholder(...) for one-hot encoded true labels\n",
        "input_X = tf.placeholder(tf.float32, shape=(None, 784))\n",
        "input_y = tf.placeholder(tf.int16, shape=(None, 10))\n"
      ],
      "execution_count": 87,
      "outputs": []
    },
    {
      "cell_type": "code",
      "metadata": {
        "id": "oQbHZmwSbPVh"
      },
      "source": [
        "# Compute predictions\n",
        "# logits = ### YOUR CODE HERE ### logits for input_X, resulting shape should be [input_X.shape[0], 10]\n",
        "# probas = ### YOUR CODE HERE ### apply tf.nn.softmax to logits\n",
        "# classes = ### YOUR CODE HERE ### apply tf.argmax to find a class index with highest probability\n",
        "\n",
        "logits = input_X @ W + b\n",
        "probas = tf.nn.softmax(logits, name='probas')\n",
        "classes = tf.argmax(probas, axis=1)\n",
        "\n",
        "# Loss should be a scalar number: average loss over all the objects with tf.reduce_mean().\n",
        "# Use tf.nn.softmax_cross_entropy_with_logits on top of one-hot encoded input_y and logits.\n",
        "# It is identical to calculating cross-entropy on top of probas, but is more numerically friendly (read the docs).\n",
        "# loss = ### YOUR CODE HERE ### cross-entropy loss\n",
        "\n",
        "loss = tf.nn.softmax_cross_entropy_with_logits(logits=logits, labels=input_y)\n",
        "loss = tf.reduce_mean(loss)\n",
        "\n",
        "# Use a default tf.train.AdamOptimizer to get an SGD step\n",
        "# step = ### YOUR CODE HERE ### optimizer step that minimizes the loss\n",
        "\n",
        "step = tf.train.AdamOptimizer().minimize(loss=loss, var_list=(W, b))"
      ],
      "execution_count": 124,
      "outputs": []
    },
    {
      "cell_type": "code",
      "metadata": {
        "scrolled": false,
        "id": "qbfEOMwJbPVh",
        "outputId": "bd204a93-abd7-4d75-d39c-cf16c4f07a07",
        "colab": {
          "base_uri": "https://localhost:8080/",
          "height": 309
        }
      },
      "source": [
        "s.run(tf.global_variables_initializer())\n",
        "\n",
        "BATCH_SIZE = 512\n",
        "EPOCHS = 40\n",
        "\n",
        "# for logging the progress right here in Jupyter (for those who don't have TensorBoard)\n",
        "simpleTrainingCurves = matplotlib_utils.SimpleTrainingCurves(\"cross-entropy\", \"accuracy\")\n",
        "\n",
        "\n",
        "for epoch in range(EPOCHS):  # we finish an epoch when we've looked at all training samples\n",
        "    \n",
        "    batch_losses = []\n",
        "    for batch_start in range(0, X_train_flat.shape[0], BATCH_SIZE):  # data is already shuffled\n",
        "        _, batch_loss = s.run([step, loss], {input_X: X_train_flat[batch_start:batch_start+BATCH_SIZE], \n",
        "                                             input_y: y_train_oh[batch_start:batch_start+BATCH_SIZE]})\n",
        "        # collect batch losses, this is almost free as we need a forward pass for backprop anyway\n",
        "        batch_losses.append(batch_loss)\n",
        "        \n",
        "    \n",
        "    train_loss = np.mean(batch_losses)\n",
        "    val_loss = s.run(loss, {input_X: X_val_flat, input_y: y_val_oh})  # this part is usually small\n",
        "    train_accuracy = accuracy_score(y_train, s.run(classes, {input_X: X_train_flat}))  # this is slow and usually skipped\n",
        "    valid_accuracy = accuracy_score(y_val, s.run(classes, {input_X: X_val_flat}))  \n",
        "    simpleTrainingCurves.add(train_loss, val_loss, train_accuracy, valid_accuracy)"
      ],
      "execution_count": 135,
      "outputs": [
        {
          "output_type": "display_data",
          "data": {
            "text/html": [
              "<img src=\"data:image/jpeg;base64,/9j/4AAQSkZJRgABAQEASABIAAD/2wBDAAIBAQEBAQIBAQECAgICAgQDAgICAgUEBAMEBgUGBgYFBgYGBwkIBgcJBwYGCAsICQoKCgoKBggLDAsKDAkKCgr/2wBDAQICAgICAgUDAwUKBwYHCgoKCgoKCgoKCgoKCgoKCgoKCgoKCgoKCgoKCgoKCgoKCgoKCgoKCgoKCgoKCgoKCgr/wAARCAEgA2ADASIAAhEBAxEB/8QAHwAAAQUBAQEBAQEAAAAAAAAAAAECAwQFBgcICQoL/8QAtRAAAgEDAwIEAwUFBAQAAAF9AQIDAAQRBRIhMUEGE1FhByJxFDKBkaEII0KxwRVS0fAkM2JyggkKFhcYGRolJicoKSo0NTY3ODk6Q0RFRkdISUpTVFVWV1hZWmNkZWZnaGlqc3R1dnd4eXqDhIWGh4iJipKTlJWWl5iZmqKjpKWmp6ipqrKztLW2t7i5usLDxMXGx8jJytLT1NXW19jZ2uHi4%2BTl5ufo6erx8vP09fb3%2BPn6/8QAHwEAAwEBAQEBAQEBAQAAAAAAAAECAwQFBgcICQoL/8QAtREAAgECBAQDBAcFBAQAAQJ3AAECAxEEBSExBhJBUQdhcRMiMoEIFEKRobHBCSMzUvAVYnLRChYkNOEl8RcYGRomJygpKjU2Nzg5OkNERUZHSElKU1RVVldYWVpjZGVmZ2hpanN0dXZ3eHl6goOEhYaHiImKkpOUlZaXmJmaoqOkpaanqKmqsrO0tba3uLm6wsPExcbHyMnK0tPU1dbX2Nna4uPk5ebn6Onq8vP09fb3%2BPn6/9oADAMBAAIRAxEAPwD9/KKKKACiiigAooooAKKKKACiiigAooooAKKKKACiiigAooooAKKKKACiiigAooooAKKKKACiiigAooooAKKKKACiiigAooooAKKKKACiiigAooooAKKKKACiiigAooooAKKKKACiiigAooooAKKKKACiiigAooooAKKKKACiiigAooooAKKKKACiiigAooooAKKKKACiiigAooooAKKKKACiiigAooooAKKKKACiiigAooooAKKKKACiiigAooooAKKKKACiiigAooooAKKKKACiiigAooooAKKKKACiiigAooooAKKKKACiiigAooooAKKKKACiiigAooooAKKKKACiiigAooooAKKKKACuN%2BOP7QHwm/Zx8JW/jT4veJ5dPtL7U4dN0u2stLub%2B91K9lDGO1tLO0jluLudlR2EUMbvtR2xhWI7KvFv2u/gP8VPiX4h%2BGfxl%2BBd14fl8X/CrxjPrWmaJ4tu57bTdYhudLvdMubaW4ghmktH8q9aSOdYZtrR7TGyu2ACjpH/AAUr/Y71rxm3w8tvHviCDW7fSodU1bTtR%2BHOvWkmi2EhuAt3qXn2SDTIAbWcNLdmFEKYYqWUGbwn/wAFH/2NfGfg/wAQ%2BOtM%2BLFza6f4Y0e11fVBrnhPVdMuJNPuXMdreWtvd2sU19bzyAxwy2ySpM5CRlmIB86vP2GPjP8AHW0/aRP7Qt74V8My/tB/CPTvBskfgrWLrUzo7RWusWsr%2BbcWtqZ1VNRiZDsXeyygogxuy9Y/Y2/at%2BM%2Btaz8UP2lPh38G9X1e0%2BE6eBtB8E6d4n1QaRrSy6jaXt5fXd2bBJ9PYmyg%2BzxQw3BtnDP50hIwAeyX/7fP7N2k%2BAbH4h6tdeOLSHVPED6Jpeh3Xwj8SR67e3yW5uXjh0dtPGoShYAZTIluUCKzFsA49P8JeOfDfjbwTY/EPRbi5i0rULBbyCTVNPnsZY4iu7MsFykcsDAfeSRVZSCGAIIr41tv2Gf2tJfgpJ4W8feGPCnjS%2Bh%2BIcut%2BC9B1n9ofxXb3fgOxOmxWoi0/xbHp7atcSGUXcreZDGBHeGENsjGfUvB/7Bmq%2BKfgJo3hb9pz46%2BOPEfj5PhtdeFtf8Q6T8Q9at9Muhc2tzbyTPpa3SWN5MiXTBbq4tmmdoopWKuibADc8Mf8FJP2MvF/h7xJ4s0b4tXK6Z4W8GXni6/vr7wlqtpFe6BaruuNU09p7VBqtogK5nsvPQmSMAkyIG4n40f8FdP2YfAf7M/wATf2gfhW%2Bs%2BM7v4b%2BDYfEjeGW8L6xps2r2Nw7R2t3avNYFrixlkRh9vgjmtkVWdnCqSPHfC/8AwSh%2BNC/BPxf8LPFnh3w9J4h/4UL4j8A%2BC/Hmo/tD%2BNvECSXGpWEdp5h0jVUkttGtpDDE8scEl0yeVGqFggz6P%2B1L/wAE5vih%2B0BYeKtE0Pxj4d0q2179le%2B%2BGlrLM87GDVpLiOWGdo1iANqNhBIbzBnhO9AHqkv/AAUU/ZZt/E3hrwJeav41tvEni7TpdQ0HwpefCTxLDq8tnFd/Y5LmSwk08XNvCkxG6SaNEVGWUkRsrmXwN/wUT/Y7%2BJGqarpXhD4tyXB0rQ9Q1lbufw1qVvaapp1iwS8u9NuZrdYdVhhYqHeyedVLqCfmGcXwR8APjz4x/apsf2oPjn4f8HeH5JPg5f8Ag/VNE8J%2BK7vVTBcy6tHcpJDcz6fZl4mgiUsTGjJIdoV1USHwGb9hz9pf4bfs8%2BF/Cnxo1rwIPCP7N3wP8SaB4L1PwrfXcmpeKd2hHTLe4vbeW2ii04JZozSQxS3QknZXDxqgQgH0D4U/4Kl/sL%2BNPBus/ELQ/jLdrouheDj4tutRv/BmsWcdzoIKB9Vs/PtEN/ZxmRBJPbCWOLcPMZc167a/GD4c3vxcuPgVZ%2BIxN4qtPDUGv3emRWsrCHTp55beGd5QnlL5ksE6ohfe3kyEKQjEfFX7I/7P3xC8WfBL4Q/Hb9t/Uvhlovww%2BG/7L9z4fgk07W5wmr6bqmnaWby%2B1X7VBDDpkEVppyq0CS3CZleRplWNVrsP%2BCK3wr8d6P8As76n8evit4tbxFrHjW%2Bg03w54hlgaOS%2B8I6JF/ZWiXBD8/6VDDNqhPd9WcgKCFAB9lUUUUAFFFFABRRRQAUUUUAFFFFABRRRQAUUUUAFFFFABRRRQAUUUUAFFFFABRRRQAUUUUAFFFFABRRRQAUUUUAFFFFABRRRQAV4jpH/AAUY/Y91K716z1P4pXnh5vDnhy58QahJ418I6roMc2k27pHPf2smpWsC31ujyRK0tsZUBljGcuufab2K5ms5YbO6EEzxMsUxj3%2BWxHDbT1wecd6/MTV/%2BCOX7cvxf1bwvrnxu%2BOOhvrfhrwfqFnqHijUPit4m8TjxDrf2zSr611E6XfRQ2Wk20lzpi%2BfYWQCiOTassgVAoB9sv8At/8A7MNr8NG%2BLGseIPFWlaW2uQaNY2eufDLX7DVNTv5kMkMFlptxYpe37SIGdfs8MgZUdgSEYjovAf7VnwP%2BI%2Bv2XhPw54h1SHV7/wAKT%2BJIdI1rwrqWmXaabDd/ZJZZYby3ikgdZ/kMMirL32bea8m%2BJ3wc/bd%2BMTfD342654N%2BFWh/EP4UeOptY8P%2BGbXxxqV/ouuWdxpN3plzHcXz6VDNYzFL2SSN0tbgRmIKfMEjYq/En4Dftwa/8ZfDv7TXgfRvhXaeLL74Yar4L8Y6FqXivUpLDSFuL%2BG6tb%2ByuE04SagYhG6yW8sVoJS4xLFjkA7jSf8Ago3%2ByB4j17wL4W8K/EbVdZ1P4k%2BDdK8W%2BDdO0TwPrN7PeaHqL7LXUZEgtGa1t92PMknEa24ZTN5QYE7Hw1/bc/Zu%2BK/xGufhP4Z8X6tZ6/b6Xc6nDZeJ/BmraIt/Y28iRz3dlLqNrBHfwRvLEHltmkRfMQkgMpPlH7Cn7CXxY/Zh1/4caz488QeGrs%2BDv2UvCPwxv30i5nlZtW0t5muZovMgj3Wrb02MxV22/NGmBXjXw0/4JV/tjeJ/ij4X8TftTfGGz1SLT/AHivwv408TQfF/xJrV54il1exS2/tO10y%2Bhj0/QjlSxtLRSi5UCZxGq0AfUvhP/gov%2ByP410WPxVoPjvXP7DuNV0vT9P8AEt78P9btdK1GXUr2OyspLS%2Bns0tryCW5mijFxBI8IMqFnCsCfS/C3xd%2BHnjX4geKfhd4X8Q/a9c8FyWcfie0S0mC2Ml1B9ogjMrII3doSshRGZkWSMsFEibvmHxx4E%2BIvhX/AIJ7eNPgR/wUM8T/AAq8EeAtB%2BGkWgW3xM8O%2BLbsM06RpbWupPaXVnAmmzLMLeSGCO4umM5REcnaG7X/AIJX/D74seG/2RNK%2BKv7RVglv8TvixfS%2BOviJCtu0X2e/v1jMNpsb5k%2By2MdlZ7TkgWuDQB9G0UUUAFFFFABRRRQAUUUUAFFFFABRRRQAUUUUAFFFFABRRRQAUUUUAFFFFABRRRQAUUUUAFFFFABRRRQAUUUUAFFFFABRRRQAUUUUAFeL/Hrx/8AtF/8NF%2BBfgR8BfGfgrw%2Bmv8AgrxLr2r6n4v8F3etEnTrvQ7eGGGO31Kx8sN/akrMzM%2BfLQALyT7RXhfxF1pbP/gpV8IdFkUYvfgn8Q2Ru%2B6PVvBpx%2BTMfwpNpblwhKo7R7N/dqy9/wAIP/wUL/6Og%2BDP/hh9W/8Amoo/4Qf/AIKF/wDR0HwZ/wDDD6t/81FezUUyDxn/AIQf/goX/wBHQfBn/wAMPq3/AM1FH/CD/wDBQv8A6Og%2BDP8A4YfVv/mor2aigDxn/hB/%2BChf/R0HwZ/8MPq3/wA1FH/CD/8ABQv/AKOg%2BDP/AIYfVv8A5qK9mooA8Z/4Qf8A4KF/9HQfBn/ww%2Brf/NRR/wAIP/wUL/6Og%2BDP/hh9W/8Amor2aigDxn/hB/8AgoX/ANHQfBn/AMMPq3/zUUf8IP8A8FC/%2BjoPgz/4YfVv/mor2aigDxn/AIQf/goX/wBHQfBn/wAMPq3/AM1FH/CD/wDBQv8A6Og%2BDP8A4YfVv/mor2aigDxn/hB/%2BChf/R0HwZ/8MPq3/wA1FH/CD/8ABQv/AKOg%2BDP/AIYfVv8A5qK9mrz74geP/gZ8NBqfjD4%2B%2BOPCnh/TzrUWn2WpeMNUtrSDzDaRyrBHJcsq7yBK%2B0HJCsccHEznCnFym0kurdl97sjbD4fEYuvGjQhKc5OyjFOUm%2ByjFSk3o9Em9Njmv%2BEH/wCChf8A0dB8Gf8Aww%2Brf/NRR/wg/wDwUL/6Og%2BDP/hh9W/%2Baiq//DX/APwTg/6Oi%2BCP/hbaP/8AHaP%2BGv8A/gnB/wBHRfBH/wALbR//AI7XN9fwH/P6H/gcP/kj2v8AVLiz/oXYj/wnr/8Aygsf8IP/AMFC/wDo6D4M/wDhh9W/%2Baij/hB/%2BChf/R0HwZ/8MPq3/wA1Fdh8NPEn7OXxo0KXxT8Hdf8ABPizTLe7a1n1Hw1dWd/BHOqq7RNJAWUOFdGKk5AdTjBFeT/EH9tn9k74Q/Gv4ifCL4seB9Q0O0%2BGngbTvFPiHxbJ8P7%2B40qKyuRfMxa5gtHij8tLInLP%2B8Z2jj3PDKq9MJwqRUoNNPqndfero8XEYfEYSvKjXhKE4uzjJOMk%2BzjJRknqtGk9djqP%2BEH/AOChf/R0HwZ/8MPq3/zUUf8ACD/8FC/%2BjoPgz/4YfVv/AJqKib9pv9lC2m8Nx6x4T17SofFdxDb6Rf658H9bsLRZpr17K3jubm4sEhsnmuFCRLcPE0vmwsgZZomfmdd/bp/Yp8BWhPxJmsbe7a98VrDa%2BG/A%2BrawRZ%2BH9VOm6jdSi303fCkErRCZmXykLsUlmiUTtRidX/wg/wDwUL/6Og%2BDP/hh9W/%2Baij/AIQf/goX/wBHQfBn/wAMPq3/AM1Fd9oEfwY8V3E9p4Xj8MajNbQwTXMNitvK8Mc6eZC7quSokT5lJxuXkZFeH/s/ftVaJ8aPilo3hfXP2btE0Pwx4503XdQ%2BGfiSHVUu59Wt9KvYbWY3dqbSMWLTJPHcwKktxuhD%2BYYXURkA7L/hB/8AgoX/ANHQfBn/AMMPq3/zUUf8IP8A8FC/%2BjoPgz/4YfVv/morjfFn7VWieGvjxqPge3/Zu0O58CeHviJovgPxP41bVUjvLTX9VtLO4tEi0/7IVntc6lpsLzm5RlkuiBE4idqrj9rKy8I%2BF/jr4g%2BMn7L%2BhaTP8GbyJLPTvD%2Btx6lJ4gjuLKK6s1DSWduttPKZo4vLJkRGYEykZIAO6/4Qf/goX/0dB8Gf/DD6t/8ANRR/wg//AAUL/wCjoPgz/wCGH1b/AOaivFfip%2B36nwU0GTRfiv8As4fCzwz4ysPifYeEtah8R/E0WXhuzhvdGn1W31H%2B2H0nf5TLA1vse0jbz1dclQjv6B8fPjr4y%2BBXwhsPj9J%2BzH8Ode8I2fh6z1Pxhf6T493SxtNIitDpCHS9uqnDgxGR7Pzy8aqAz4AB1X/CD/8ABQv/AKOg%2BDP/AIYfVv8A5qKP%2BEH/AOChf/R0HwZ/8MPq3/zUVz3xF%2BLvxC%2BHX7VHgT4FXn7L3w6vfDvj3Vb%2BKy8QWnjab%2B07HT7LT3urjULjT20cRLGsot7bC3bHfeQHIBbb5Pe/8FJtI0L4G6p8c/Ff7JHhrTLDUvhL/wALI%2BGMdx4rQLrug/aLaItqDnTx/ZU6Lf2ErxqLpVW6x5haNlAB7z/wg/8AwUL/AOjoPgz/AOGH1b/5qKP%2BEH/4KF/9HQfBn/ww%2Brf/ADUVxmvftIW%2Bi/sqQftOjw1%2BzZ/Zy3zDUdcufjiIvC0FnuaNJU1r%2BxSJJWm2R%2BUYEUMxHmEgK3nXjr/gpv4C8Jap8OLH/hlzQ7Cbx/4H8M%2BI7fw/4v8AEEWk67fHWLxrX%2BzdHsDZy/2vfWhUSXMPm2/lpcW5LfvflAPeP%2BEH/wCChf8A0dB8Gf8Aww%2Brf/NRR/wg/wDwUL/6Og%2BDP/hh9W/%2Baiuaf9pvwfrP7asv7H3gH4BaPqccPgjWdUl8YXV5Hb2g1nT5NKD6QI1tpGbEWsWkklwpIjLiMJI4kEfDTftn%2BO/DGpfELwt8RP2Ofh7Bq/g7xf4S8JaVL4f%2BIUl5pl/ruuyRbbW6urjRrZrJbeG70%2BaR1inLLeoqIz4RgD17/hB/%2BChf/R0HwZ/8MPq3/wA1FH/CD/8ABQv/AKOg%2BDP/AIYfVv8A5qK8r079tW48cw6b8Pfg5%2Byh4Q8R/E46n4rtPEXhNvGCQabp48PXFrb37RaiNPka4Z5dQ05YUa3iLG7/AHvkGNwMGT/gp38GdY%2BLPw%2B8FeBPgb4XvNL%2BIemeD9R0KLV/EMVj4i1az8QMpjvNL0n7JINRtrOJvOvJftEXkRw3B2t5Q3gHuX/CD/8ABQv/AKOg%2BDP/AIYfVv8A5qKP%2BEH/AOChf/R0HwZ/8MPq3/zUV5v8Iv2ytM%2BLfj2x8F2f7OfgvTh4103xVP8ACl7vxWrXGrT6FerZ3EGpQJp5Ol73dXDRG8KIsgkVJFWJ7PgD9q%2B4bQfi7rHxv/Zg8IaO/wAL/E9l4b0%2BLwT4mbW18Ta1c2lrMmn2rXOm2JExlv7K1XKspmldSy%2BU1AHf/wDCD/8ABQv/AKOg%2BDP/AIYfVv8A5qKoeB/HH7Vng79qzw58Efjd8R/h74m0bxN8PfEOuQzeFfh5faLdWl1pt9oluis9xq98ksbpqkpKhEYNEhDYyDc/Z3%2BJGj/tD/si%2BH/2jJfhRpnhTU/EHhc6m2lWNyt1/Zs4VvkS5EMJlCsvD%2BWmf7o6U/xx/wApC/hf/wBkZ8ef%2BnbwhQB7NRRRQAVwv7RP7SPwh/ZT%2BGs/xe%2BOOt6lpvh61l2Xd9pvhu/1RrcCN5GkkisYJpEiVI3Z5WURoFJZlFd1XhX/AAUt8M/FT4g/sNfEv4T/AAW%2BDus%2BN/EnjLwhqOg6XpGi6hptq0Ut1ayxrPLJqN3bRLCrFQ212k%2BYbUbnAB6d8XvjH8PPgT4Kk%2BIHxN1mez05Lu3tIlstMub66urmeVYYLe3tbWOSe5mkkdVWKJHdieAa8/8AFH/BQX9kjwb4G0D4ka98ULhdI8SWd/eWM1r4X1O4ltrWxlWG/ub2GG2aXToLSV1iuZbtYUtpGCTNG3FYP7RFp8aPi/4O8B/E3wt%2Bzf4ot9X%2BH3xA0rxRN4I1fVtFS91WA211a3NrDJFqElqLiBLtpQJZ44nkhVVlwd48Bn/ZY/a48DeG9e8caD%2BzxL4h1f4peEPiJpd94Vj8R6ZEfCV1r3iCbVNPN3JNcrFLbiK5ZbxrRrh1liBhjuFbcAD9AkdJEEkbhlYZVgcgj1r5y%2BE3ir9u/wCOuj69478L/G/4SaBpdv8AELxVoel6Vf8Awf1S/uIrXS9ev9MhaW4TxFAssjx2auzLFGu5yAoAFewaP8M9Y0b4I6b8I9I%2BI%2Bq6Te6d4etdMi8UaTBateRNDEkfnxpdwzwljsziSORfmPB615J%2Bw5o9/on7KV74c1fxRf63PF8afHFpe6vqSQJc6hnx5q0cksotooog8gLFhHHGmWIVVGAADo/%2BEH/4KF/9HQfBn/ww%2Brf/ADUUf8IP/wAFC/8Ao6D4M/8Ahh9W/wDmop%2Bv/tQf8E/fCmu3vhbxT%2B0R8HNN1PTbuS11HTtQ8XaVDPazxsUkikjeUMjqwKsrAEEEEZFVP%2BGv/wDgnB/0dF8Ef/C20f8A%2BO1yvHYFOzqw/wDA4/8AyR70OFeKakFOGX4hppNNUK7TT1TTVBpppppptNNNNpplj/hB/wDgoX/0dB8Gf/DD6t/81FH/AAg//BQv/o6D4M/%2BGH1b/wCain6B%2B1B/wT98V67ZeFvC37RHwc1LU9Su47XTtO0/xbpU091PIwSOKONJSzuzEKqqCSSABk1e/ar%2BJfwq/ZQ/Zv8AGv7SXin4XLq2n%2BCvD1xqt1pukaIJri5WJc7EWONiMnGXI2ouXcqqsw1pV6FdN05qVuzT/Js8/HZXmeVzjDG4epScldKpCdNtbXSnCDavpdJq%2Bl76Gd/wg/8AwUL/AOjoPgz/AOGH1b/5qKP%2BEH/4KF/9HQfBn/ww%2Brf/ADUVQ0n9rP8AY/1zxvL8NdL8Na/L4htvDi69qGi/8Ka11brT7B47t4pbqNtPDWrS/YblYo5gkkzxiONXd0VnaZ%2B05%2BzB4mk8O/8ACK6ZYIdZ8dTeFb2w8S%2BEtR0fUbG%2Bj0a61cwtZXNgJklNrbrMq3C28bwyeYsrMYo5tThLv/CD/wDBQv8A6Og%2BDP8A4YfVv/moo/4Qf/goX/0dB8Gf/DD6t/8ANRVD4Kftf/sL/tBaNN4j%2BG3ibS/7Oi8P6frqX/iLwjd6LBc6XfMy2t7BJqNtAtzbyOpQSxF1D4QkMQKu/tG/ERvhXr/g/wCGnwg%2BAHhrxd4z8bXt4mlaXrWqrpFjBa2dq1xc3M90lndOgH7mJVWFy0lxHnYgd1AHf8IP/wAFC/8Ao6D4M/8Ahh9W/wDmoo/4Qf8A4KF/9HQfBn/ww%2Brf/NRXPa/%2B1J8LYP2LfDX7X/hP4KWV4PF48O2%2BjeHdUMFn5F/rF/aafBBd3IjkW3jiubxFmlVZNqxyFFkO1W4q1/bcXxFfWXws8E/szeArz4lJ4u8QaB4i0a%2B8crbaFp0%2Bj2tvd3OzVBpryTs0F5aOkZtI2%2BabzPKEDmgD1b/hB/8AgoX/ANHQfBn/AMMPq3/zUUf8IP8A8FC/%2BjoPgz/4YfVv/morwLXv%2BCqHwUfXPhoPAXwK8LX2l/Enwd4U8RaJBrviWDTta1mHXLxrZbbRbAWky6vcWYUS3aCeEQpLEdzB8j1jxF%2B0C/wo%2BOsXw3%2BP37O3g7QfDWraR4h1Xw74l0XxJ/aV2bHSBFJNcX1k2nwi0R4ZUYGKa5CuyRvtZ1yAdL/wg/8AwUL/AOjoPgz/AOGH1b/5qKP%2BEH/4KF/9HQfBn/ww%2Brf/ADUVi/sV/Hvwz%2B134V1Lxz/wrj4Y2OnxC1aysvC3jq31/UbMzI8httWgis4o9NvI08rdAktwNzOBJhAz%2B1%2BDBs0MwKTshvruKIE52olzIqr9AoAHsKAPLv8AhB/%2BChf/AEdB8Gf/AAw%2Brf8AzUUf8IP/AMFC/wDo6D4M/wDhh9W/%2BaivZqKAPGf%2BEH/4KF/9HQfBn/ww%2Brf/ADUUf8IP/wAFC/8Ao6D4M/8Ahh9W/wDmor2aigDxn/hB/wDgoX/0dB8Gf/DD6t/81FH/AAg//BQv/o6D4M/%2BGH1b/wCaivZqKAPGf%2BEH/wCChf8A0dB8Gf8Aww%2Brf/NRR/wg/wDwUL/6Og%2BDP/hh9W/%2BaivZqKAPGf8AhB/%2BChf/AEdB8Gf/AAw%2Brf8AzUUf8IP/AMFC/wDo6D4M/wDhh9W/%2BaivZqKAPGf%2BEH/4KF/9HQfBn/ww%2Brf/ADUUf8IP/wAFC/8Ao6D4M/8Ahh9W/wDmor2aigDxn/hB/wDgoX/0dB8Gf/DD6t/81FH/AAg//BQv/o6D4M/%2BGH1b/wCaivZqKAPGf%2BEH/wCChf8A0dB8Gf8Aww%2Brf/NRR/wg/wDwUL/6Og%2BDP/hh9W/%2BaivZqKAPGf8AhB/%2BChf/AEdB8Gf/AAw%2Brf8AzUUf8IP/AMFC/wDo6D4M/wDhh9W/%2BaivZXdIkMkjhVUZZmOAB61w/iz9p79mvwCzp46/aF8D6K0f%2BsXVvFlnblfr5kgxWdSrSpK85JLzaX5tHVhMBjsfU5MLRnUl2hCU390Iyf4HJf8ACD/8FC/%2BjoPgz/4YfVv/AJqKP%2BEH/wCChf8A0dB8Gf8Aww%2Brf/NRXPeMv%2BCsX/BOTwKrNrf7XXhOfZ1/sa4k1H8vsiSZ/CuSH/BaH9j7WPm%2BG3h/4l%2BM1b/VP4Y%2BG9/KJf8Ad81I64J51lFOXK8RC/ZSTf3LmZ9dhvDPxExdP2lPKMRy/wA0qU4R/wDAqnso/ienf8IP/wAFC/8Ao6D4M/8Ahh9W/wDmoo/4Qf8A4KF/9HQfBn/ww%2Brf/NRXmP8Aw9W1HUufC3/BNz9p69U/cnn%2BGAt4n9wz3HT8KD/wUU/ad1bjwj/wSp%2BL05P3f7ZubLT/AM97tio/tvLH8M2/SFR/%2B4zo/wCIXcbx/i4eEP8AHiMJH88Wz07/AIQf/goX/wBHQfBn/wAMPq3/AM1FW/2VviN8afGGsfFDwJ8dNf8AC%2Brap4B%2BIUWh2eq%2BE/DVzpNvdWsug6Pqas9vcXt4yyLJqMqFhLtKxodqnOfJv%2BGtf%2BCo3iX5PCf/AASrt9KjP3bzxJ8Y9NA/GKKPePzrof8AgnXrHxl1/W/jzq/7QPg/SNA8XTfGaA6tpGhagbq1t8eEfDYiCSkAuTCI2b0ZmA4FdGGzCji6jjCM9r3lCUV98ktTx874RzLh/Cqviq2Hd3y8tPE0K01o3dxoznaOmrb0bS6n0nRRRXcfLhRRRQAUUUUAFFFFABRRRQAUUUUAFFFFABRRRQAUUUUAFFFFABRWP8QPiJ8P/hN4Ov8A4ifFPx1o3hnw/pcQk1PXfEGpxWVnaIWChpZpmVIwWZRliBkgd6daePvAmoeBIvijYeNdJn8Mz6Suqw%2BIodSiawksGi84Xa3AbyzCYiJBIG2lfmzjmgDWr5f/AGgdY/sz/grL%2BzTZbsf2j8L/AImW%2BPXEvheX/wBpV9BfDX4p/DH4z%2BELf4g/B74j6D4s0C7d1tNc8NaxBf2czIxRwk0DMjFWBU4PBBB5FfKf7YurnSv%2BCxv7GMRbCXvhr4oW7n62GjOB/wB9IK5cZP2dHm84/jKK/U9zh3DfW8z9l/07rP8A8BoVpf8Atp9lUUUV1HhhRRRQAUUUUAFFFFABRRRQAUUUUAFcT4r%2BEXwn%2BNEGr%2BFvjF8MPDvizTLfxBFdQad4m0WC/gjnWyhRZVjnRlDhXdQwGQHYZwTXbV5P8d/2rfgF%2Bx94a1H4l/tF%2BPf%2BEd0S%2B8Vw6Za3v9l3V3vun09JVj2WsUjjKQyncVC/LjOSAccRPD06EpV2lBLXmta3nfS3qNY%2BWVP63Gs6Tp686k4OPS6kpRcd91Jb76if8MD/ALCv/Rlnwl/8Nzpn/wAYo/4YH/YV/wCjLPhL/wCG50z/AOMV5J/w/N/4JZf9HRf%2BWTrn/wAhUf8AD83/AIJZf9HRf%2BWTrn/yFXi/XuFf%2BflD/wAp/wCRp/xFLE/9D2f/AIWVf/mg%2Bkvhp8IvhP8ABfQpfC3wd%2BGHh3wnplxdtdT6d4a0WCwgknZVRpWjgRVLlURSxGSEUZwBXiv7Sv7C/iv48eLviVqfh/4z6boWj/FX4X2HhDxLp174QkvriFrKXU5La7tp1vYVQZ1OQSRPFJvESbXjJYn0n9mj9q34Bftg%2BBLv4l/s6ePf%2BEi0Sx1eTTLq9/su6tNl0kUUrR7LqKNzhJojuClfmxnIIGP8Sv2y/hh8K/FniXwL4l0HXn1jw5L4Yjj0%2B1tYGk1b%2B3799O09rTdMocG7imicuY9nkux%2BQBj7WHnh6lCMqDTg1py2tbytpb0M3j5Zq/rcqzquprzuTm5dLuTlJy23cntvoeVftff8Ex5f2rPj1b/GW5%2BKXh2zihl8MTW8ev8Aw7TWNS0eTR9WOoEaTevdxjTUu8iK42wu7hQQ4wFGx4d/4J2LoOu6rrZ%2BL4m/tPQfiZpvl/8ACPbfK/4S7xFDrO/P2g5%2ByeV5G3jz92/MWNh5r49f8FY/h34O8N/HvwN8NNKt4/iX8I/hL4t8X6Tpmt61pOoWmoHRYfnM0Ol6lNdWyedLa5hultJnSY7BlJPL7zVv28NB8P8AxH8SfCnTfh14r8a%2BJdP%2BIFz4f0vwz4T0azgujDbaJpmqXVyZbzUEhlhiXUYQZWaB2eeOFIHZRJLsI9U%2BDPw%2B8R/CzwJpHw71PxTZapYaD4f07TNNkg0l7aY/Z7ZYZJJWM8ivvZAyqqpsB2kyferxz4O/sK%2BOfg/41s/EFl8dNM1DTPBWheItN%2BEWjXXgx1GhDVruK5ZtQkW%2BB1MW4git4ljFmfI8wOzyMJl7L9iD9pHVP2nv2Zfh58XfFmjmz1zxb4B03xFqMVjol5b2EZukJ2RSTBlDAq2YTI0qAqXADKT534J/bG%2BNmvfHnQZdW03wsPht4x%2BMXiT4baDp9vptyutWd/o9pqkr6jPdNcmGWGWfRL%2BIW626Miy27mV/nUAG54o/Yb8QeI/jpf8AjdfjJbQeB/EHxC0Tx54p8Gf8IwWu7zxBpVpZ29rJDf8A2oLb2pOm6bM8Bt5HaS1JEyiVxWPe/sH/ABg8ca38dbb4t/tD%2BGr3w98ZrRBbWfhr4dXGnaj4fure3gtrG5W6n1W6iuTDHAjspt0EkwDDy0BiMf7TX7Y3xt%2BFfxT8Yv8ADzTPCzeDfhNovhvU/HdtrOm3M2o6xHql9cRTR2M0dzHHaNbWtv54aSK4E8koixCFMhd8Tf2gv2wfhf8AtU3vw20e78EeO/D9l8NPEnjW78L6H4EvrLWbaC2eOHSNP%2B2tqs8U1xdzvMgcWiKwsZyFQlVAB0fhH9mT9pbwTa%2BKPHWk/tD%2BBrr4j%2BNfEtrf%2BIfEGqfCq6l0hbK209bKCytdOTWUmgICeaZXu5SzzTjaFdFj4iT/AIJ0fGLw5pnwh8GfDj9pXwz/AMIp8KLJriPwt4x%2BGc%2Bo2up68Z2lTVWW01WyWMW%2B9xa2pWSK3ZhIN8kUDRZX7N/7e3xN/aB0vx/4G8O/Gj4a674k8LeANB8XweLfBPw71bVdNs472W%2BW60iXS4NRa6vL63GnuNkU8crNdxKbdHQxycvqX/BTT46j4SeDvFOo658OvBj6yPG32jxj418KalBYapdaHqMNpZaVHprXsV1pmo6hHLLMtpcSy3MBs5o/InfIQA%2Brk%2BAcd3%2B1Nc/tL%2BIPE4vvJ8AR%2BF/DmhtYbV0tJbx7rUZ/NLnzTdGLTVK7ECDT15ff8vk3wP8A2Dfir8C7TT20T9ofQ9TvPAvw6j8C/CCTVvh/K8Oh6KtzbSsuoRpqKtqlw8djYxNNG9oMWoYIGZieN03/AIKPfFn4h2dl8efht4b8N2nwz02f4fW3iTRtY0%2B4l1q8k8UDT5DLb3SXCQ262cOrWUhR4JjcFJ0DQ4VjofFn9tv9pT4I/GL4kfDk%2BGtJ8et4c%2BFHiPxhoWmab8N9Z0CVZ7FrNrOxjurq5uI/EAlS7Iml06MG3eBVeMPcRRgA7/wL%2By5%2B0Z8K/DHim7%2BHv7QfgiPxf4%2B8c3HiXxpqWrfCu4n0iWSSwtLFYbPT4tXhktQIrKBmaS5nMkjTuwJl%2BXzy%2B/4JU6tZ%2BC7T4UeDv2jRD4Vvvht4b8F%2BMYdc8Hi%2B1C5s9Hurm4in025S6hj0uaQ3UoOYbhIykLRJG0eW5W0/4KieMrnQde8M6P8AGn4R67LofjfQNN1P42aXoV2vg7SNK1Sxu7hb25g/tJy3l3NlJYswvliEtzAXeMrJEvVaB%2B3Z8cviN8A/hN%2B0J8N7/wACyaTrHxlbwH48W48P30n9rBPEzaD9u0pvtifY45DDNdIJxckJLEhyQzkA7nwt/wAE2Pgv8Pf2t/Dn7Vfw78UeL9MfRLHxX9s8MT%2BPddvLC8v9dvbK7uLpYJ9Qa3t08y3uHe2SDypZLmOUhXtYSNnRf2QtS8O/s8%2BNfhLD4p8Ka/r/AI88Xapr/iHWPHPgQ6rpV9Le6gZ/IuNMF5EZ4YrMQ2Uam4BCW0TEkqVPNS/tT/F3Sv27NT%2BBvj3xPonhPwQmqafYeEv7W%2BE%2Btu3iiefTBcyRQeIPtaabDOsxdFtzE8rCJlCkncPFfDf/AAVd%2BPMNx44vvE/gnw7d/wBleCfEuq6LoY8L6npAtNSsdatdLsrNNTuZ5LfxDbzNdbp73To1jtDGqyDdcRLQB6l4W/4JseJPhB4a8Nat%2Bzr8bdB8H%2BPNG/4SSPUfECfDtZNKuLbXJLSW7t7bS4byAWaQvp2mi1HnSCJLFFkFwWdmgtf%2BCXX/AAi0mleAfh38bIdP%2BHNofAzX3h/U/CpvNXX/AIRU2p0%2BOy1MXUa2cT/YoPMRraYhnuHiaJpiywT/ALXP7V1h8SV/ZBvNS%2BHj/E25%2BI9vodt41i8JXw0NNLl8OXOtm8bSzqRnMwNpPZ%2BSL0Alo594BaEclqn/AAUu/aH1b4XeIvin4S8JeDLGL4O/CU%2BN/jDpuo2F3dNq3k6prVhdWWlSpcxC0x/wjmqyJNOlxnzLZTHy7UAe1/Df9h6w8M/tb6l%2B1n4uuPAb6l5epxaLD4L%2BGyaJcyC9ljLXGq3Zup5NUu44YVhSXECAS3DeUTIvlv8AC3/BP34WS/AjRPg/8YPEGueIdR0zxvqPjO78VeHvEOp%2BGry48QX097NcXiS6beRzxL/p9xGkPnOqx7F58tSPOtD/AOCiXi%2BH9tHTvgD401rwZbQa78UtT8F2fw%2Bg0y6XxNpkFvpd3fW2v3M7XJjeyuvse2NRaxqBeRYndo5EPVf8E4v2p/i7%2B0f4F839ovxPoll47/4RnSNV1n4eW/wn1vwpfeHGuo5TIsi6vdzPqMBlR4o7qBI4i1tLy5OEAOw/Zr/Zi0r9jn9jix/Z20fxlqniCLw9oN3G2r6tfXU8twzCRyR9quJ3jT5sCMSFVAwoA4pPHH/KQv4X/wDZGfHn/p28IV6l45/5EnWP%2BwVcf%2Bi2ry3xx/ykL%2BF//ZGfHn/p28IUAezUUUUAFFFFABRRRQAV4L%2Bx/wD8m9av/wBl78c/%2BrA1Wveq8F/Y/wD%2BTetX/wCy9%2BOf/VgarQB1mv8A7E37GXivXb3xT4p/ZH%2BGOpanqV3JdajqOoeAdOmnup5GLySySPCWd2YlmZiSSSScmqn/AAwP%2Bwr/ANGWfCX/AMNzpn/xivO/H/8AwWU/4JufC/x3rfw08dftHfYdb8O6vc6ZrFl/wiGsS/Z7q3laKWPfHaMj7XRhuVipxkEjmsj/AIfm/wDBLL/o6L/yydc/%2BQq8GeN4YU2pTo3u739ne/W%2Bm973NP8AiJuJofulnk48ulvrdVWtpa31hWta1rK1rWVrL2bQP2Jv2MvCmu2Xinwt%2ByP8MdN1PTbuO607UdP8A6dDPazxsHjljkSEMjqwDKykEEAg5Fa37TXwTsv2k/2dPHf7Peoa/LpMPjfwjqGhvqsEAlez%2B1W7wiYISA5QuG2kgNtxkZzXjXgH/gsp/wAE3Pih470X4aeBf2jvt2t%2BItXttM0ey/4RDWIvtF1cSrFFHvktFRNzuo3MwUZySBzXuPx1%2BMPhz9n34PeI/jf4y0zUbrRvCulS6nrKaVCkk8VnEN08wV3QMscYeVhnO2NtoZsKfQwNbLa0JPByg0nryctr%2BfKlrbuTLiSpxJ%2B9njXieTS7qyq8t9bXlUqWvvZNX3t1PI/EX7E3xC8f6D8XZfHvx9tYvEnxb%2BHem%2BGb7WvCfhWbTYdNksxqIW5iikvp5GRxfgNEZgcRNiQeYNnDfBH/AIJTRfCLxFD4mh%2BJPhCw2/FweOX0HwF8L49A0iBh4RvPDhs7a1S8lMIb7ULtpWeRmdGUj5w6ei/Gf/goh8Hfgtpfi7XNU8N6nqFj4K8W2fhvWNRHiDQdKtHv7jTYtRCQ3Gr6lZwybIJ4AwD798wVFfZIU5G1/wCCjuk%2BKfH0d/4JuLS48Ba54M%2BEmu%2BEdVi0KSe8uv8AhMPEGraaVmR7uFY4xFZ2ZVgC8DSTOyXOFgruJOr%2BBv7FHiH4BR%2BBLvwj8XLK5v8AwN8DdK%2BHVvLqHhd2hu/sckDG%2BaNLtWXesLAQhzsLg%2BY23a3WftG/ALxx8VPEHg/4mfB/4n6d4R8Z%2BCb28fStU1rw0%2Br2M9reWrW9zbT2qXVq7g/uZVZZkKyW8ed6F0bzDwb/AMFGj8TP2ivB/gjwh8H/ABNZeAfEfgrxZr9p4s1TQlnbxDDpNxp0Mc%2Blx2VzNOY3%2B1St5U9uk8waBoUIJz6T%2B1J8aPiB8PdG8C%2BFvg4mkQ%2BKPiT43t/Duhah4n0ue4stNzZXmoT3M9rHNbyzbbWwuAsQliJkZAWUZoAp%2BHf2WNY8Bfsu2v7K3gzxT4X1DQ9M8D2GhWP/AAnfgltYjvJ49wu7nUIFvII7uO4TbmBBDscyNvdXVE87s/8AgmvF4b/Z5f4L%2BEb34SPeat4ym8SeI5/E3wPh1HRku3gS3iOmaSL%2BKPTjbwQ20UBeS42pB84lZ2c9DpX7XXxTf9gnxr%2B0e/w7stY8ceBf%2BEr0y%2B0TR4bgWeoanoepX2myzQxgyTrbyyWRnEQMkqxvsy7jJ5P4I/tmfEf49eD/AImaP4K/aa%2BEF1f/AAw1Cyu9Q%2BKWl%2BBr2%2B8M6jo8%2Bnm6Zo7ZNZVklhkSeN5FvZox5ByodmjiAGa1/wAEs1stHtPhj8MPjfHpPgOfwT4S8LeIdI1rwt/aOqSWfh%2B5kntpLG/F1CtjNKZWMjvBcASfvY1jcknq/CP7F3xYk%2BO/xL%2BJvxu%2BNvhTxpofxGs7zR201vh7dWmqaP4edXS20e2vv7WkhSFN7SSutor3MztIxXEax%2BeeM/2nf%2BCgWmf8E8vBH7VOn%2BIfhbpXjvxRoumCDwbq/wAMtTnj1LV9ZvYbfSLNdmuRvZf8fdqlwGNyUYTOCFXbXf8Ajv8AbE%2BI1h%2B2v8Of2dvh/oWiX3hO/wDEt34c%2BIniK6t5vOTV/wDhHdQ1mG0sdsoVGijsoXuDIJBsv4EQ71kKAGr%2ByL%2Bxh4h/Zv8AE8nizxl8VdL8R3Np8P8ARPBGgR6H4PGjRW%2Bj6U909ublPtM/2m6JunDSr5MQC4jgi3Pu9n8H/wDIJm/7Ct9/6Vy1qVl%2BD/8AkEzf9hW%2B/wDSuWgDUooooAKKKKACimXNzb2cD3V3OkUUalpJJGCqoHUkngCvF/i1/wAFHP2FfgfHL/wsb9qbwdbzwZ86w0/Vlv7pPYwWvmSg/wDAawr4nDYWPNWmorzaX5tHqZXkmdZ5X9hluFqV59qdOdR/dCMrfO3qe10V8jf8PUta%2BKB8j9kL9hj4tfEgP/x7a1eaOuhaPNnpi8u%2Bn4oMCjy/%2BCzfxt%2BV7j4SfBHTJf4o1l8R6zb5%2BuLR8fhz7Vwf2zhan%2B7xnV/wRbX/AIFLlj%2BLPrv%2BIa59hNc3rYfArqsRXpxmv%2B4NN161/J04vpo9D65rmvH3xn%2BD3wptjefFH4r%2BGvDcSruaXXtdt7NQPXMrrXzZH/wSouviEft/7U37cnxk%2BINzIP39jbeJP7G0pvXbZ2owmfZ%2BldP4C/4JD/8ABOP4eXAvdL/ZY0LUbjdukn8Sz3GqmRu7Mt5JIpz9Me1H1jOavwUIw/xzu/uhF/8ApQv7I8NsDpic1r4hrdYfC8sX6VMVWh9/svkit42/4LEf8E5/BN9/ZA/aQsdcv2bbDZeFdLvNUaZvRWtonjP/AH0BWIP%2BCrb%2BLPl%2BCn7Av7QPixG/1Wo/8IJ9hsZPTE88o/Va%2BmfBPwx%2BGvw0sf7M%2BHHw80Pw/bYx9n0TSYbRMem2JVFblH1fOanx4iMf8NO/4zk/yD%2B2PDbB6YfKK1d96%2BLcV/4BhqMV8vaP1Pkr/hrr/gp34t58Cf8ABLBdMt2/1d94t%2BLenQn/AIFbxoXH50HW/wDgtn4z/d6f4H/Z78Fwt9%2BTVdS1XUbhB/siECMn68V9a0Uf2ZWl/ExVV%2BjjH/0mH6i/14yyh/umRYKHnKFes/8AytibN/8AbtvI%2BSv%2BGXf%2BCqvjP5/G3/BTLRfDcTf62x8G/CazlBHos9y%2B9frij/h2D8SPE3z/ABR/4KbftCaiW/1sXh/xXDpEL%2BxSKJuPbNfWtFH9i4GX8Tml/iqVH/7el%2BAf8RN4rpf7p7Ch/wBesJhIP7/q9SX3yb8z5LT/AIItfsV6y4k%2BKsnxA8eEHJ/4TD4iajPuPqfKkjzXceEv%2BCW3/BPDwWiR6P8Asf8AgiYJ0/tbSFvyfqboyZ/GvfKK0p5NlFJ3jh4X78qb%2B98z/E5cX4leIeOp%2BzrZtieX%2BVVpwj8o03SivlFHI%2BDv2f8A4D/Dtlf4f/BPwjoRT7h0bw3a2pX6eXGuK66iiu%2BFOnTVoRSXkkvySPkcTjMXjantMTUlUl3lKUn98pSf4hRRRVnOFeM/sv8A/Jb/ANo7/ss1j/6hXhevZq8Z/Zf/AOS3/tHf9lmsf/UK8L0AezUUUUAFFFFABRRRQAUUUUAFFFFABRRRQAUUUUAFFFFABRRRQAUUUUAcr8bvEXh7wl8J9d8ReKdC1TU7K1si0llovhq71i6kcsBH5VnZwzTzMHKnEcbFcbuApI%2BQ/CNt4o%2BJn/BGTwT8E9B%2BE3jseJvDvwn8Jx%2BI/B%2BvfD/VdKuryPSm0/8AtPTFS/toRLLLHbXMCxZPnBwV3I26vuaigDwT9ieDVtd8a/Gv4yQeDde0Hw347%2BJlvqXhaz8S%2BHrrSLy5hh8P6RYz3j2V5HFcWwkubSdQssaM4hEuMSKx%2BbP282%2BKnhj/AILGfse6/wCN/Gvh%2B/0S61HxlbeGbDSvDM9ndWEc0WjxSLdXEl7Ml2zb02tHDbhdrZD7ht/Q6vzw/wCCvmpHRf8Ago7%2Bw9qwJAXx3qsDt6LNqHh2M59vmrzc3lyZdOXZx/8AS6Z9t4dUPrXGOHo/zxrr78Li/wDI/Q%2BiiivSPiQooooAKKKKACiiigAooooAKKKKACsrw/8A8hbXP%2Bwon/pJb1q1n3vhjSL%2B7e/kFzFLIAJHtb%2BaDfgYBYRuoYgcZPOKANCisv8A4Q/Sf%2BfvVf8AweXf/wAdo/4Q/Sf%2BfvVf/B5d/wDx2gDUryn4q/sefCr4wftG/D39pzxRf6zFrnw5F5/Z%2Bn2N3GlhqhmjKxG%2BiaNmn%2BzM0ksG108uSRm%2BbjHoX/CH6T/z96r/AODy7/8AjtH/AAh%2Bk/8AP3qv/g8u/wD47QB81ah/wSS%2BCGsaX4h8M6x8aPiTc6Hrfw98Z%2BDNO0J9S01bbQdL8TzRTal9k2WIkeYSQoY5rl7hl5DmQYA7XxV%2BwT4B1nx9qvxZ8JfFjxv4S8Wap4zufER8ReHbuwM9s1zpNhpVzZRpdWc0RtZYNNtHZXjeRZYw6SIQoX2D/hD9J/5%2B9V/8Hl3/APHaP%2BEP0n/n71X/AMHl3/8AHaAOT/Zy/Z48P/sxfCvwt8FfAfjXxBfeG/CHhOy0HSLHW5raZvLtgyrcySpAkkk7qVVyW8siNSqKxZm5fQP2Hvh14d%2BOa/Gqz8e%2BK5Le08Saj4k0TwVNdWh0bSNdv7WS1vNUt1FsLnz5Yri7BSSd4Va8uGWJWkJr1T/hD9J/5%2B9V/wDB5d//AB2j/hD9J/5%2B9V/8Hl3/APHaAPIfiR%2Bwf4E%2BKvjSz8a%2BLfiz41Z5tK0TT/G%2Bn20%2BnxWvjWPSbt7uyOpItnlSs8szP9jNqsqytFIGiCxr3nh34EeFvDPxY8b/ABqsda1WTX/HVhpthfXM80TDT7OwimW2t7UCMbI1kubqfDmQmW6lOdpVF6L/AIQ/Sf8An71X/wAHl3/8do/4Q/Sf%2BfvVf/B5d/8Ax2gDy3w3%2Bx9feGrbxJrtv%2B1J8SLjxx4oj062v/iXdR6E2rRWNi8z21jFCuljT0gVrm7bH2QszXUrFi21lpn9hvT7T4Ty/CTw1%2B0p8S9Gt9X1TU9Q8a6zpt1pQ1DxTNqD7ro3UsmnuLbIJVDYraNEuBGU2rj17/hD9J/5%2B9V/8Hl3/wDHaP8AhD9J/wCfvVf/AAeXf/x2gDx7Xv8Agn18GNU%2BIGneK9F8ReI9C0G0k8PTal8P9FuLSPRNXn0KRZNJmuEe3e4VrdorfAgnhSRbWBZVlWMLWpYfsiP/AMLNl%2BLniv8AaQ%2BIfiHWrTRNU0vwjLqp0dE8LRX7RGeSzS206ITSjyIFSS8%2B0lVjxzvk3%2Bm/8IfpP/P3qv8A4PLv/wCO0f8ACH6T/wA/eq/%2BDy7/APjtAHmPhv8AZGvPCPhnxHF4f/aa%2BIkPjHxZq1vfa98THi0OXWLgQRLDDbCKTTG0%2BOBIl2iNLRQC8kn%2BtkeRsD4g/wDBPjwt4u%2BD/gz4LeDP2hPiJ4J03wd4mXxGL3w22jXF3rOsC/Gpfb72TU9Nuw8xvvNuW8sRLI88m9WUqq%2B2/wDCH6T/AM/eq/8Ag8u//jtH/CH6T/z96r/4PLv/AOO0Aed%2BM/2U1%2BJPxL0bxv8AEP4%2BeOtY0XQdasNZ0/wFP/ZUWkDUbONRBdM0Fgl45WZRc%2BW1yYvOwfL2qqDhNI/4Jd/Aq10S88GeJ/H/AI48Q%2BG08Gav4V8K%2BHNX1O0W38K6XqUsMtzFYSW1rFcFwba2Ec1zLcSwiBRG65bd7/8A8IfpP/P3qv8A4PLv/wCO0f8ACH6T/wA/eq/%2BDy7/APjtAHig/wCCfHhFtHfUbj4%2B/EObx4fG0XiqL4rSy6T/AG5DqEemNpSBYxp408QjT3ltvJNoYyJpJCDMxlrP1v8A4JhfAnU/DWk%2BC9I8ceNNH0iHwlF4Y8Yafp2pWrL420lLqW7Ntqrz20kj757i9d5LdreRvt9ypfbJtHvf/CH6T/z96r/4PLv/AOO0f8IfpP8Az96r/wCDy7/%2BO0AcLqf7Mlp4k%2BN1j8afG3xj8Ya4mg3c974P8J37acml%2BHb2azks3u7cQWcdxLL5E9zGpuZ51QXMu1VyNrPg3%2By/bfC34i6p8X/Fvxp8ZfEHxTqWiW%2BjJrfjI6bG9np8Mskwt4YtNsrSBQ0srO7tG0jEIC%2B1FUd7/wAIfpP/AD96r/4PLv8A%2BO0f8IfpP/P3qv8A4PLv/wCO0AJ45/5EnWP%2BwXcf%2Bi2ry7xx/wApC/hf/wBkZ8ef%2BnbwhXqJ8GaG%2BFna%2BmTIJiuNWuZEb2ZWkKsPYgivLvHH/KQv4X/9kZ8ef%2BnbwhQB7NRRRQAVm%2BMPGXhD4eeF7/xx4/8AFem6Houl2zXGp6xrF9HbWtnCoy0ksshCRoB1ZiAK0q8Q/b%2B8N%2BItd%2BCejatonhTUtftPDfxL8K6/4g0PR9OkvLq802x1q0ubgxW0StJcvCsf2kQorSSfZ9qK7lVIB6Zpnxh%2BEetfDIfGvR/il4cu/Bp0978eLbbXLeTTDaICXuPtSuYvKUK2X3bRtOTxWJf/ALVv7LmlfCm1%2BO%2Bp/tJeAbbwPe3P2ez8ZT%2BMbJNKnm3MvlpdmXyXfcjrtDE5Rh2NfNnhr4e2nxJ/ZP8Ai34e8X6F468I6d4n%2BJd/488J23/CstUuruztYtZgu7WV9NFv5kzXF7ZveSadhbl4bsh442kOPIx8NP2ipriP4%2BfEbVviXpFl4i/aL1LxPp/jz4d/B%2B6j1zQbL/hC7bRlli8NXVtqU9rBd3VvdIRdW9xIiSJM4ikuPNiAP0k0XWtH8R6PaeIfD2rW1/p9/bR3FjfWU6yw3ELqGSSN1JV0ZSCGBIIIIrw39j//AJN61f8A7L145/8AVgarU/7F3gT4teDP%2BCfnw7%2BHdhomm%2BB/FmmeBbKztrTXdGnvIdPkSMKhubQXccpcoAzw/aAyO7LvO3mH/gnvpGtXP7Meo6P8QdQsNT1L/hbXxCTVrvTdPks7a4uB401rfJFC80zwIXBZUMsjJwN7EbiAe9UVlf8ACH6T/wA/eqf%2BDy7/APjtL/wh%2Bk/8/eq/%2BDy7/wDjtAGpVTXtC0fxRod74Z8RabFeafqNpJa31ncJujnhkUo8bDurKSCPQ1W/4Q/Sf%2BfvVf8AweXf/wAdo/4Q/Sf%2BfvVf/B5d/wDx2gD5%2B8E/8EwfhR8NPhH4D%2BGHw8%2BNXxH0rUPh9rep6ppfjldT0%2B51u8lv0miuhdSXNlJBJuim8pXWFJY0hiEbptJNjwN/wTE%2BAfw/8NeHvCuieLfGElt4a8NfDzQ7BrvUrZ5HtvBuq3eqaW0jfZxuklnvJVuG4DoqCMQsC7e8/wDCH6T/AM/eq/8Ag8u//jtH/CH6T/z96r/4PLv/AOO0AeIfDb/gnd4F%2BFPxE0v4geEvjr8RFXwv4b13QvAehXF5pslh4Ws9VmtppktENjvlMT2kHkm6e42Kmw7k%2BWvSPjn8A9E%2BO/g3S/Dmr%2BNNd0TVNA1q11jw94s0B7VdR0zUIAyrcxCeCW3YtHJNE6SQvG8c0ilMHjp/%2BEP0n/n71X/weXf/AMdo/wCEP0n/AJ%2B9V/8AB5d//HaAOL%2BG37Nth8IvhhD8K/h78VfFVhapp2rrcaiTYTXl1qmpXTXlxrUjy2jKb37TLcTABRbF7mTdA4EYTmbn9hXwBrvwV%2BIPwd8d/E/xl4jm%2BKrbfH/i7VLmxj1TVrfyIrY2h%2BzWkVtBbm1i%2Bz%2BXDBGNksrDEsjyn1r/AIQ/Sf8An71X/wAHl3/8do/4Q/Sf%2BfvVf/B5d/8Ax2gDA%2BJvwL8H/FfxF4F17xPeX6ReAPFH9v6TpdpJGlrdXi2VzaRfaFKEukQunlRVZMSxxOc7AK4fx3/wTu/Y2%2BIHx98KftPan%2Bz74RtfHHhPxW/iKLxFYeFNOS81O9NlcWqNeXBtzNOI/PE6HerLPbwOG/d4Pq//AAh%2Bk/8AP3qv/g8u/wD47R/wh%2Bk/8/eq/wDg8u//AI7QBqVleD/%2BQTN/2FL7/wBK5a574neKfg18FvCc/jr4ufEtPDej24/e6jrXiye3izjhQXmG5j2UZJPABr5wtv8Agor8U/j4/wDwif8AwTU/ZW1LxnpsTtG3xH8a%2BZo/huIgnLRtIBPend95VCvk5561w4rMcJhJKFSV5vaKTlJ%2BkVd/N2XmfUZFwbxFxFRlicLR5aEHadapKNKhB9pVqjjC/wDdi5zfSDPsWuH%2BM37TH7Pn7O%2BlNrHxw%2BMvhzwvEI96R6vqscU0w/6ZxE%2BZKfZFJ9q%2BfP8Ahi39vz49fv8A9rH/AIKBX/h7T5v9d4R%2BCGmDSYkz1UajMGuXU9NrL07813Hwb/4JZfsLfBPVB4m0X4EafruumQSzeIvGUr6xeSS/89d10XVH90Va5vrWa4j%2BDQUF3qS1/wDAIcz%2B%2BSPb/sLgHKNcyzWWJmv%2BXeDpNx9HiMR7Kn84UZ%2BV9Dhj/wAFRvFvxtlNh%2BwT%2Bxr45%2BKMTErF4t1aMeH9AP8AtJdXgDS46lNisRjHWnL8Gf8Agrj8dz9o%2BKf7VPgf4P6ZLydF%2BGnhk6pelP7kl1fECN/9uLI9BX1zHHHDGsUSBVUAKqjAAHQAUtH9mV6%2BuKxEpeUf3cf/ACX3n85g%2BN8ryz3ciymhRttUrp4ut63rWoxf%2BDDWXToz5Ktv%2BCOX7Oni24TUv2l/ip8Ufi/dBg7Dx549unt1f/YhtjEEUHopJHbmvZ/hP%2Bxd%2ByT8DHiuPhL%2Bzh4N0O6hx5eoWmgQG7GOmZ2Uyn8Wr06it6GVZbhpc9OjFS72u/8AwKXM/wATys04%2B42zqh7DGZjWlS/59qbhT9FSpeyppeXs7d7hRRRXoHyIUUUUAFFFFABRRWX4m8b%2BDPBVr9u8ZeLtL0mHGfO1O/jt1x9XYClKUYq7dkKUowV5OyNSivJtT/b2/Yc0a8fT9U/bG%2BF0E8ZxJFJ4908Mp9CPO4PtWZq//BSX9gDRLf7Te/tlfDd19LPxba3Df98xOx/SuSWYZfHetD/wOP8A8kcMs1yuHxYimv8At%2BH/AMme2UV8ua//AMFpP%2BCZfh1/JuP2o7G6kzhY9M0DUrssfQGG2YfrVKx/4LZ/8E7JLyO21/4t6xocc5xaXet%2BCdUghuPdX%2BzkAe7Yrned5MnZ4mH/AIEv8/1OV8R8PxlZ4un/AOBx/wA7L5tH1hRXzvqf/BWX/gnFpOmpq11%2B134TeKRdypbXEk0oHvHGjOD7EZrlJf8Agtr/AME%2Br2RoPBHxB8S%2BKZFONnh7wFqkpJ9AXt0B/OqnnOUQ%2BLEQ/wDAk/ybHPiDIabtLFU//A4v8E2/wPrOivkof8Fjv2e4v3l/8CfjbaQHlLm4%2BF10I3HqCCTj8Kfb/wDBbT/gntbTra%2BNfiR4h8LSucJH4j8CapDk/VbdwPxIqP7cyfrXivV2/NIj/WTIOuJgvV2/9KUT6yrxn9l//kt/7R3/AGWax/8AUK8L157rn/Baf/gnDpjx2ei/HuXxBfTLug07w54X1K7mk9htt9oPsWBrU/4J1fGTQP2gNa%2BPPxd8LeHtc0vT9X%2BM0BtrLxJpbWV6ixeEfDcO54WOUDGMuueqMrd66cPmOAxdR06FWM2tbRaf5XX4nXhc2yvHVXSw1aM5JXai1Ky%2BV117/I%2BlKKKK7D0AooooAKKKKACiiigAooooAKKKKACiiigAooooAKKKKACiiigAooooAK/OX/gt7/oP7Tn7M3i3p/YGpalqG7%2B7t1/wmmf/ACJX6NV%2Bcv8AwXvH2E%2BEvFgH/IB%2BHmu6gG/u7fFngZM/%2BRK8nPf%2BRNXfaLf3Wf6H6B4U6%2BJOUw/nrxh/4MVSn/7kP0aooBBGQaK9Y/PwooooAKKKKACiiigAooooAKKKKACiiigAooooAKKKKACiiigAooooAKKKKACiiigAooooAKKKKACiiigAooooAKKKKACvGfHH/KQv4X/9kZ8ef%2BnbwhXs1eM%2BOP8AlIX8L/8AsjPjz/07eEKAPZqKKKACiiigAooooAK8Z/YP/wCSIa5/2Wb4j/8Aqa63Xs1eM/sH/wDJENc/7LN8R/8A1NdboA9mooooAKKKKACiiigAooooAKKK%2BaP2kP8AgonpXg74gSfs0/sn%2BAZviv8AFyQFZPD2kTAafoXOPO1O7%2B5bqpPMed5OFJj3KTzYrGYfBU%2BetKy2XVt9klq2%2ByX3LU9vIeHc44mxrw2XUudpOUm2owpwW86lSTUKcI9ZTkl0XNJqL9v%2BMPxr%2BE37P3gW6%2BJfxo8f6Z4b0Oz4m1DU7gIpY5xGg%2B9I5wcIgLN2Br5dH7Xn7aX7bkv9m/sD/CQeB/BMxw3xl%2BJ2nsn2mP8A56abpx%2BafPVZJQYzyGCGt34Nf8E5tW8ZePbT9o//AIKFePofil4/gPmaRoXklfDXhjJB8uytG4lYYH76UZYqrbdy7z9WKqooRFAAGAAOleeqeY5jrUbo0/5Vb2jX96Wqh6RvLvJM%2Bvli%2BDODvcwdOGZYxb1ail9Upv8A6dUXyyxDX/Pyu4Um9Y0JRs38u/DH/glJ8ELPxZB8WP2pvF2vfHDxvH8y618Q7jz7K1bglbbTwTBDHkAhGEm09CK%2Bn7S0tLC1jsbG2jgghjCQwwoFRFAwFAHAAHAArgfjX%2B1j%2BzR%2BzlZSXvxx%2BOfhnw0Y494tNS1aNbqQYz%2B7twTLKcdkUmvAov8AgpZ8Zvj/ADCD9gX9iTxX440xjx458ZzDw7okif34GuB5lyOnAVGGelEa2TZS3Sp2U3uopzm/N25pv1k18j4DifxAx2d4qKzbGSrTirQprXkX8tOjSioU4%2BUadNd29z6/or5JP/D7bx4Nn/GPfgK0k4Lj%2B1dUvofcDiBse9NX9gX9tT4hnz/j3/wVS8fMH5Nl8N/D9l4dWH/ZWWMOzj3YZrT%2B0q8/4WGqP/FywX/k0m/wPmf7XxNT%2BBg6sv8AEoU1/wCTzb/8lPrimzTRW8TTzyqiIpZ3dsBQOpJPQV8lj/gjt8D9UPm/ED9pH47%2BLJv%2BfjxF8U7mR8%2Bv7tE5pf8Ahyt%2BxRfMsHilvH%2Bu2O8GfStY%2BImoSW1wAchXVZFJGcHgjpR9Zzh7YeK9aq/SD/APrefy2wkV61l%2BNqb/AAO2%2BMf/AAVJ/YH%2BBmonQvGn7SehXWqb/LGk%2BG/M1a58z/nmyWaS%2BW3s%2B2uHX/gqprHjfn4Af8E/fjt4wgP%2Br1W58JLpdhL6bJriTn8VGK97%2BDH7L37On7O9gNP%2BB/wT8NeFxs2yT6RpEUU8o/6aTY8yQ%2B7sTXeUvYZxV1nWjDyhC/8A5NN/%2B2oX1bP6%2BtTEQp%2BUKfM//Aqkv/bEfJDftU/8FUfHQ%2ByfD7/gmTpXhhZP9VrHjn4rWckSe721sgl/I0R/Bz/gsl4%2BP9p%2BLP2yfhZ8P5D00zwX8PX1WFc%2BsmoMHyPbivrein/Zcp/xsRUl/wBvKC/8kjH8x/2LOp/HxVafpNQX3U4x/M%2BSv%2BGRf%2BCpeofJqf8AwVwjt4z99bD4FaQGPsGaXIoP/BPb9rnW/l8b/wDBV/4oTqfvjQdDsNMJ%2BhjDYr61oo/sbBP4nN%2BtSo//AG9B/q/lz%2BJ1Jetaq/8A3Ij5KH/BJ2K9/wBI8Rf8FFf2or24P3pF%2BK5iQf7qLb4UUH/gkzY2373R/wDgoj%2B1LZzDpInxcLA%2BxDW/I9q%2BtaKP7Eyr/n3/AOTT/wDlgf6uZL/z5/8AJqn/AMtPkl/%2BCWHifW/%2BJX46/wCCkf7RWraOOumx%2BOUtmm/2ZZY4dzr/ALPH1rT8L/8ABGX/AIJ1eH7r%2B1ta%2BA7eJtSc5n1TxX4hvr%2BaY%2BriSbyz%2BCivqOimskylO7oqT/vXl/6XKVhx4dyNS5pYeMn/AHrzt6c8p2%2BSPI9L/YC/YY0azWxsP2OPheI16eb4D0%2BRj9WeEsfxNaekfsbfsg6Bcfa9B/ZU%2BG1lL/z0tPA2nxt%2Bawg16TRXVHA4KO1KK/7dj/8AIndHLsuh8NCC/wC3If8AyBm6D4M8H%2BFY/K8L%2BFNN01QMBbCxjhGP%2BAAVcv8ATtP1W0fT9UsYbmCQYkguIg6OPQg8GpqK6VGKVktDqUIRjypaHI6Z%2Bz98BtE1J9Z0b4JeEbS8kbdJd2vhu1jldvUssYJP411kUMVvEsMESoijCoi4AHoBTqKmFOnT%2BCKXokvySJhSpUlaEUvRJfkkFMuba2vIGtbu3SWNxh45EDKw9CD1p9FWaFDRPC3hnwykkfhvw7YaesrbpVsbNIg59TtAya8o/Zf/AOS3/tHf9lmsf/UK8L17NXjP7L//ACW/9o7/ALLNY/8AqFeF6SSirISjGKslY9mooopjCiiigAooooAKKKKACiiigAooooAKKKKACiiigAooooAKKKKAPP8A9qv41XP7Of7N/jb446foKareeGPDl1fafpksxiju7pUPkQu4BKI0pRWcAlVJODjFef8Aw2/aH%2BO%2Bjaf8YvAfxjs/CXiDxn8LNLg1SyvfDVtLommazbXOnPc26Ol5dXJs3E8FxC7tO6bESX5NxjT174ufCzwb8cPhZ4i%2BDfxDsJLrQvFOi3OlatBDM0UjW88TRvsdcNG4DEq6kFWAIIIFeaeGP2G/BeneE/GnhPx/8WvGnjhfiRY3Vl8Qb7xRLpwuNetZbBNPjgkNlZW6wRw26MI1tlhy00sknmO5agDjf%2BCdP7ZPxV/aov8AxXpHxMXSpv7E0Lw/qdneWngLVfC1xu1GK6eS3fTtVnmuJYYvs6eVqKEW10ZJViGbaQn58/4LQ/ET4UfFabxJ8NfBPxM8Pa1rvhT4DeLn8S6LpWtQXF3pDr4l8EzRrcwxuXty3kuQHCk7Djoa%2Bz/2f/2VtI%2BBHifWvH2ofFvxj468R65oumaNc%2BIPGk9i1xFpmntdPaWka2NpbRBUkvbuQyMjSyNMS8jhUC/Pn/BWbR/7duNTstm7Z%2Byt8T7jH/XG/wDCUuf/AByvPzaHtMqxEe8J/wDpMj6/w9xP1Pj7KK/8uKw7/wDK9L/M%2Bvfh1rH/AAkPw%2B0LX9%2B77do1rcbvXfErZ/WtmvPP2RNY/wCEh/ZP%2BGGv793274d6JcbvXfYQtn9a9Drqw8/aYeE%2B6T%2B9J/qeBm%2BG%2Bp5vicP/ACVKkf8AwGpUj/7aFFFFbHnhRRRQAUUUUAFFFFABRRRQAUUUUAFFFFABRRRQAUUUUAFFFFABRRRQAUUUUAFFFFABRRRQAUUUUAFFFFABRRRQAV4z44/5SF/C/wD7Iz48/wDTt4Qr2avGfHH/ACkL%2BF//AGRnx5/6dvCFAHs1FFFABRRXz9/wUuOmD9mu1/4TTy/%2BEK/4WF4X/wCFkfaP%2BPf/AIR7%2B2bT7b9qzx9j8v8A4%2Bd37v7N5/mfu99AH0DRXwX4ItPhf4%2B/YC%2BLXwv%2BH/xl8FeFvAkfjvUtW8BNq2tR2uiHwjDrEUjxOyN%2B50O6ng1CzE0YMItZj5QaMIp8SRvEmrfCuzXV5Pgn4S/Z/wBY/acvTYtdpJqnw4sdGTwdH5ShSdPivtNfXorzaWNtbyX7o6gjykkAP1hrxn9g/wD5Ihrn/ZZviP8A%2BprrdN/ZR8e%2BL/GX7EHg3xx8N/gt4Z0PVJvC8Q0Pwct3NpGjKkZMcXkOlrNJa2ckarLCPIdlikjBXvVP/gnTceJbv9m6%2BuvGWk2Nhq8nxb%2BIbanY6ZqL3dtbznxnrXmRxTvDC0yBsgO0UZYAEoucAA90ooooAKKKKACiiigArO8XeLvC3gHwzfeNPG/iKy0jSNMtmuNR1PUblYYLaJRlnd2ICgeprj/2mv2ofgv%2ByJ8K7z4v/HDxZHpmmW3yW0CAPc385BK29vFkGWVsHAHAALMVUFh%2BWuofGT9tn/gtB8VFf4e/BxW%2BHOjaiG0rRdeuZIfDNlIrfLdarMmH1S5A%2BYWkPyJuTO5fNV/DzbPKOXTVCmvaV5fDBXb9ZW1S/F9Lbr6HLMqyyGGWZZ3iPq%2BEu0uWPPXryW9LC0bp1Z7KU3yUKN%2BatVjpTn9QePP2k/jP/wAFCbW/tvgZ48m%2BDn7PVhK0fif42azMun3/AIhjVtrw6X5xX7NCTlTcvg/Qq0TWPhZ%2B3D/wSn/Yk8Kj4GfslPdeMNT/ANZNpHwz0C41vUdYnAx5st0q%2BXcSEnGTLgZwoVcAdR8Pv%2BCSngbxHf6d4w/bd%2BLWtfGXV9NRP7N0TUVGn%2BGtJ2rhUtNKtyIlVR8uGyjAD5BX1D4F%2BG3w6%2BF%2BjL4c%2BGfgLRfDunrjbYaFpcNpCMdPkiVV/SuPCYHOKlT6xV5Y1H9qS55JdoxTUILyvKT3lJvRcuf8Z8SZ7glleU0IZdlsXeNG7q1ajW1XETi4Rq1e3M5U6d%2BWlThHWXyrDrH/AAVa/bBlW40DTtG/Zq8FysGjudVto9b8U3cfY%2BQ2ILUMOqviRD3arrf8EtPGXjBSvxp/4KQfH/xBG/FxYaT4tj0m0nB6q8MMRyp9AR9a%2Bt6K9JZNhp64iUqj7ylJL5Ri4xS8rP1Z8YsgwlXXFTnWl1cpyS%2BUIShBLySfm2eCfBf/AIJhfsI/Aa7TWPBP7OWhXWqpJ5p1vxHG2q3hlzkyiW7aQo5POU2170qqqhVAAAwAO1LRXfh8LhsJDkoQUV2SS/Jfnc9PC4LB4GnyYenGC7RSX5JX%2Bdwooorc6QooooAKKKKACiiigAooooAKKKKACiiigAooooAKKKKACiiigAooooAK8Z/Zf/5Lf%2B0d/wBlmsf/AFCvC9ezV4z%2By/8A8lv/AGjv%2ByzWP/qFeF6APZqKKKACiiigAooooAKKKKACiiigAooooAKKKKACiiigAooooAKKKKACiiigAr5T/b70f/hIvim3h/Zu%2B3fsp/Fi32%2Bu%2BfwsuP1r6sr59/aG0f8A4SL9sLwh4f27vt37PvxHt9vrv1Dwkv8AWscRD2mHnDvFr701%2Bp6OTYn6nnGGxH8lWnL/AMBqU5f%2B2mp/wTX1j%2B3P%2BCf/AMG73fnZ8OtKt8/9cbZIsf8Ajle3V8z/APBHTWP7c/4JpfCe937tmiXFvn/rje3EWP8AxyvpiuXKZ%2B0yrDy7wh/6TE93xBw31Pj3NqH8uKxC/wDK9X/MKKKK9A%2BRCiiigAooooAKKKKACiiigAooooAKKKKACiiigAooooAKKKKACiiigAooooAKKKKACiiigAooooAKKKKACiiigArxnxx/ykL%2BF/8A2Rnx5/6dvCFezV4z44/5SF/C/wD7Iz48/wDTt4QoA9mooooAKKKKACiiigArxn9g/wD5Ihrn/ZZviP8A%2BprrdezV4z%2Bwf/yRDXP%2ByzfEf/1NdboA9mooooAKKKKACvnv9uf/AIKKfCf9i3TLLwx/Zlz4v%2BI3iFlh8I/DrQiXvtRldtkbOFVjDEX%2BUMVLMchFcggePf8ABS7/AIK42f7PGov%2BzV%2ByfpieMPi5qVzHp4W1h%2B02%2Bh3Ex2Rxuq5E92x%2B5bjOCN0nA2P0v/BOL/gme37OuoXH7Tv7T3iF/Gvxv8ToZ9Z1/UpvtA0fzFw1vbs2cvt%2BR5Rj5RsTamd/z2IzStjcXLBZc05R%2BOpvGn5L%2BafaOy3ltYmOGxuNwjxNJ%2Bzoczh7Vq/PONuanRT0qShdKpN/uqLajJzquNFcT8OP%2BCW/xT/a%2B%2BIdn%2B1H/wAFXvFy65qyqH0D4S6FcNFo%2BgQsQ3kysjEytnG5UYhig3yzDgfc/hfwt4Z8EeHrPwl4M8O2Ok6Vp8AhsdN021SCC3jHREjQBVUegFX6K9LA5bhMvTdNXlL4pPWUn3ct/lol0SMaeGp06jqNuU2kuaTcpWW0bvaKu7RioxV3aKbbZRRRXedAUUUUAFFFFABRRRQAUUUUAFFFFABRRRQAUUUUAFFFFABRRRQAUUUUAFFFFABRRRQAUUUUAFeM/sv/APJb/wBo7/ss1j/6hXhevZq8Z/Zf/wCS3/tHf9lmsf8A1CvC9AHs1FFFABRRRQAUUUUAFFFFABRRRQAUUUUAFFFFABRRRQAUUUUAFFFFAGb4z8Y%2BFfh34P1b4geOdftdK0TQtNn1DWNUvZQkNnawxtJLNIx4VERWYnsAa5r4L/tF/CT4/wDh7U/Evw212%2BaHRb77HrVpr3h%2B%2B0e90%2BbyI7gLPaahDDcQ7oZopVLxgPHIrqSpBrH/AG1PhD4q%2BPn7JnxD%2BDvgV7Ua34g8KXlro8d9KUt5roxkxRSsASsTuFR2wcKzHBxg%2BReHPhD8cvjUPjxq/jf4Oa98O5PjT4YHh/R7bU9V0u6m0RLbSHtlvbw2N5Mm%2BWe7mEawNMRHaI0hiLhAAe5fA/8AaP8AhT%2B0Zpt1rnwkvdbvdOtlhki1TUfCGp6baX8MoYxT2U95bxR38DhCyzWzSxlSpDYdSeS8dKG/4KE/DBWGQfgx48BB/wCwt4Qrhf8Agnf8K/2j/hjqGr6f8T/DXjXw94Xh8F%2BH7C10Tx546g16ebxBbi7XU7%2ByeG6uRa2EsbWKxwboVBhcra2wz5m1f%2BC/Enh7/gpt4L8Rat8XPEOu2erfB7xw9hoOq22nJaaKF1bwllLZra0incPuGftEs5%2BQbSvzZAOT/wCCIzGz/wCCdnhXwsxOdC17XtPIPUbdWunx/wCP19Z18l/8Ed/9B%2BA/xC8JdP7A%2BOXinT9v93bdK%2BP/ACJX1pXk5F/yJsOu0Uvuuv0P0DxW18Ss2n/PXnP/AMGKnU/9yBRRRXrH5%2BFFFFABRRRQAUUUUAFFFFABRRRQAUUUUAFFFFABRRRQAUUUUAFFFFABRRRQAUUUUAFFFFABRRRQAUUUUAFFFFABXjPjj/lIX8L/APsjPjz/ANO3hCvZq8Z8cf8AKQv4X/8AZGfHn/p28IUAezUUUUAFFFeIft/eJPEWhfBPRtI0TxXqWgWniT4l%2BFfD%2Bv65o%2BoSWd1Z6dfa1aW1wIrmJle2eZZPswmRleP7RuRkcKwAPb6K%2BQfCEX7QPjj9jX4r/C/4L%2BP9e1XUfC/xX1LQPCWs3viqT%2B1dR0W11S3a7sI9UuHMn2sRG/02K7lk8xJIo2eXejSV4h4l/al%2BPXhr9nT4u/B%2B08MfGbw5pMXxT1TQdG8T2sereMtc8KaFb%2BG9M1C7im1LSzqEgu31C5urSO4a4cWnmyYn32IQgH6W14z%2Bwf8A8kQ1z/ss3xH/APU11upP2Wfi1rvif9hX4efF6y8MeK/FuqXXw60q6l06aD7Jq2qXH2WISEjVZLYeY77n3zOgcHeGIYE5v/BOnVr/AF79m6%2B1vVfDF9olzefFv4hzXGj6nJA9zYu3jPWiYZWt5ZYS6E7SY5HTIO1mGCQD3SiiigAr41/4Km/t13/wi0eX9mX4I%2BM4dJ8a6xo0moeKvFZJaPwRoAIWXUJNvP2h9wjt4x87SOm352iD%2Bsftx/tmaf8AspeC9O0Xwf4cbxT8SvGV0dO%2BHfgm1OZdSvDgebIAQUt4shpHJAAwMjOR8LfsM/sf6n%2B2X8btX8U/FTxGPFfg3QPFI1T4n%2BLj80PxD8Vx8pYwHADaTYBtiqAEkJJC7ZEWH5jPMxrzqLLsFrVno2vsq191s7at7xjr8UoHoZBkkeKsxq0K1WVHA4aKqYytH4oU27QoUm9HisS/3dGP2E51pJRp3fqP/BIP/gn5oekXFr%2B2p8RfAk2mNc27j4W%2BHdXPmXdjZSj95rF65/1moXg%2BYt0SNgq4Ty0i/QqkVVRQiKAoGAAOAKWvXyzLcPlWEjQpLzb7vq/8l0Vl017eIM7ed42MqdKNDD0oqnQow/h0aML8lOHe13Kc371SpKpUm3ObaKKKK9A8IKKKKACiiigAooooAKKKKACiiigAooooAKKKKACiiigAooooAKKKKACiiigAooooAKKKKACiiigArxn9l/8A5Lf%2B0d/2Wax/9QrwvXs1eM/sv/8AJb/2jv8Ass1j/wCoV4XoA9mooooAKKKKACiiigAooooAKKKKACiiigAooooAKKKKACiiigAooooAKKKKACvGfHH/ACkL%2BF//AGRnx5/6dvCFezV4z44/5SF/C/8A7Iz48/8ATt4QoA8x/wCCWP8AxKvEn7S/hI8fZf2mfEd2i/3UuEtnUfT5TX1pXyX/AME/P%2BJT%2B2D%2B1h4S6eT8S9O1Db/19aeHz%2BO2vrSvJyTTLYx7Oa%2B6pUP0DxQ97jWtV/5%2BU8NP/wADweEf6BRRRXrH5%2BFFFFABRRRQAUUUUAFFFFABRRRQAUUUUAFFFFABRRRQAUUUUAFFFFABRRRQAUUUUAFFFFABRRRQAUUUUAFFFFABXjPjj/lIX8L/APsjPjz/ANO3hCvZq8Z8cf8AKQv4X/8AZGfHn/p28IUAezUUUUAFZvjHwZ4P%2BInha/8AA/xA8KabruiapbNb6no%2BsWMd1a3kLDDRyxSApIhHVWBBrSooA4q3/Zr/AGc7TwW/w3tfgD4Ki8OyaH/YsmgR%2BFbNbJtN8xpPsRgEflm33u7%2BVjZudjjJJrX8JfCz4Y%2BAfAUPwq8CfDnQdF8L29tJbQeG9J0iG2sI4XLF41t41EYRizZULg7jnqa3qKAK2i6Lo/hvR7Tw74d0m2sNPsLaO2sbGygWKG2hRQqRxooCoiqAAoAAAAFeRfsH/wDJENc/7LN8R/8A1Ndbr2avGf2D/wDkiGuf9lm%2BI/8A6mut0AezV59%2B1J%2B0d4C/ZN%2BBPiD48fEWcmx0OzLwWcbgS39yx2w2sWerySFVHpkseASPQa/NX9rj9p3w/wDHP4seIv2kddtRq3wc/Zz1P7H4O0cZeLx58QX/AHcEaKv%2BuhtnZeVz/E43I7AeVnGYLL8K3FpTldK%2BysruT8orV93yx3kjF0czzHG4fKsqh7TGYqcaVGPecmlzP%2B7BNyk3ZWWrV3bjb34d/tA/Gr4z2/gPxLrZb9on40aItz451WBC0Hwf8Cv10%2B3Un91dzo/lnkOTIQSDIZn/AE0%2BC/wd%2BH37P/ws0P4NfCzQY9N0Hw/YJa6fapydo5Z3P8cjsWd3PLMzE8mvJf8Agnn%2Bypr37P3wyvviL8ZL5tV%2BLHxHul1z4ka3OAX%2B1OMpZIRwsNureWqr8ud5XCkKPoKuXI8t%2Bq03iKqftJ99Wk9bN/zSfvTf8zUV7sIo%2B44ir5VkuXUuFckqc%2BEw0nKpV64vFNctXEye7jo6eHT%2BGjHmSTquxRRRXvnxoUUUUAFFFFABRRRQAUUUUAFFFFABRRRQAUUUUAFFFFABRRRQAUUUUAFFFFABRRRQAUUUUAFFFFABRRRQAV4z%2By//AMlv/aO/7LNY/wDqFeF69mrxn9l//kt/7R3/AGWax/8AUK8L0AezUUUUAFFFFABRRRQAUUUUAFFFFABRRRQAUUUUAFFFFABRRRQAUUUUAFFeRft9fELxp8KP2KPin8SPh5rMmmazovgbUbqy1eGMM%2BmlYG3XihgVJgXdMNwK5j5BGRXnXwN8c6l%2Bz9rX7QnhTw7f%2BPPiL4W%2BGdpp2r6Bps%2BtX3iXWpbqXRhd3Ok209zJNc3Uj7LeeOFndg2oBV2xmNFAPqKvEvH%2Bp2Ft/wAFGvhPpdxcqk918F/H5t42ODJs1bweWA9SAc49AT2NeRf8Eo/jb49%2BKPj747aJ8T/Gnj3WNZs/G2l6hNB4u8I67pVnpBvNC0%2BaXT9Pi1a1gMFtFO0yxwhVkaPZPIpNx5knmH/BSX9ojx18I/8Agp7%2BzL8UtQ%2BEviTQPDng5vFWn634j1S705rHVNL1K58PWM1zCttdyzqkLywsRcRQHc0e0Ng7ebGYmOEw8q0to2v6XSb%2BV7/I5Mfi4YDCSxE9o2v6OUU38lK/omey/sl/8Sb/AIKm/tYaIeE1C18EahAv00uWNz%2BLYr60r5L%2BEn/El/4LKfF3Ten9tfCHQNQx/e8md4M/rivrSuLJ9MPUj2qVV/5O3/7cfpfiP7%2BcYOt/PgsC/uwsYf8AuMKKKK9Y/PwooooAKKKKACiiigAooooAKKKKACiiigAooooAKKKKACiiigAooooAKKKKACiiigAooooAKKKKACiiigAooooAK8Z8cf8AKQv4X/8AZGfHn/p28IV7NXjPjj/lIX8L/wDsjPjz/wBO3hCgD2aiiigAooryH9tf4kePvh58J9Isvhl4lbQtY8WeP/DvhiHxElpDO%2Bkxahqdvbz3Mcc6PE0wheQReYjxiVoy6OoKMAevUV8pWHxl/aon/ZD%2BKFh4N8Qaj4q8d/D74jXfhm38UWug2supX2lxX1q01/HZwxJbz38GnXMuIkiEc1zagCECTyq5P4f/ALSfjLxx8DfizrfxA/az%2BJvgfRvg/wDEs6RbeN774f6TZ%2BJPEdpPomk39tBPpt7pRRLhrnVfs8UEVlDPOEtgFDykMAfbNeM/sH/8kQ1z/ss3xH/9TXW63vg/8QviboP7KPhP4lftQeHLu18Yx%2BCtOu/HWleG9Cub%2BaHUmt4zdRQ2lks8shEpceXEJMYOCwG48n/wTp8Q2Hi39m6%2B8U6Vb30VtqPxb%2BIdzbxanpc9lcoj%2BM9aYCW3uESaBwDzHIiupyGUEEUAQ/8ABS79oDV/2dP2OvFXijwcZH8U65HH4d8G29uf302q3zeRD5fq6BnlA7%2BUa%2BYv2P8A9nrQ/iv%2B0B4N%2BAWiQw3Pwr/ZOs4otRngUfZvEfxAkTfcz%2Bji2dpG55SQgcrJVT/grN%2B0UT%2B0pZ6Zpcn2jTvgD4Rfxfc26rvW48W6gRZ6FblOS0kTyLdgAcx%2BZ6cfYH7BH7NsH7KX7KPhH4RXMI/tmLT1vfFV0zb3utWuP3t1I7nlz5jFAxOdqKOwr5Br%2B1%2BIZQf8Okkn58sr2%2BdS1%2B6pJH1XB0lkuVZjxY/403LL8I/5fcU8dXj5xhUhhoNbSqzd7xVvYqKKK%2BvPlQooooAKKKKACiiigAooooAKKKKACiiigAooooAKKKKACiiigAooooAKKKKACiiigAooooAKKKKACiiigAooooAK8Z/Zf/5Lf%2B0d/wBlmsf/AFCvC9ezV4z%2By/8A8lv/AGjv%2ByzWP/qFeF6APZqKKKACiiigAooooAKKKKACiiigAooooAKKKKACiiigAooooAKKKKAIr2ys9Ss5dO1G0iuLe4iaOeCaMOkiMMMrKeCCCQQeCDXKfDn9nn4A/B7T7DSfhH8DvB/ha10uW5k0y28OeGbWxjs3uAguGiWGNRGZQibyuC%2Bxd2cCuwooAoaV4V8L6Fq2p69onhuws77W7mO41m9tbNI5b%2BZIUhSSZ1AMrrFHHGGYkhI1UcKAPlL/AIKN/AOL9p74p6d8DRbLLda7%2Bzt8Q10pWHAv4tW8HzWrfhPHEfwr68rxnxx/ykL%2BF/8A2Rnx5/6dvCFZV6NPEUJUpq8ZJp%2BjTT/MxxOHpYvDzoVFeM04v0aaf5nx3H8cNZ034S/AL/gsXoRubg6XoEHgj49Wkaszz6Ybg2010ydd0F8jSherebHk7VJr9JNN1HT9Y06DV9KvYrm1uoVmtriBwySxsAyurDgggggjqDXxb%2ByN4K8G%2BE/2hv2lv%2BCb3xHsIJ/Dev6m/i7w3pU7ALdaTrMO29hiHUJDMAgx0ZiR610X/BMX4j%2BIfhsfFf8AwTq%2BMuvef4u%2BD16Lfw7dXThZNb8My/PYXSD%2BLy0KxOFyIwIlJyTXzWT154arGNR6VbxflWp%2B7L/wZGKmu8k%2B%2Bv3GUV6vGvhjRrT97HZSvY1e88LzuEZvq/q9Z8rfSjiabekbn1tRRRX1R8aFFFFABRRRQAUUUUAFFFFABRRRQAUUUUAFFFFABRRRQAUUUUAFFFFABRRRQAUUUUAFFFFABRRRQAUUUUAFFFFABXjPjj/lIX8L/wDsjPjz/wBO3hCvZq8Z8cf8pC/hf/2Rnx5/6dvCFAHs1FFFABXO/Fj4T%2BAfjf4Cvfhn8TdDbUNHv3gkmhivZraWOWGZJ4J4Z4HSWCaKaKOWOWJ1kjkjR0ZWUEdFRQB5x4W/ZR%2BC/gj4e3Xwv8IWfiTTdIvbSeG6Fn481iO6lee6kup7s3Qu/tH22SeWSR73zPtLlvmlIAA5vxJ/wT1/ZV8V%2BB/D/wAP9W8JeJEsvDHimXxLpV5YfEfXrTUTrMiSRvqE9/BepdXdxsldfNnlkYAjBGBj2uigDP8ACnhnTvBnhqx8J6Rc6hNa6dapb28uratcX9y6KMAy3NzJJNO/q8js7HkkmvIv2I9TsdF/Z98S6zqdwsNtafF/4lTXErdERfGmtszH6AE17bXxV45%2BJn/Cof8Agk18dfHCXHkyx%2BMfinZ2sucFJ7vxnrdpEw9xJOhHvWGKrxw2GnWltGLf3Jv9DmxmJjg8HUxEtoRlL/wFN/ofLv7Hmiaj%2B2v%2B1P4K1fxNbmVvG/jTUPjP8QoH%2Bb7Np1hcSad4d01z0ZUkWZ9hzuinU44r9d6%2BB/8AggP8F5dI/Zz1b9pbXo1kvfG1xbaVok23GNG0iL7DAQD9xnljuHYDAYhTX3xXg8K4eVPKlXn8VX3n6dPv96X/AG8fb8UUVkuFy7hqL/5F9CEKnniqtsRjJPz9vW9m/KhboFFFFfSnyIUUUUAFFFFABRRRQAUUUUAFFFFABRRRQAUUUUAFFFFABRRRQAUUUUAFFFFABRRRQAUUUUAFFFFABRRRQAUUUUAFeM/sv/8AJb/2jv8Ass1j/wCoV4Xr2avGf2X/APkt/wC0d/2Wax/9QrwvQB7NRRRQAUUUUAFFFFABRRRQAUUUUAFFFFABRRRQAUUUUAFFFFABRRRQAUVzvxc%2BKXg34H/C3xF8Y/iHfva6F4W0W51TVp4oWlkW3giaR9iLlpHIUhUUFmYgAEkVyXwf/ag034uaH4ukf4ReMfDfiTwRKseveBfEEFidVQyWiXduY/sl1PbTCaJwEZJyN6vG5R43VQD0%2BvGfHH/KQv4X/wDZGfHn/p28IVu/Ar9pTT/jV4l8SfD/AFf4VeK/A/inwnHYz6x4Z8Xiwa4S1vFlNrcpJp93dW8kcht7hBiXerQOGVflzheOP%2BUhfwv/AOyM%2BPP/AE7eEKAMr9tf9iSx/aYt9K%2BKHwz8WSeCvi34MJn8C%2BPLFcSQMMk2lyAD51pJlgyMGxvYgEM6P85vqHhT9vnWrb4afGW%2BHwM/bA%2BGDbdG1aykEcl0ygss1oScahp8w3M0GWKB3xlWJk/QevKv2o/2Lv2ef2wfDkOjfGjwSs99Y/NoviTTpPs2qaTIDuWS2uU%2BdCGw205QkDcpxXh5jlXtnKpRSbl8UXdRnbZ3WsKkfszWuyldJNZZfi894XzuOd5BV9niF8UX8FWLXK4zTUovmjeEuaMoTg3CpGUbOPl37Mv/AAUEvk8cp%2Byh%2B3To9n8Pvi9ZsIbRpXMekeLY%2BiXenXDYQlzjMJIYMcKCQyJ9TV%2BfPx5%2BAv7XPwz%2BH8/wi/aZ%2BDEH7WXwghJax1W1xbeN9CjxjeBnN3IowA8TCZ%2BSzKp21x37Mn7ZXxh%2BEpOgfss/Ftfj74KsHKT/AAp8dXf9lfEXw0icNBEswA1FYhkYUOeFRNoGa8/DZ1WwNRUMZGT7Nr316paVF/fpNt7ypp3Pu6VfgvjytbL5RyzMpfFhMRJU6FWXV4TESfs43eqoVZ2V7U61rRX6b0V4p%2BzJ/wAFA/2Yv2q5n8O%2BAvG7aX4rtmZNT8CeKYP7P1qylX76PbSHLle7Rl1HQnPFe119Nh8Th8XSVSjNSi%2Bqd/6fk7Puj5zN8lzfIMdLB5lh50asd4zi4u3Rq%2Bji91KLlFrVSa1CiiitjzAooooAKKKKACiiigAooooAKKKKACiiigAooooAKKKKACiiigAooooAKKKKACiiigAooooAKKKKACvGfHH/ACkL%2BF//AGRnx5/6dvCFezV4z44/5SF/C/8A7Iz48/8ATt4QoA9mooooAKKK8w/a2%2BMnjL4MfDCwvvhrZ6ZL4l8SeMNF8NaBJrcEktla3GoX8NsbqeOKSN5Y4Y5JJvKWSMymIRh49%2B9QD0%2BivmG//bH%2BM/hn9kP4ifEjXfD3h698c/DfxvN4W1u%2BsNNuk0YBb62i/tlrbzpJ0tYbK7jvp4BMzIIZoxMcCWuK%2BGX/AAUI%2BMHx51CD4GfBDx/8M9b8Xj4p6h4Yk%2BJtp4bvLjwzeWFr4dtNba/tbGPURLKW%2B32tntF8U3rNMJGVVjYA%2B06/K7/gpF8SW8Hf8Erb/wAGW8ZmfxV%2B0744gubRTzJaWvjPxBfSk%2BoDW0ef94V9%2BfAP9p/w58Q/2SvDv7T/AMW9Q0bwdbXWgrdeJ5tQ1VIdP0u5jYxXI%2B0TFV8lZkcK77crtJAJxX5F/wDBQz4l2Xxq8AeAfh98JvFdhq1pN45%2BKWvWF3pt2lxbalDqvj/UNNtZY5IyVkQq0zK6khg2QSK%2Bd4sruhw/XtvJKK/7eaX5XOrLcqhxBnmAyefw4rE4ajK%2B3JUr0lUv5eyjVv5XfQ/Vz/gm34B/4Vn%2BwT8I/CbQeVIvgTT7u4jxgpLcxC5kB9w8zZ969tqj4Y0Cw8KeG9P8LaUm2102xitbZcdI40CKPyAq9Xt4WisNhadFfZjFfckv0OzPsznnWe4vMZb16tSp/wCB1Jz/ACkl8gooorc8kKKKKACiiigAooooAKKKKACiiigAooooAKKKKACiiigAooooAKKKKACiiigAooooAKKKKACiiigAooooAKKKKACvGf2X/wDkt/7R3/ZZrH/1CvC9ezV4z%2By//wAlv/aO/wCyzWP/AKhXhegD2aiiigAooooAKKKKACiiigAooooAKKKKACiiigAooooAKKKKACiiigDz/wDar%2BCt1%2B0Z%2Bzd42%2BB2na9HpV54n8OXVjp2pzQmWO0umQmCZ0BBdFlCMyAgsoIyM5rgfgz8L/2rfCfjL4ifHPx14R%2BHq%2BLvHVvBHb6JpXjK%2Bm07TV0%2BwEVhEbmTTY5J/OuZbp5pPJjMEbxqiXBUs3v1FAHgn7CHwZ/aF%2BFPh7xJrP7U/h7whJ488U6nFqfibxb4W8Y3eq/21deWYygiuNNs/sFpbxpFDbWyGYLGGLu0pklmp3/wx8N%2BDv8Agpt4L8Z6TqXiGa88Q/B7xxJfw6r4u1G%2BtIimreEsC2tbmeSCyB3HK26RhsDcDtXH0PXjPjj/AJSF/C//ALIz48/9O3hCgD2aiiigAryP9o/9hL9k/wDawj8/43fBnStS1NVAt/ENqjWmpwFfulLqErLhSAQpYrxyDXrlFZV6FDE03TrRUovo0mvxMMRhsNjKTpV4KcX0kk19zT/rqfnH%2B0n/AMEUvjJ4gt1ufhP%2B0LYeOoLAA6Ppfxhs5H1Ow2cosGu2Wy8VU42RMPKGBkGvK9G/ad/4LPf8E8HXS/ip8E/E/jrwfZPtZfEUf9urBbqv311iwHmqWIwBcxEKDjGa/XCivna3DGHVX22Dqzoz7xd181K915Nvyse3lnEHEmTYBZfhsU6mEjth8TFYqhG//PuNZ%2B0o%2BuHxFH/Cz4a/Zv8A%2BDgD9h/4zC30b4p3up/DXW5MLJb%2BIYTPY%2BYeyXcIIAH96VIulfZ/grx54H%2BJPh%2BHxb8O/GWla9pVyM2%2BpaNqEd1byj/ZkjZlP4GuI%2BMn7GH7J37QZlm%2BM37PHhLX7mYEPqN5osQvPwuEAlX8GFfOmsf8ELP2ZvDOtz%2BMf2W/i78Tfg/rTxlYLnwb4vl8lT6OJd0zr/siZc1vSfEuE0qKnXXdN05fc%2BaD%2B9HnY3MHXfNHAxg/%2BnVaXJ8oYiMpR9FWnbZN7n2xRXw9f/An/gtz8BFQ/CH9sDwD8XtLs7cCHTPiH4YGnXkuP4fMt8tK3%2B3Jcgn2rjfEX/BVj/gpX%2BzupH7Uv/BLHUri3h/4%2B9a8GarM9nGB1bfHHdxgegaUfWrnn9DDL/aqNSn5uDlH/wAChzr8jDCxzLGS5aWDqyfaEY1H/wCA06kp/dB/ofonRX56eAP%2BDj/9j7xJcQ6X4x%2BEfxF0W9lO0pb6ba3sanuMx3Akz7eXXsPhz/gtZ/wTc16dbDUfj%2B%2BhXjAFrPxD4Y1G0ZM%2BrPb%2BX/49V0eI8hxCvDEw%2Bbt%2BaRhjsbh8qrKjmHNh5v7NaFSjL5KtTpN/K/qfVVFeR%2BE/2%2Bv2H/HGxfC/7XPw4uZH%2B7bt4xs45T/2zeQP%2Blek%2BHvG3gzxdEJ/Cfi7S9UQjIfTr%2BOcY9coxr06WJw1f%2BHOMvRp/k2XRxmExP8ABqRl6Si/ykzTooorc6AooooAKKKKACiiigAooooAKKKKACiiigAooooAKKKKACiiigAooooAK8Z8cf8AKQv4X/8AZGfHn/p28IV7NXjPjj/lIX8L/wDsjPjz/wBO3hCgD2aiiigArjfjx8EvDX7QPw6l%2BHfibWNT0vbqVjqel61ok0cd7peoWV1Fd2l3A0scke%2BOeGNtsiPG4BR0dGZT2VFAHlPw5/ZYHwp%2BHureBvBfx68cQXWuSXl7qXiaVdJl1CbVrq6e4n1Ul7Aw%2BeS4jEXlfZUiijRIFC1zlx%2BwF4KPhqzOl/Gvx7p/ja18Z3HiqX4qWs%2BmNrt3qk9gdOmkmWSxexaNrER2whFoIkjt4CiI8SOvvNFAHN/B34UeDvgV8KvD3wb%2BH1pNDovhnSINO01bmcyzNHEgUPLI3MkjYLO55ZmZjyTX4r%2BELCf46f8ABUh/CV5C7LoX7Umo6PbZ5FxY2/ivxDrV5GP9kPJCW9yK/cyvyK/4J3fDd9W/4Kx6ndXkG%2BXTvjD8Z/GQYj/l2l8QXGhxZ9QstvPg9ixr5riajLEUsNS6Sqwv/X3n1nAeHlLjChjfs4Oli8S/J0sHiI0//KuIhbzsfrrRRRX0p8mFFFFABRRRQAUUUUAFFFFABRRRQAUUUUAFFFFABRRRQAUUUUAFFFFABRRRQAUUUUAFFFFABRRRQAUUUUAFFFFABRRRQAV4z%2By//wAlv/aO/wCyzWP/AKhXhevZq8Z/Zf8A%2BS3/ALR3/ZZrH/1CvC9AHs1FFFABRRRQAUUUUAFFFFABRRRQAUUUUAFFFFABRRRQAUUUUAFFFFABRRRQAV4z44/5SF/C/wD7Iz48/wDTt4Qr2avGfHH/ACkL%2BF//AGRnx5/6dvCFAHs1FFFABRRRQAUUUUAFFFFABRRRQBwHxY/ZT/Zn%2BOyP/wALi%2BAnhHxJLIMG61bQIJbhfdZivmIfdWBrwDxV/wAESP2LbtJz8KLvx58N5J2LSHwP42uoo2Y9zFcmZMf7IAGOOK%2BvqK4MTlWW4t81ajGT72V/vVn%2BJ9TlXHHGOSYf6vgswrQpf8%2B%2BdypvydKp7Wk15OnbyPzu8Wf8ERviNpe6X4f/AB8%2BH/iaEfd074mfBHSLqaT036hbotz%2BX1rzjxD/AMEq/jV4Zk%2B0eMv%2BCYfwP8fmI5jm%2BGfxP1rw3O/ocXU4jVvoNuelfqxRXk1eFMon8KcfmpL7pxl%2BZrW4pwOZP/hXyXL8X3c8HSpzf/cTDfVpX87N%2BZ%2BSn/CmfAvw0%2BXxv%2Bwz%2B2d8Odn37j4Y%2BOpdct7f38xJPuj1wfpVnSfi7%2BxjpN6mkN/wWA/au8A6g3%2Br0z4i3N7Ls9jvsigA93r9Yqrato2ka9ZPpuuaVbXts/37e7gWRG%2BqsCDWP%2BrLpfwqkfnBr8adWH5HN7Hwhxf8fh6VB98Nja8F8oVo1Y/Lm%2BZ%2BfHgqfUPFmxfg9/wcP2Ukrf6q21zTdCvJj9Yp5Uc/lXqGjfAH/gqTdWY1DwZ/wVa8J%2BJ7f%2BCa7%2BD2mojf8CtpSK9m8a/sF/sTfETe/jH9k74e3kr/AH7n/hErSOc/9tUjV/1ry/Wf%2BCK//BOa%2BvDq3h/4H3fhy%2BP3b7w34t1K0dPoq3Gwf980f2TmNPZJ/wCGvXh%2BEudB/qv4OYn%2BFi8ywz8/Z1kvnTxFJ2/7dv5FT/hWf/BaLSf%2BPD9pr4Jatjp/angy9g3fXyW4o8v/AILmaZ9y4/Zb1RB/fTxDDI35fKKX/h0zo3h/958K/wBuz9orwtt/1drZ/Etp7UfWKWJt3/fVH/DDn7f3hjn4b/8ABWjxRGq/dh8VfDjTNW3D0Luyn8RzR9Xx8N6df/t2vCX/AKVFB/xDvgiv/unFEo%2BVWljKf3tU8Svu0E/4Tv8A4LXad/x%2BfAb4Bajjr/Z/ijUoc/TzRR/wvP8A4LDWH/H3%2Bwr8N7/HX7D8ThFn6eYlL/wqv/gsz4W/5AX7Vnwb8Vbfu/8ACT%2BBrmx3/X7Gxx%2BFH/Cbf8FrvDP/ACGvgj%2Bz/wCJwvX/AIR3xJqlkX%2Bn2oHFHNWh8TxUflGX5J/kH/EKalT/AHTiTDT9cXGD%2B6vg4fjJCf8ADUf/AAVjsv8Aj5/4JZ6Je4/58/jfpsef%2B/kdH/DZP/BTq2/5CP8AwR%2BuhjvbfHXRZf0EVL/w1n/wVJ8PceJv%2BCVNrqca/fuvD3xn0z9IpY9x/Oj/AIeNftJ6J/yPH/BKz4yW%2BPv/ANgtZ6nj6eW65o%2Bswj8WKrx/xUv/ALiw/wCIO8bS/wB3zCFX/Bi8un%2BDqQf3pCf8Nx/8FBoP%2BP7/AIJF%2BJ19fI%2BKOlS/yWj/AIb2/bdi/wCPr/gkt48Hr5PjXTZP5Uv/AA9s8Mab8vjT9hP9pbQcffk1L4Tv5f1DJM2R74o/4fS/sXWH/I32/wAQvD%2BPvf2z8OdRTb9dkb0fXsKt8xa9YwX50oh/xBfxXf8ADpYif%2BCOFq/%2BmqlQT/h4L%2B2Cn%2Bv/AOCT3xMH/XPxDp7f1oP/AAUP/arT/W/8EpPiwP8Ac1Kxb/2armmf8Fsv%2BCYuqP5K/tPQW8g4aO98LatAVPoS9qB%2BtdLpX/BV3/gnPrOPsn7XfhBM9Ptd28H/AKNRa0hi8PP4czT/APBP/AOWv4R%2BLOF/i4TGx9cG/wBKLOO/4eM/tMJ/rv8AglT8Yh/uS2bf%2Bz0f8PI/2gk/1/8AwSv%2BNw/652lq3/tSvU9M/wCChf7B2r4%2Bx/tl/DAE9Fn8c2MRP4PKDXQad%2B1x%2BylrGP7I/ac%2BHt1np9m8aWL5/wC%2BZTXRHnn8OYJ/Ki/1PGrcC8e4b%2BLHEx/xYRr86CPDP%2BHmXxki/wCPn/glv8fh6%2BVoFu/8paP%2BHofxBi/4%2Bv8AgmD%2B0iP%2BuXgiKT%2BU9fSGn/Gf4Patj%2Byviv4auc9Ps%2Bu275/J62rHXtD1TH9ma1aXGenkXKvn8jW8cNjpfDjL/wDblN/kzy6uR8R4f%2BLiZx/xUIL81E%2BVf%2BHqfiCP/j4/4JlftRj/AK5/DFX/AJXFH/D1u/HDf8Ez/wBqzPt8JQf/AG5r61oq/qeaf9Bf/lKn/mc31DOv%2Bg7/AMo0v/kj5K/4es6m3%2Br/AOCZ37VR/wB74UAf%2B3NL/wAPT/FD/wCp/wCCZH7T5/3/AIbIv/txX1pRR9TzT/oL/wDKVP8AzD6hnP8A0Hf%2BUaX/AMkfJf8Aw9F8ev8A6n/gmF%2B0mf8Af8CxL/7Xqn8E/wBp/wAS/tI/8FC/Bh8Q/sv/ABG%2BGw0b4M%2BMvJ/4WBoyWn9o%2Bdq3hXPkbXbd5flDfnGPNT1r7Arxnxx/ykL%2BF/8A2Rnx5/6dvCFa0MNjqdVSqYhyXbkgr/NO5vhsHmVKspVcU5x6x9nTjf5xd130PZqKKK9A9QKKK8w/a2%2BMnjL4MfDCwvvhrZ6ZL4l8SeMNF8NaBJrcEktla3GoX8NsbqeOKSN5Y4Y5JJvKWSMymIRh49%2B9QD0%2BivmDVf2yfjN4U/Y1%2BKHxT1zw/wCHL/x78LfE2oeH9Sewsp4tMvZYbiER30Vq1w87A2tzDP8AYlneV5Q1vHK7Mjny24/4KVftEf8ACsrS9jj0RL1/i5qXhSfxRB8FPEd3d/ZbbRF1JJH8GxXY1q2neRmhKSSHZDGl4yiG4jwAfeNfnL/wSahk8d/8FEf2kvGcsZK%2BBPEfiHwxBIRwBe%2BM9d1FlH4gE/UV9l/Az9ovS/GH7IPg39qL416x4a8Jwa14H07XfEV2fEMDaVpr3FtHJIBeM/lGJXcqH3kEY%2BY9T8y/8EPdN0DxDaftK/Hbw1q9lqWn%2BMf2o/Gf9j6rp1yk9vf2EGpztBPFKhKyRt57lWUkEcgkGvNx1OVXE4ZdFNyf/bsJW/Fo%2B14VxlPAZLnVR/FPDRpR/wC4uJoKX3wpyTPumiiivSPigooooAKKKKACiiigAooooAKKKKACiiigAooooAKKKKACiiigAooooAKKKKACiiigAooooAKKKKACiiigAooooAKKKKACvGf2X/8Akt/7R3/ZZrH/ANQrwvXs1eM/sv8A/Jb/ANo7/ss1j/6hXhegD2aiiigAooooAKKKKACiiigAooooAKKKKACiiigAooooAKKKKACiiigDx7/goOfHI/Yc%2BLB%2BG/8Aaf8AbH/CBan9n/sTf9u2fZ3837N5fz%2Bf5XmeXs%2Bfft2/Nivmz4ReJfh5p3wx/ae8Nf8ABOTX/DUHh3UvC0z/AAVsPAt1brYXXiWLw7m8OkpCfLcJK%2BmmUwAqty0u/Eplr70ooA%2BN/wDgmWf2fD8Y/Hv/AAxadI/4VP8A8K38FeZ/wjm37D/wlW/Wf7S8zZx/aP2P%2ByPte797u8nzP3m%2BvQb/AFL4r3f/AAU28F2fjbwX4e0/Qrf4PeOB4a1HSvE895d36HVvCXmNc20llCloRhMBJrgNuOSu0bvoevnD9o/V/jXo/wC3h8J5/gd8P/C3iLUm%2BEfjtbu08V%2BMLnRYI4P7U8JEuktvp96zvu2jYY1GCTvyApAPo%2BivGf8AhOP%2BChf/AEa/8Gf/AA/Grf8AzL0f8Jx/wUL/AOjX/gz/AOH41b/5l6APZqK8Z/4Tj/goX/0a/wDBn/w/Grf/ADL0f8Jx/wAFC/8Ao1/4M/8Ah%2BNW/wDmXoA9mor5x0n9o79u3WPjPr/wOt/2UPhIuqeHfC%2Bka7eXL/HXVPIkg1G51K3hRCPDG4uraXOWBUAB48FiWC9R/wAJx/wUL/6Nf%2BDP/h%2BNW/8AmXoA9morxn/hOP8AgoX/ANGv/Bn/AMPxq3/zL0f8Jx/wUL/6Nf8Agz/4fjVv/mXoA9morxn/AITj/goX/wBGv/Bn/wAPxq3/AMy9cv4B/aO/bt%2BInivxv4Q0f9lD4SQ3HgPxRFoWqyXPx11QJPPJpWn6mHi2%2BGCSnk6jCpLBTvRxjADMAfR1FeM/8Jx/wUL/AOjX/gz/AOH41b/5l6P%2BE4/4KF/9Gv8AwZ/8Pxq3/wAy9AHs1FeM/wDCcf8ABQv/AKNf%2BDP/AIfjVv8A5l6P%2BE4/4KF/9Gv/AAZ/8Pxq3/zL0AezUV84/CL9o79u34y%2BFLvxf4c/ZQ%2BEltb2fijW9CkjvfjrqiuZ9L1W60ydxt8MMNjTWkjIc5KMpIU5UdR/wnH/AAUL/wCjX/gz/wCH41b/AOZegD2aivGf%2BE4/4KF/9Gv/AAZ/8Pxq3/zL0f8ACcf8FC/%2BjX/gz/4fjVv/AJl6APZqK8Z/4Tj/AIKF/wDRr/wZ/wDD8at/8y9cv8Ef2jv27fjx8GPCHxx8K/sofCS10vxn4X0/XdNttQ%2BOuqLPDBd20dxGkgTwwyhwsgDBWYZBwSOaAPo6ivGf%2BE4/4KF/9Gv/AAZ/8Pxq3/zL0f8ACcf8FC/%2BjX/gz/4fjVv/AJl6APZqK8Z/4Tj/AIKF/wDRr/wZ/wDD8at/8y9cv8bv2jv27fgP8GPF/wAcfFX7KHwkutL8GeF9Q13UrbT/AI66o080FpbSXEiRh/DCqXKxkKGZRkjJA5oA%2BjqK8Z/4Tj/goX/0a/8ABn/w/Grf/MvR/wAJx/wUL/6Nf%2BDP/h%2BNW/8AmXoA9b1PQdD1pPL1nRrS7X%2B7dW6yD/x4Gub1X9nz4B66Sdb%2BCHhC8z1%2B1eGrWTP/AH1Ga4j/AITj/goX/wBGv/Bn/wAPxq3/AMy9H/Ccf8FC/wDo1/4M/wDh%2BNW/%2BZes50qVT4op%2BqT/ADTOqhjsdhf4FacP8M5R/wDSZRNTU/2Hf2K9aydX/ZC%2BGFyT/FN4B05j%2BZhzWBqP/BM7/gn3quftP7HXw9XP/Pt4agh/9FqtYXxd/aO/bt%2BDXhS08X%2BI/wBlD4SXNveeKNE0KOOy%2BOuqM4n1TVbXTIHO7wwo2LNdxs5zkIrEBjhT1H/Ccf8ABQv/AKNf%2BDP/AIfjVv8A5l655Zfl8/iowf8A25H/AORPZocY8X4b%2BFmWIj6Yiuv/AHMcvqH/AASK/wCCbmp5%2B0/sleGlz/z7vcQ/%2Bi5RWJff8ETP%2BCX%2Bo5Nx%2Byxarn/nh4o1aL/0C7Feh/8ACcf8FC/%2BjX/gz/4fjVv/AJl6P%2BE4/wCChf8A0a/8Gf8Aw/Grf/MvWEslyeW%2BGp/%2BAR/yPUpeJviRQ/h51i16Ymt/8sZ5j/w5D/4JyW//ACB/hFrWnen2Lx5q64/76ujR/wAOXP2M4P8AkFah8RbDHT7H8R9RGP8AvqQ16d/wnH/BQv8A6Nf%2BDP8A4fjVv/mXrl/H37R37dvw78V%2BCPCGsfsofCSa48eeKJdC0qS2%2BOuqFIJ49K1DUy8u7wwCE8nTplBUMd7oMYJZY/sLJemHgvSNvysdP/EV/E1/FnOJl/iquX/pSkc1/wAOc/2eYf8AkGfHH412Xp9l%2BKN2MfmDR/w6I%2BHEP/IO/bH/AGjbP0%2BzfFmYY/OI16b/AMJx/wAFC/8Ao1/4M/8Ah%2BNW/wDmXo/4Tj/goX/0a/8ABn/w/Grf/MvR/YWUf8%2BV/wCTL8poP%2BIqeIj3zKo/VUZf%2BlYeR5j/AMOmtPi/48P%2BCif7VVr6CD4wED9bY1T%2BCv7Kt5%2BzJ/wUL8Frc/tMfFP4irrXwZ8ZbB8TPFQ1M6f5OreFc/ZyI08vzPNG/ru8qPpt59a/4Tj/AIKF/wDRr/wZ/wDD8at/8y9UPA/gf9qzxj%2B1Z4c%2BN3xu%2BHHw98M6N4Z%2BHviHQ4YfCvxDvtauru61K%2B0S4RmS40ixSKNE0uUFg7sWlQBcZI2oZVl%2BGqqpShaS85/k5tfgefmnH3F%2Bd4GeDx2K56c7XXs8Or2aa96GGpzWqW012d1dP3WiiivQPjwrjfjx8EvDX7QPw6l%2BHfibWNT0vbqVjqel61ok0cd7peoWV1Fd2l3A0scke%2BOeGNtsiPG4BR0dGZT2VFAHh0f7B3gGT4Lax8EdX%2BKvjW/tNe1P%2B2tT1q5ubBNRl18amupprQlitEVbpLmOApGEFqiW0Ua24RSpyk/4J2eFLW7XxvpX7RXxJs/iC3iq7168%2BJ0E2jtq15PcabbaZLDJA%2Bmtp/kfZLKzjEaWi7Tao4IkLu30NRQBzHwX%2BEfg34CfCbw78F/h9BcJovhnSYdP077ZcmaZ441C75JG5eRjlmY9WYnvXlv/AATs8KaV4X%2BCvi6fTVbfqvx5%2BJV9ds2PmlbxnrCduwVFH4V7zXyV%2ByV4s/bO0/4e%2BKLP4Y/AP4YavoSfGn4i/wBn6jr3xd1HTbuZf%2BEz1ksZLaLQLlIiG3AATPkAHIJ2hOKbTfQuNSpCEoJ6Stdd7O6%2B56n1rRXjP/Ccf8FC/wDo1/4M/wDh%2BNW/%2BZej/hOP%2BChf/Rr/AMGf/D8at/8AMvTIPZqK8Z/4Tj/goX/0a/8ABn/w/Grf/MvR/wAJx/wUL/6Nf%2BDP/h%2BNW/8AmXoA9mor5x%2BCP7R37dvx4%2BDHhD44%2BFf2UPhJa6X4z8L6frum22ofHXVFnhgu7aO4jSQJ4YZQ4WQBgrMMg4JHNdR/wnH/AAUL/wCjX/gz/wCH41b/AOZegD2aivGf%2BE4/4KF/9Gv/AAZ/8Pxq3/zL0f8ACcf8FC/%2BjX/gz/4fjVv/AJl6APZqK%2Bcfjd%2B0d%2B3b8B/gx4v%2BOPir9lD4SXWl%2BDPC%2Boa7qVtp/wAddUaeaC0tpLiRIw/hhVLlYyFDMoyRkgc11H/Ccf8ABQv/AKNf%2BDP/AIfjVv8A5l6APZqK8Z/4Tj/goX/0a/8ABn/w/Grf/MvR/wAJx/wUL/6Nf%2BDP/h%2BNW/8AmXoA9morxn/hOP8AgoX/ANGv/Bn/AMPxq3/zL1y/xd/aO/bt%2BDXhS08X%2BI/2UPhJc2954o0TQo47L466ozifVNVtdMgc7vDCjYs13GznOQisQGOFIB9HUV4z/wAJx/wUL/6Nf%2BDP/h%2BNW/8AmXo/4Tj/AIKF/wDRr/wZ/wDD8at/8y9AHs1FeM/8Jx/wUL/6Nf8Agz/4fjVv/mXo/wCE4/4KF/8ARr/wZ/8AD8at/wDMvQB7NRXzj4%2B/aO/bt%2BHfivwR4Q1j9lD4STXHjzxRLoWlSW3x11QpBPHpWoamXl3eGAQnk6dMoKhjvdBjBLL1H/Ccf8FC/wDo1/4M/wDh%2BNW/%2BZegD2aivGf%2BE4/4KF/9Gv8AwZ/8Pxq3/wAy9H/Ccf8ABQv/AKNf%2BDP/AIfjVv8A5l6APZqK8Z/4Tj/goX/0a/8ABn/w/Grf/MvXL6t%2B0d%2B3bo/xn0D4HXH7KHwkbVPEXhfV9ds7lPjrqnkRwadc6bbzI5PhjcHZtUgKgKQQkmSpChgD6Oorxn/hOP8AgoX/ANGv/Bn/AMPxq3/zL0f8Jx/wUL/6Nf8Agz/4fjVv/mXoA9morxn/AITj/goX/wBGv/Bn/wAPxq3/AMy9H/Ccf8FC/wDo1/4M/wDh%2BNW/%2BZegD2aivnHSf2jv27dY%2BM%2Bv/A63/ZQ%2BEi6p4d8L6Rrt5cv8ddU8iSDUbnUreFEI8Mbi6tpc5YFQAHjwWJYL1H/Ccf8ABQv/AKNf%2BDP/AIfjVv8A5l6APZqK8Z/4Tj/goX/0a/8ABn/w/Grf/MvR/wAJx/wUL/6Nf%2BDP/h%2BNW/8AmXoA9morxn/hOP8AgoX/ANGv/Bn/AMPxq3/zL1y/gH9o79u34ieK/G/hDR/2UPhJDceA/FEWharJc/HXVAk88mlafqYeLb4YJKeTqMKksFO9HGMAMwB9HUV4z/wnH/BQv/o1/wCDP/h%2BNW/%2BZej/AITj/goX/wBGv/Bn/wAPxq3/AMy9AHs1eM/sv/8AJb/2jv8Ass1j/wCoV4Xo/wCE4/4KF/8ARr/wZ/8AD8at/wDMvVv9lb4c/GnwfrHxQ8d/HTQPC%2Bk6p4%2B%2BIUWuWeleE/Etzq1va2sWg6Ppiq9xcWVmzSNJp0rlRFtCyINzHOAD1uiiigAooooAKKKKACiiigAooooAKKKKACiiigAooooAKKKKACiiigAooooAK%2BV/2nv2tPi58MPjH4s1rwD4d8HyeGPg/wCH/D9741OtaRcTarqlvq9/KlzBYXEdxGll5FtZx3GZIpxcyFIyIfL80/VFeM/Gf9iH4cfG74pH4ma5458VaXFqNrpFr4v8NaNdWqad4pg0u9kvbGK%2BWW3kmCxzTS5%2BzywGWOQxTGWMKgAPZqKKKACiiigD5j8OftK/EyH9v/xR8H/iNrHh7wn4bXxBaaJ4Mi1H4Rayl14xgGgQajiDxG12unNLHd3OoAWgheTy7SYBQWaRfpyvK/Fn7LUHj/4yaR8U/Hvxv8a6vpXh7XY9a0DwBcHTItGsdQjt3gjnDQ2SXsuzzJJFSa6kjEj7tnyIF9UoAKKKKAPF/wDgoL8Xfjh%2Bz9%2ByP40%2BPXwCvfCkeseCdCu9cuoPGGi3N9bXdpa20sz26JbXVsySuyIokLlUBYlH4Fef%2BPP2tPi54L%2BPHi3U/Cnh3whF8PPCHxj8I/D7xlZzaRcHW9V1XXYNFSPUIbtLhYY44P7c0mMxSW8ryJDPiWPagr2H9rH9nGy/a0%2BBGvfs%2B618VfFPhHSfE9lLY65f%2BEF077Xc2UsTxTW26/tLqNEdX5ZEWQFRtdec8XB%2BwD4On%2BItn8RfFXxx8fa6x1nSdc8TaNqEulRWPifXNMSNLHVr2O2sImW4iEFphbZoIGNjbF4mMeSAe90UUUAFeL/tk/F344fBK18A%2BMfhZe%2BFP7G1D4meHPD3i%2Bx8QaLc3N1c2uq6zY6aDZyw3UKW0ka3Msm%2BRJ1JRF2ck17RXlX7V37Lb/tVeG9C8Lz/AB98b%2BBrfQvElhrqN4Lh0dnu72xvILyzaU6lp94NsVxbxuFjCBuVk3qdoAPOP2ef2lfiZrf7VXi34I/FDV/D3hPTofFOt2/gnwlJ8ItZ0y5162hdJTf2%2BtXF39g1B2Mk0ssVtAX5LsVwxP05Xkuk/soh/jJovxl%2BI/7QHjvxrN4Xu7y78J6F4hGkw2Gj3VzbyWslxEthp9tLK/2eaeFfPklVFnfaASCPWqACiiigDw/9u74ufHj9n74Nav8AHX4UeMfAtjp/hbRbm8vdF8WeGb2/ufEN7lFs9Ms5La9g%2BzzXEpFujeVdM0s8QWFj8ref/BH9r74z658S/BX9reDPCWkfDTxv8T/FHw28K%2BGtO0uaPV9Ev9Ah1bfPPci4a3mgkbw/qaLDHbxGNWtj5kmWA9P/AGlf2QYP2kvHngj4gTftA%2BO/CFz4Bu7m90Wx8MRaNPZyXsqCNbyaDU9OvEeeGPzFhkAUxieUj5myKvgP9hr4e%2BA/jLb/ABdh%2BIvi7UoNO13U9e0TwhqVzZf2TpWt6jG8eoapAkVqk/nzie7LK8zwo19cmOKPzOAD2uiiigAr5f8A2ufjx%2B0v8FviJp/hTSofAHjXR/HMOtW2i/DmLwffSawlraaHdXcl/cTi9eK6thdRW9tJCLWIH7fCgmMjIkn1BXh037E1xH%2B0f4r/AGmtE/ar%2BJenav4t02HTrnS4YPD89pp9nDA0cNtZtc6TLc28Syu91sWba87l3Dg7aAGfsIftB%2BN/j38Pby6%2BK/j7Rr7xdpws21/w3ZfC7V/CN5oDz2yyiC5stXup7hwW3%2BXcAJHIqHaG2k17pXm/wO/Zu074M%2BJ/EnxD1j4peKfHHirxXFY2%2BseJ/FzWC3L2lmJvstqkWn2trbRxRtc3LjbCGZriQszZGPSKACiiigD45/4KCftx/FT9jDxz/aeuaLoHjHwi%2Bjajrdv4Vl%2BHOp2Utumm6Nfakkn/AAkU10%2BmT3f2vTRssVgS6EcyygbYWkb179mj4u/HPVvip43/AGev2jrnwpqHifwjpOh61HrXgrSLmwsbmx1QXkaRGC5ubl1liuNOu1L%2BbiRDE2yMkqK3x1/YS8EftOa1dWvx/wDi3418UeC7mS4kX4ZXkmmw6LFJNYzWTNvt7KO%2BkAjuJmCS3ToHfdt%2BRAvT/s%2BfszaR8A7zXvEV38UPFnjjxH4kNnHq3irxrcWb30ttaRGK1tR9jtreFYog8rDEe9nnld2dnJoA9KooooAK%2BI/2p/2yv2s/g38avEHwo8HeG/DnjXU7DRbjXfDAT4H%2BII5NFA1HTLVDC325x4mkFjqlx539l%2BU8LQlZRGJhHX25Xh%2BvfsW6n4l8en4na1%2B1z8UZtb0%2BC8i8G3hTQAPCq3U0Mk/2SMaTsnZo4Ft916t0yxM4Uq7s5AOq/ZY%2BLD/GT4RweLL34maN4qv4dRurLVL7RvBl94dFtcRSsrWs2m6hcT3VnPGMK8czh8/NtUMBXo1cN8A/gL4e%2BAHhnU9G0rxTrfiDUdf1641vxJ4k8RzQNe6rfzBEaeUW8UMCYjihiVIYo41SJAFGCT3NABRRRQAUUUUAFFFFABRRRQBR8UeIbDwl4a1HxXqoc2umWM13ciJct5caF2wO5wpr5z/Ym/aT%2BNfj/wAU6P4M%2BNnh7wZZjx18LbL4jeGYfBmlXFoNMjvLgm70%2B7M1xKLuaN7m2f7YggE7SzEwR7QX%2Blru0tb%2B1lsb23SaGaNo5opVDK6kYKkHggjjFeQ/szfsV%2BAv2YNVfV9A%2BIPi3xLLbeGLHwz4dHiy9tZhoGhWbyPb6bam3t4S0amT5pZzNcSCOLzJn8tcAHsVFFFABXC/tQePPiL8LP2aPiJ8Tvg/4UXXvFvhzwLq%2BqeFtDaxmuhqOo29nLLbWxhgZZZhJKiJ5cbB23YUgkGu6rO8W6Jf%2BJfDGoeH9L8V6joVze2kkNvrWkLA11YuykCaIXEUsRdTyBJG6ZHzKwyCAeXfsU/Fqf4ofDO%2BstW%2BIXh/WdT8O6qunXmmaJ8MNT8HPoaC2gkis7jStUuZ7mFwjiRXby0eKWLYmBvf2KvPPgP%2BztpPwOvPEviO5%2BIniTxj4k8X6jDeeIvFPit7MXd0YbdLeCIR2NtbW0UUcaAKscKZLOzFmZmPodABRRRQB8uftUftY/FD9nD4veOLL4laN4S8RfC%2Bw/Z38X%2BPbbQrfRLhNVdtEGlrPbXFzJcvbzRTrfTgILZCoRMu%2BWFdv%2BzP8X/j5qnxc8Zfs6/tLP4SvPFHhjwx4e8Sx6r4K0m5sbKSy1Z9St1tjDc3Ny5lhuNIuwZRIFkR4m8uM7lqD4x/sK%2BHfjp8dW%2BMvjz47eOZdNm8Fan4Rvvh7DBov9iXejaktt9vtJC%2BmtekTtaQOzi6DqUIRkRmQ9J%2Bzv8Asu6H%2Bz7fa14jn%2BKHi3xv4h1%2B1sLK/wDE/ja5tJL02Fiki2dmPsltbx%2BVEZ7hwShkd7mV3d2bNAHp9FFFABXyJ8a/2l/2tvBmu/tAeBLfwr4M8WXvgLw/4U8SfDax0n4f6nfzrHqOq6lCEvLWK8eXUZ4F02OdTbC3JckKvyq1fXdeFy/sUeIYvjp42%2BP%2BhftofFbStW8b6RY6Zc2NlZ%2BGGtNNtrK4uZ7NLYS6K8n7o3l0oMzyl1nIk8wqhUA6v9lT4tzfGX4UjxNqPxO0bxTqNrqtzY6tdaP4Iv8Aw2bO4ib5rWfTNRuJ7q0nRSu5JmDEMrbVVhXpNcJ8A/gHoHwB0LWbHT/FuueI9V8TeIJdc8T%2BJvEktu17qt/JDDB5sgtoYYIwsFvbwqkUUaKkKALnJPd0AFFFFAHxt%2B0t%2B13%2B0t%2Bzx8ZoPhtrKfDPxrfa3BBN4Rh07wte2kvgu81LxDpnh7SJtTle%2BmF1FO2rzgtEtnI4sbpYwy%2BYYvcf2Vfi/wDEj4jDx/8AD74xHRJ/FXw08eN4a1nVfDWnTWdhqfmaXp2rW9xDbzTzyW%2BbXVLdHjaaXEkcmGIIxwtt/wAE1fCTXXxDfxD%2B0v8AE7Wbf4k68dc1i31I6F5lnqUVxDPp9zbXUWlpdKbB7e3FpG80kUSwoGR%2Bc%2BsfAP4C6H8A/D2rabZeL9c8Sat4i16bWvE/ijxK9sb/AFe%2Bkjih86YWsEEC7IILeBEiijRY4I1C8EkA7qiiigBlz9p%2BzSfY9nnbD5Xm527scZxzjNfEHxW/a5/bT%2BGnxE1z4bW9t4D8Z694YvfDVvq3jrwR8Fdf1aPw5b6s1497YS6VZ6lPd3M0cNlY3RMU6fu7qFpYEBiaT7eu4ZLi1lt4bqSB5I2VZ4gpeMkYDLuBXI6jII9Qa%2Be/gx%2BwF4g%2BAnw2uPhp8O/26vjFFHdas%2BpzazeWXhOfUJbuV5ZLmeaZ9CP2mSd5d0kk4kfMabCgGCAes/AT4h2XxW%2BDvh/4hWHxA0bxUmp6eJH1/wAP6TNYWl3ICVkKWs800tsVdWRoZJHeNlZWO5SB19cl8C/gv4S/Z9%2BF%2BnfCnwVc39xZWEt1cTX2q3Imur67urmW6urqZwqhpZrieaV9qqu6Q7VVcKOtoAKo%2BJ4fElz4b1C38G6nY2WryWUq6XeanYPdW0FwUIjklhjliaaNWwWRZIywBAdSdwvVm%2BMdBv8AxR4Wv/Dul%2BLdS0G5vLV4oNa0cQG6sXI4miFxFLEXU8gSRuhx8ysMigD4e%2BG/7dn7Wvxg%2BKet/BL4Wab8Pk8Z6ba67fSeM/Ffwu1rQ11TTNItdFlSxl0S8vk1DT5Xu/EOxJp5nj8qGS4SF1nQH7G%2BAXxa034%2BfAnwV8ddG02Wzs/GvhLTdetLOZ9zwRXlrHcLGxAGSokAJ9RXi2r/APBMjwPrWuX3xFu/2lPimnxA1ZLy11r4k217pEOrX%2BmXVta202mFE00WcNsUsrRh5FtFKskCyrKHLMfoPwX4P8NfDzwdpPgDwZpMWn6PoemQafpNhDnZbW0MaxxRrnnCoqqPpQBp0UUUAcv8adR8caN8Lda1v4c%2BIbHS9WsLM3UN9qHg%2B98QIkcZDygadYzwXN5I0SuqRQyBy7LhXPyN8W/CX/goj8fvEnjTQ9T8b3HhHwJ4M1KedfEHji8%2BBniKa21i/h1%2B60hEuZVvo08MzyWtpa/uNUaSWB5VjfOwJX238TPBmu%2BPfCU3hzw38Utf8G3kksbxa/4ZisXu4NrAlVW/trmBgwBUh4m4Jxg4I8Vuv%2BCc3hTUPB9x8NtW/aQ%2BJt34Y1zUJr/x5oE1xo4i8YXc9411cTX0q6aLiLzSywtHZy2sQhiSNUUbtwB9E0UUUAFFFFABRRRQAUUUUAFFFFABRRRQAUUUUAFFFFABRRRQAUUUUAFFFFABRRRQAUUUUAFFFFABRRRQAUUUUAFFFFABRRRQAUUUUAFFFFABRRRQAUUUUAFFFFABRRRQAUUUUAFFFFABRRRQAUUUUAFFFFABRRRQAUUUUAFFFFABRRRQAUUUUAFFFFABRRRQAUUUUAFFFFABRRRQAUUUUAFFFFABRRRQAUUUUAFFFFABRRRQAUUUUAFFFFABRRRQAUUUUAFFFFABRRRQAUUUUAFFFFABRRRQAUUUUAFFFFABRRRQAUUUUAFFFFABRRRQAUUUUAf/2Q%3D%3D\">"
            ]
          },
          "metadata": {}
        }
      ]
    },
    {
      "cell_type": "markdown",
      "metadata": {
        "id": "gP_ysbQdbPVi"
      },
      "source": [
        "# Submit a linear model"
      ]
    },
    {
      "cell_type": "code",
      "metadata": {
        "id": "vN4r1W5UbPVi"
      },
      "source": [
        "## GRADED PART, DO NOT CHANGE!\n",
        "# Testing shapes \n",
        "grader.set_answer(\"9XaAS\", grading_utils.get_tensors_shapes_string([W, b, input_X, input_y, logits, probas, classes]))\n",
        "# Validation loss\n",
        "grader.set_answer(\"vmogZ\", s.run(loss, {input_X: X_val_flat, input_y: y_val_oh}))\n",
        "# Validation accuracy\n",
        "grader.set_answer(\"RMv95\", accuracy_score(y_val, s.run(classes, {input_X: X_val_flat})))"
      ],
      "execution_count": 118,
      "outputs": []
    },
    {
      "cell_type": "code",
      "metadata": {
        "id": "orsX5YqrbPVi",
        "outputId": "5fa742a9-e88c-4c59-e30c-33f512ae7c0f",
        "colab": {
          "base_uri": "https://localhost:8080/"
        }
      },
      "source": [
        "# you can make submission with answers so far to check yourself at this stage\n",
        "grader.submit(COURSERA_EMAIL, COURSERA_TOKEN)"
      ],
      "execution_count": 119,
      "outputs": [
        {
          "output_type": "stream",
          "text": [
            "Submitted to Coursera platform. See results on assignment page!\n"
          ],
          "name": "stdout"
        }
      ]
    },
    {
      "cell_type": "markdown",
      "metadata": {
        "id": "Y98nAkIRbPVj"
      },
      "source": [
        "# MLP with hidden layers"
      ]
    },
    {
      "cell_type": "markdown",
      "metadata": {
        "id": "eSWFJeHqbPVj"
      },
      "source": [
        "Previously we've coded a dense layer with matrix multiplication by hand. \n",
        "But this is not convenient, you have to create a lot of variables and your code becomes a mess. \n",
        "In TensorFlow there's an easier way to make a dense layer:\n",
        "```python\n",
        "hidden1 = tf.layers.dense(inputs, 256, activation=tf.nn.sigmoid)\n",
        "```\n",
        "\n",
        "That will create all the necessary variables automatically.\n",
        "Here you can also choose an activation function (remember that we need it for a hidden layer!).\n",
        "\n",
        "Now define the MLP with 2 hidden layers and restart training with the cell above.\n",
        "\n",
        "You're aiming for ~0.97 validation accuracy here."
      ]
    },
    {
      "cell_type": "code",
      "metadata": {
        "id": "AbQNPH14bPVj"
      },
      "source": [
        "# write the code here to get a new `step` operation and then run the cell with training loop above.\n",
        "# name your variables in the same way (e.g. logits, probas, classes, etc) for safety.\n",
        "### YOUR CODE HERE ###\n",
        "\n",
        "hidden1 = tf.layers.dense(input_X, 256, activation=tf.nn.sigmoid)\n",
        "hidden2 = tf.layers.dense(hidden1, 256, activation=tf.nn.sigmoid)\n",
        "\n",
        "logits = tf.layers.dense(hidden2, 10, None)\n",
        "\n",
        "probas = tf.nn.softmax(logits, name='probas')\n",
        "classes = tf.argmax(probas, axis=1)\n",
        "\n",
        "loss = tf.nn.softmax_cross_entropy_with_logits(logits=logits, labels=input_y)\n",
        "loss = tf.reduce_mean(loss)\n",
        "\n",
        "step = tf.train.AdamOptimizer().minimize(loss=loss)"
      ],
      "execution_count": 134,
      "outputs": []
    },
    {
      "cell_type": "markdown",
      "metadata": {
        "id": "S_FWhizLbPVj"
      },
      "source": [
        "# Submit the MLP with 2 hidden layers\n",
        "Run these cells after training the MLP with 2 hidden layers"
      ]
    },
    {
      "cell_type": "code",
      "metadata": {
        "id": "ag2UspQZbPVj"
      },
      "source": [
        "## GRADED PART, DO NOT CHANGE!\n",
        "# Validation loss for MLP\n",
        "grader.set_answer(\"i8bgs\", s.run(loss, {input_X: X_val_flat, input_y: y_val_oh}))\n",
        "# Validation accuracy for MLP\n",
        "grader.set_answer(\"rE763\", accuracy_score(y_val, s.run(classes, {input_X: X_val_flat})))"
      ],
      "execution_count": 137,
      "outputs": []
    },
    {
      "cell_type": "code",
      "metadata": {
        "id": "vaen-nUwbPVk",
        "outputId": "c75fc1cc-9c98-4f65-b1ae-f2f1d0474351",
        "colab": {
          "base_uri": "https://localhost:8080/"
        }
      },
      "source": [
        "# you can make submission with answers so far to check yourself at this stage\n",
        "grader.submit(COURSERA_EMAIL, COURSERA_TOKEN)"
      ],
      "execution_count": 138,
      "outputs": [
        {
          "output_type": "stream",
          "text": [
            "Submitted to Coursera platform. See results on assignment page!\n"
          ],
          "name": "stdout"
        }
      ]
    },
    {
      "cell_type": "code",
      "metadata": {
        "id": "unNQlOtebPVk"
      },
      "source": [
        ""
      ],
      "execution_count": null,
      "outputs": []
    }
  ]
}
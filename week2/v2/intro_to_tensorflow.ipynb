{
  "nbformat": 4,
  "nbformat_minor": 0,
  "metadata": {
    "kernelspec": {
      "display_name": "Python 3",
      "language": "python",
      "name": "python3"
    },
    "language_info": {
      "codemirror_mode": {
        "name": "ipython",
        "version": 3
      },
      "file_extension": ".py",
      "mimetype": "text/x-python",
      "name": "python",
      "nbconvert_exporter": "python",
      "pygments_lexer": "ipython3",
      "version": "3.6.5"
    },
    "colab": {
      "name": "intro_to_tensorflow.ipynb",
      "provenance": []
    }
  },
  "cells": [
    {
      "cell_type": "code",
      "metadata": {
        "id": "s1AjBbJR00P-",
        "outputId": "c4a39522-8339-4beb-8680-693ff13e0a55",
        "colab": {
          "base_uri": "https://localhost:8080/"
        }
      },
      "source": [
        "# set tf 1.x for colab\n",
        "%tensorflow_version 1.x"
      ],
      "execution_count": 1,
      "outputs": [
        {
          "output_type": "stream",
          "text": [
            "TensorFlow 1.x selected.\n"
          ],
          "name": "stdout"
        }
      ]
    },
    {
      "cell_type": "code",
      "metadata": {
        "id": "oUO69o8A1HNw"
      },
      "source": [
        "%load_ext tensorboard\n"
      ],
      "execution_count": 2,
      "outputs": []
    },
    {
      "cell_type": "code",
      "metadata": {
        "id": "-3XYM8391S80",
        "outputId": "f0af7f4d-0365-4fcf-d71b-e48ec0153af4",
        "colab": {
          "base_uri": "https://localhost:8080/"
        }
      },
      "source": [
        "!wget https://raw.githubusercontent.com/Nik0la-i/intro-to-dl/master/setup_google_colab.py\n",
        "import setup_google_colab\n",
        "setup_google_colab.setup_week2()"
      ],
      "execution_count": 59,
      "outputs": [
        {
          "output_type": "stream",
          "text": [
            "--2021-08-25 20:46:02--  https://raw.githubusercontent.com/Nik0la-i/intro-to-dl/master/setup_google_colab.py\n",
            "Resolving raw.githubusercontent.com (raw.githubusercontent.com)... 185.199.108.133, 185.199.109.133, 185.199.110.133, ...\n",
            "Connecting to raw.githubusercontent.com (raw.githubusercontent.com)|185.199.108.133|:443... connected.\n",
            "HTTP request sent, awaiting response... 200 OK\n",
            "Length: 3636 (3.6K) [text/plain]\n",
            "Saving to: ‘setup_google_colab.py.2’\n",
            "\n",
            "\rsetup_google_colab.   0%[                    ]       0  --.-KB/s               \rsetup_google_colab. 100%[===================>]   3.55K  --.-KB/s    in 0s      \n",
            "\n",
            "2021-08-25 20:46:02 (60.9 MB/s) - ‘setup_google_colab.py.2’ saved [3636/3636]\n",
            "\n",
            "**************************************************\n",
            "inception_v3_weights_tf_dim_ordering_tf_kernels_notop.h5\n",
            "**************************************************\n",
            "cifar-10-batches-py.tar.gz\n",
            "**************************************************\n",
            "mnist.npz\n"
          ],
          "name": "stdout"
        }
      ]
    },
    {
      "cell_type": "markdown",
      "metadata": {
        "id": "kqj8Sy9T00QB"
      },
      "source": [
        "# Intro to TensorFlow\n",
        "\n",
        "This notebook covers the basics of TF and shows you an animation with gradient descent trajectory.\n",
        "<img src=\"https://github.com/Nik0la-i/intro-to-dl/blob/master/week2/v2/images/gradient_descent.png?raw=1\" style=\"width:50%\">"
      ]
    },
    {
      "cell_type": "markdown",
      "metadata": {
        "id": "0Cmqwx-e00QC"
      },
      "source": [
        "# TensorBoard"
      ]
    },
    {
      "cell_type": "markdown",
      "metadata": {
        "id": "6fCaz_WR00QD"
      },
      "source": [
        "**Plase note that if you are running on the Coursera platform, you won't be able to access the tensorboard instance due to the network setup there.**\n",
        "\n",
        "Run `tensorboard --logdir=./tensorboard_logs --port=7007` in bash.\n",
        "\n",
        "If you run the notebook locally, you should be able to access TensorBoard on http://127.0.0.1:7007/"
      ]
    },
    {
      "cell_type": "code",
      "metadata": {
        "id": "US0v_GP900QE",
        "outputId": "f57d128f-571d-4787-dc1b-656007b494e7",
        "colab": {
          "base_uri": "https://localhost:8080/"
        }
      },
      "source": [
        "import tensorflow as tf\n",
        "import sys\n",
        "sys.path.append(\"../..\")\n",
        "from keras_utils import reset_tf_session\n",
        "s = reset_tf_session()\n",
        "print(\"We're using TF\", tf.__version__)"
      ],
      "execution_count": 8,
      "outputs": [
        {
          "output_type": "stream",
          "text": [
            "WARNING:tensorflow:From /content/keras_utils.py:68: The name tf.get_default_session is deprecated. Please use tf.compat.v1.get_default_session instead.\n",
            "\n",
            "WARNING:tensorflow:From /content/keras_utils.py:75: The name tf.ConfigProto is deprecated. Please use tf.compat.v1.ConfigProto instead.\n",
            "\n",
            "WARNING:tensorflow:From /content/keras_utils.py:77: The name tf.InteractiveSession is deprecated. Please use tf.compat.v1.InteractiveSession instead.\n",
            "\n",
            "We're using TF 1.15.2\n"
          ],
          "name": "stdout"
        }
      ]
    },
    {
      "cell_type": "markdown",
      "metadata": {
        "id": "CCp7icyh00QE"
      },
      "source": [
        "# Warming up\n",
        "For starters, let's implement a python function that computes the sum of squares of numbers from 0 to N-1."
      ]
    },
    {
      "cell_type": "code",
      "metadata": {
        "id": "-TCxrP2o00QF"
      },
      "source": [
        "import numpy as np\n",
        "\n",
        "def sum_python(N):\n",
        "    return np.sum(np.arange(N)**2)"
      ],
      "execution_count": 9,
      "outputs": []
    },
    {
      "cell_type": "code",
      "metadata": {
        "id": "T3t7wrF200QG",
        "outputId": "0830a3dd-266d-4a55-88bc-1538c57bbbd0",
        "colab": {
          "base_uri": "https://localhost:8080/"
        }
      },
      "source": [
        "%%time\n",
        "sum_python(10**5)"
      ],
      "execution_count": 10,
      "outputs": [
        {
          "output_type": "stream",
          "text": [
            "CPU times: user 1.94 ms, sys: 327 µs, total: 2.27 ms\n",
            "Wall time: 5.36 ms\n"
          ],
          "name": "stdout"
        },
        {
          "output_type": "execute_result",
          "data": {
            "text/plain": [
              "333328333350000"
            ]
          },
          "metadata": {},
          "execution_count": 10
        }
      ]
    },
    {
      "cell_type": "markdown",
      "metadata": {
        "id": "Lb8O6L0m00QH"
      },
      "source": [
        "# Tensoflow teaser\n",
        "\n",
        "Doing the very same thing"
      ]
    },
    {
      "cell_type": "code",
      "metadata": {
        "id": "AhRCi0_O00QI"
      },
      "source": [
        "# An integer parameter\n",
        "N = tf.placeholder('int64', name=\"input_to_your_function\")\n",
        "\n",
        "# A recipe on how to produce the same result\n",
        "result = tf.reduce_sum(tf.range(N)**2)"
      ],
      "execution_count": 11,
      "outputs": []
    },
    {
      "cell_type": "code",
      "metadata": {
        "id": "Dns37e9i00QJ",
        "outputId": "a7f2c998-0556-42ad-9701-1c3223473c0e",
        "colab": {
          "base_uri": "https://localhost:8080/"
        }
      },
      "source": [
        "# just a graph definition\n",
        "result"
      ],
      "execution_count": 12,
      "outputs": [
        {
          "output_type": "execute_result",
          "data": {
            "text/plain": [
              "<tf.Tensor 'Sum:0' shape=() dtype=int64>"
            ]
          },
          "metadata": {},
          "execution_count": 12
        }
      ]
    },
    {
      "cell_type": "code",
      "metadata": {
        "id": "Ed1UJ0R900QJ",
        "outputId": "a5de89a4-9433-4d64-a0a7-de16a87b48b0",
        "colab": {
          "base_uri": "https://localhost:8080/"
        }
      },
      "source": [
        "%%time\n",
        "# actually executing\n",
        "result.eval({N: 10**5})"
      ],
      "execution_count": 13,
      "outputs": [
        {
          "output_type": "stream",
          "text": [
            "CPU times: user 9.71 ms, sys: 1.54 ms, total: 11.3 ms\n",
            "Wall time: 69.7 ms\n"
          ],
          "name": "stdout"
        },
        {
          "output_type": "execute_result",
          "data": {
            "text/plain": [
              "333328333350000"
            ]
          },
          "metadata": {},
          "execution_count": 13
        }
      ]
    },
    {
      "cell_type": "code",
      "metadata": {
        "id": "pcxSVH1J00QK"
      },
      "source": [
        "# logger for tensorboard\n",
        "writer = tf.summary.FileWriter(\"tensorboard_logs\", graph=s.graph)"
      ],
      "execution_count": 14,
      "outputs": []
    },
    {
      "cell_type": "markdown",
      "metadata": {
        "id": "CaNfE_Ng00QK"
      },
      "source": [
        "# How does it work?\n",
        "1. Define placeholders where you'll send inputs\n",
        "2. Make a symbolic graph: a recipe for mathematical transformation of those placeholders\n",
        "3. Compute outputs of your graph with particular values for each placeholder\n",
        "  * `output.eval({placeholder: value})`\n",
        "  * `s.run(output, {placeholder: value})`\n",
        "\n",
        "So far there are two main entities: \"placeholder\" and \"transformation\" (operation output)\n",
        "* Both can be numbers, vectors, matrices, tensors, etc.\n",
        "* Both can be int32/64, floats, booleans (uint8) of various size.\n",
        "\n",
        "* You can define new transformations as an arbitrary operation on placeholders and other transformations\n",
        " * `tf.reduce_sum(tf.arange(N)**2)` are 3 sequential transformations of placeholder `N`\n",
        " * There's a tensorflow symbolic version for every numpy function\n",
        "   * `a+b, a/b, a**b, ...` behave just like in numpy\n",
        "   * `np.mean` -> `tf.reduce_mean`\n",
        "   * `np.arange` -> `tf.range`\n",
        "   * `np.cumsum` -> `tf.cumsum`\n",
        "   * If you can't find the operation you need, see the [docs](https://www.tensorflow.org/versions/r1.3/api_docs/python).\n",
        "   \n",
        "`tf.contrib` has many high-level features, may be worth a look."
      ]
    },
    {
      "cell_type": "code",
      "metadata": {
        "id": "syeIKbm_7VQN",
        "outputId": "da1a088f-770c-4f12-ca46-cc80a1337265",
        "colab": {
          "base_uri": "https://localhost:8080/"
        }
      },
      "source": [
        "np.cos(-9)"
      ],
      "execution_count": 16,
      "outputs": [
        {
          "output_type": "execute_result",
          "data": {
            "text/plain": [
              "-0.9111302618846769"
            ]
          },
          "metadata": {},
          "execution_count": 16
        }
      ]
    },
    {
      "cell_type": "code",
      "metadata": {
        "id": "XZxYPX0B00QK"
      },
      "source": [
        "with tf.name_scope(\"Placeholders_examples\"):\n",
        "    # Default placeholder that can be arbitrary float32\n",
        "    # scalar, vertor, matrix, etc.\n",
        "    arbitrary_input = tf.placeholder('float32')\n",
        "\n",
        "    # Input vector of arbitrary length\n",
        "    input_vector = tf.placeholder('float32', shape=(None,))\n",
        "\n",
        "    # Input vector that _must_ have 10 elements and integer type\n",
        "    fixed_vector = tf.placeholder('int32', shape=(10,))\n",
        "\n",
        "    # Matrix of arbitrary n_rows and 15 columns\n",
        "    # (e.g. a minibatch of your data table)\n",
        "    input_matrix = tf.placeholder('float32', shape=(None, 15))\n",
        "    \n",
        "    # You can generally use None whenever you don't need a specific shape\n",
        "    input1 = tf.placeholder('float64', shape=(None, 100, None))\n",
        "    input2 = tf.placeholder('int32', shape=(None, None, 3, 224, 224))\n",
        "\n",
        "    # elementwise multiplication\n",
        "    double_the_vector = input_vector*2\n",
        "\n",
        "    # elementwise cosine\n",
        "    elementwise_cosine = tf.cos(input_vector)\n",
        "\n",
        "    # difference between squared vector and vector itself plus one\n",
        "    vector_squares = input_vector**2 - input_vector + 1"
      ],
      "execution_count": 17,
      "outputs": []
    },
    {
      "cell_type": "code",
      "metadata": {
        "id": "iboxEOAA00QL"
      },
      "source": [
        "my_vector =  tf.placeholder('float32', shape=(None,), name=\"VECTOR_1\")\n",
        "my_vector2 = tf.placeholder('float32', shape=(None,))\n",
        "my_transformation = my_vector * my_vector2 / (tf.sin(my_vector) + 1)"
      ],
      "execution_count": 18,
      "outputs": []
    },
    {
      "cell_type": "code",
      "metadata": {
        "id": "1Zqu9Xwc00QL",
        "outputId": "75f9a273-170a-48c1-abd3-eab771494bd2",
        "colab": {
          "base_uri": "https://localhost:8080/"
        }
      },
      "source": [
        "print(my_transformation)"
      ],
      "execution_count": 19,
      "outputs": [
        {
          "output_type": "stream",
          "text": [
            "Tensor(\"truediv:0\", shape=(?,), dtype=float32)\n"
          ],
          "name": "stdout"
        }
      ]
    },
    {
      "cell_type": "code",
      "metadata": {
        "id": "EByP6x5o00QL",
        "outputId": "8ca9cac8-e723-4ed2-e8b5-fe0ddf748823",
        "colab": {
          "base_uri": "https://localhost:8080/"
        }
      },
      "source": [
        "dummy = np.arange(5).astype('float32')\n",
        "print(dummy)\n",
        "my_transformation.eval({my_vector: dummy, my_vector2: dummy[::-1]})"
      ],
      "execution_count": 20,
      "outputs": [
        {
          "output_type": "stream",
          "text": [
            "[0. 1. 2. 3. 4.]\n"
          ],
          "name": "stdout"
        },
        {
          "output_type": "execute_result",
          "data": {
            "text/plain": [
              "array([0.       , 1.6291324, 2.0950115, 2.6289961, 0.       ],\n",
              "      dtype=float32)"
            ]
          },
          "metadata": {},
          "execution_count": 20
        }
      ]
    },
    {
      "cell_type": "code",
      "metadata": {
        "id": "adexmTsX8G5j",
        "outputId": "0355bd8a-19be-484a-e81b-6eb2e2a7ec1b",
        "colab": {
          "base_uri": "https://localhost:8080/"
        }
      },
      "source": [
        "with tf.Session() as s:\n",
        "  #s.run(tf.global_variables_initializer())\n",
        "  print(s.run(my_transformation, {my_vector: dummy, my_vector2: dummy[::-1]}))"
      ],
      "execution_count": 25,
      "outputs": [
        {
          "output_type": "stream",
          "text": [
            "[0.        1.6291324 2.0950115 2.6289961 0.       ]\n"
          ],
          "name": "stdout"
        }
      ]
    },
    {
      "cell_type": "code",
      "metadata": {
        "id": "hYhfa7Xb00QL"
      },
      "source": [
        "writer.add_graph(my_transformation.graph)\n",
        "writer.flush()"
      ],
      "execution_count": 21,
      "outputs": []
    },
    {
      "cell_type": "markdown",
      "metadata": {
        "id": "aeaZXKjj00QM"
      },
      "source": [
        "TensorBoard allows writing scalars, images, audio, histogram. You can read more on tensorboard usage [here](https://www.tensorflow.org/get_started/graph_viz)."
      ]
    },
    {
      "cell_type": "markdown",
      "metadata": {
        "id": "nefDowPP00QM"
      },
      "source": [
        "# Summary\n",
        "* Tensorflow is based on computation graphs\n",
        "* A graph consists of placeholders and transformations"
      ]
    },
    {
      "cell_type": "markdown",
      "metadata": {
        "id": "6wdMMv_b00QM"
      },
      "source": [
        "# Loss function: Mean Squared Error\n",
        "\n",
        "Loss function must be a part of the graph as well, so that we can do backpropagation."
      ]
    },
    {
      "cell_type": "code",
      "metadata": {
        "id": "NjQLcXvy00QM"
      },
      "source": [
        "with tf.name_scope(\"MSE\"):\n",
        "    y_true = tf.placeholder(\"float32\", shape=(None,), name=\"y_true\")\n",
        "    y_predicted = tf.placeholder(\"float32\", shape=(None,), name=\"y_predicted\")\n",
        "    # Implement MSE(y_true, y_predicted), use tf.reduce_mean(...)\n",
        "    # mse = ### YOUR CODE HERE ###\n",
        "    mse = tf.reduce_mean((y_true - y_predicted) ** 2)\n",
        "\n",
        "def compute_mse(vector1, vector2):\n",
        "    return mse.eval({y_true: vector1, y_predicted: vector2})"
      ],
      "execution_count": 26,
      "outputs": []
    },
    {
      "cell_type": "code",
      "metadata": {
        "id": "pwVi8FPC00QN"
      },
      "source": [
        "writer.add_graph(mse.graph)\n",
        "writer.flush()"
      ],
      "execution_count": 27,
      "outputs": []
    },
    {
      "cell_type": "code",
      "metadata": {
        "id": "pHzYMSQA00QN"
      },
      "source": [
        "# Rigorous local testing of MSE implementation\n",
        "import sklearn.metrics\n",
        "for n in [1, 5, 10, 10**3]:\n",
        "    elems = [np.arange(n), np.arange(n, 0, -1), np.zeros(n),\n",
        "             np.ones(n), np.random.random(n), np.random.randint(100, size=n)]\n",
        "    for el in elems:\n",
        "        for el_2 in elems:\n",
        "            true_mse = np.array(sklearn.metrics.mean_squared_error(el, el_2))\n",
        "            my_mse = compute_mse(el, el_2)\n",
        "            if not np.allclose(true_mse, my_mse):\n",
        "                print('mse(%s,%s)' % (el, el_2))\n",
        "                print(\"should be: %f, but your function returned %f\" % (true_mse, my_mse))\n",
        "                raise ValueError('Wrong result')\n"
      ],
      "execution_count": 30,
      "outputs": []
    },
    {
      "cell_type": "markdown",
      "metadata": {
        "id": "qGVYdQsr00QN"
      },
      "source": [
        "# Variables\n",
        "\n",
        "Placeholder and transformation values are not stored in the graph once the execution is finished. This isn't too comfortable if you want your model to have parameters (e.g. network weights) that are always present, but can change their value over time.\n",
        "\n",
        "Tensorflow solves this with `tf.Variable` objects.\n",
        "* You can assign variable a value at any time in your graph\n",
        "* Unlike placeholders, there's no need to explicitly pass values to variables when `s.run(...)`-ing\n",
        "* You can use variables the same way you use transformations \n",
        " "
      ]
    },
    {
      "cell_type": "code",
      "metadata": {
        "id": "J_A-a4w700QN"
      },
      "source": [
        "# Creating a shared variable\n",
        "shared_vector_1 = tf.Variable(initial_value=np.ones(5),\n",
        "                              name=\"example_variable\")"
      ],
      "execution_count": 52,
      "outputs": []
    },
    {
      "cell_type": "code",
      "metadata": {
        "id": "RkEqVQuG00QN",
        "outputId": "c9f7c882-345b-4e77-f392-1e440febe47d",
        "colab": {
          "base_uri": "https://localhost:8080/"
        }
      },
      "source": [
        "s = tf.InteractiveSession()\n",
        "# Initialize variable(s) with initial values\n",
        "s.run(tf.global_variables_initializer())\n",
        "\n",
        "# Evaluating the shared variable\n",
        "print(\"Initial value\", s.run(shared_vector_1))"
      ],
      "execution_count": 40,
      "outputs": [
        {
          "output_type": "stream",
          "text": [
            "Initial value [1. 1. 1. 1. 1.]\n"
          ],
          "name": "stdout"
        },
        {
          "output_type": "stream",
          "text": [
            "/tensorflow-1.15.2/python3.7/tensorflow_core/python/client/session.py:1750: UserWarning: An interactive session is already active. This can cause out-of-memory errors in some cases. You must explicitly call `InteractiveSession.close()` to release resources held by the other session(s).\n",
            "  warnings.warn('An interactive session is already active. This can '\n"
          ],
          "name": "stderr"
        }
      ]
    },
    {
      "cell_type": "code",
      "metadata": {
        "id": "7tjwGFbA00QO",
        "outputId": "4b0e7efe-5aad-433e-95c5-b67b583cf5fd",
        "colab": {
          "base_uri": "https://localhost:8080/"
        }
      },
      "source": [
        "# Setting a new value\n",
        "s.run(shared_vector_1.assign(np.arange(5)))\n",
        "\n",
        "# Getting that new value\n",
        "print(\"New value\", s.run(shared_vector_1))"
      ],
      "execution_count": 53,
      "outputs": [
        {
          "output_type": "stream",
          "text": [
            "New value [0. 1. 2. 3. 4.]\n"
          ],
          "name": "stdout"
        }
      ]
    },
    {
      "cell_type": "code",
      "metadata": {
        "id": "dSvLoxA1Bf2B"
      },
      "source": [
        "s.close()"
      ],
      "execution_count": 36,
      "outputs": []
    },
    {
      "cell_type": "markdown",
      "metadata": {
        "id": "Db7v1uSl00QO"
      },
      "source": [
        "# tf.gradients - why graphs matter\n",
        "* Tensorflow can compute derivatives and gradients automatically using the computation graph\n",
        "* True to its name it can manage matrix derivatives\n",
        "* Gradients are computed as a product of elementary derivatives via the chain rule:\n",
        "\n",
        "$$ {\\partial f(g(x)) \\over \\partial x} = {\\partial f(g(x)) \\over \\partial g(x)}\\cdot {\\partial g(x) \\over \\partial x} $$\n",
        "\n",
        "It can get you the derivative of any graph as long as it knows how to differentiate elementary operations"
      ]
    },
    {
      "cell_type": "code",
      "metadata": {
        "id": "hC_NiUNI00QO"
      },
      "source": [
        "my_scalar = tf.placeholder('float32')\n",
        "\n",
        "scalar_squared = my_scalar**2\n",
        "\n",
        "# A derivative of scalar_squared by my_scalar\n",
        "derivative = tf.gradients(scalar_squared, [my_scalar, ])"
      ],
      "execution_count": 47,
      "outputs": []
    },
    {
      "cell_type": "code",
      "metadata": {
        "id": "3M_3xAbg00QO",
        "outputId": "75ea3a92-fc5a-4596-853b-ea667b0b8b5d",
        "colab": {
          "base_uri": "https://localhost:8080/"
        }
      },
      "source": [
        "derivative"
      ],
      "execution_count": 38,
      "outputs": [
        {
          "output_type": "execute_result",
          "data": {
            "text/plain": [
              "[<tf.Tensor 'gradients/pow_1_grad/Reshape:0' shape=<unknown> dtype=float32>]"
            ]
          },
          "metadata": {},
          "execution_count": 38
        }
      ]
    },
    {
      "cell_type": "code",
      "metadata": {
        "id": "bpKu5QRx00QO",
        "outputId": "b2b7a353-20a5-4cf5-98c8-4bd74af3332c",
        "colab": {
          "base_uri": "https://localhost:8080/",
          "height": 265
        }
      },
      "source": [
        "import matplotlib.pyplot as plt\n",
        "%matplotlib inline\n",
        "\n",
        "x = np.linspace(-3, 3)\n",
        "x_squared, x_squared_der = s.run([scalar_squared, derivative[0]],\n",
        "                                 {my_scalar:x})\n",
        "\n",
        "plt.plot(x, x_squared,label=\"$x^2$\")\n",
        "plt.plot(x, x_squared_der, label=r\"$\\frac{dx^2}{dx}$\")\n",
        "plt.legend();"
      ],
      "execution_count": 54,
      "outputs": [
        {
          "output_type": "display_data",
          "data": {
            "image/png": "[encoded data removed]",
            "text/plain": [
              "<Figure size 432x288 with 1 Axes>"
            ]
          },
          "metadata": {
            "needs_background": "light"
          }
        }
      ]
    },
    {
      "cell_type": "markdown",
      "metadata": {
        "id": "Y0qe72Z500QO"
      },
      "source": [
        "# Why that rocks"
      ]
    },
    {
      "cell_type": "code",
      "metadata": {
        "id": "wPiIF76f00QO"
      },
      "source": [
        "my_vector = tf.placeholder('float32', [None])\n",
        "# Compute the gradient of the next weird function over my_scalar and my_vector\n",
        "# Warning! Trying to understand the meaning of that function may result in permanent brain damage\n",
        "weird_psychotic_function = tf.reduce_mean(\n",
        "    (my_vector+my_scalar)**(1+tf.nn.moments(my_vector,[0])[1]) + \n",
        "    1./ tf.atan(my_scalar))/(my_scalar**2 + 1) + 0.01*tf.sin(\n",
        "    2*my_scalar**1.5)*(tf.reduce_sum(my_vector)* my_scalar**2\n",
        "                      )*tf.exp((my_scalar-4)**2)/(\n",
        "    1+tf.exp((my_scalar-4)**2))*(1.-(tf.exp(-(my_scalar-4)**2)\n",
        "                                    )/(1+tf.exp(-(my_scalar-4)**2)))**2\n",
        "\n",
        "der_by_scalar = tf.gradients(weird_psychotic_function, my_scalar)\n",
        "der_by_vector = tf.gradients(weird_psychotic_function, my_vector)"
      ],
      "execution_count": 55,
      "outputs": []
    },
    {
      "cell_type": "code",
      "metadata": {
        "id": "m0_KGuQY00QP",
        "outputId": "3e637969-b7ed-49d6-88b5-eb07ad5d307a",
        "colab": {
          "base_uri": "https://localhost:8080/",
          "height": 265
        }
      },
      "source": [
        "# Plotting the derivative\n",
        "scalar_space = np.linspace(1, 7, 100)\n",
        "\n",
        "y = [s.run(weird_psychotic_function, {my_scalar:x, my_vector:[1, 2, 3]})\n",
        "     for x in scalar_space]\n",
        "\n",
        "plt.plot(scalar_space, y, label='function')\n",
        "\n",
        "y_der_by_scalar = [s.run(der_by_scalar,\n",
        "                         {my_scalar:x, my_vector:[1, 2, 3]})\n",
        "                   for x in scalar_space]\n",
        "\n",
        "plt.plot(scalar_space, y_der_by_scalar, label='derivative')\n",
        "plt.grid()\n",
        "plt.legend();"
      ],
      "execution_count": 56,
      "outputs": [
        {
          "output_type": "display_data",
          "data": {
            "image/png": "[encoded data removed]",
            "text/plain": [
              "<Figure size 432x288 with 1 Axes>"
            ]
          },
          "metadata": {
            "needs_background": "light"
          }
        }
      ]
    },
    {
      "cell_type": "markdown",
      "metadata": {
        "id": "DJuoQqPo00QP"
      },
      "source": [
        "# Almost done - optimizers\n",
        "\n",
        "While you can perform gradient descent by hand with automatic gradients from above, tensorflow also has some optimization methods implemented for you. Recall momentum & rmsprop?"
      ]
    },
    {
      "cell_type": "code",
      "metadata": {
        "id": "QEFRlNR400QP"
      },
      "source": [
        "y_guess = tf.Variable(np.zeros(2, dtype='float32'))\n",
        "y_true = tf.range(1, 3, dtype='float32')\n",
        "\n",
        "loss = tf.reduce_mean((y_guess - y_true + 0.5*tf.random_normal([2]))**2) \n",
        "\n",
        "step = tf.train.MomentumOptimizer(0.03, 0.5).minimize(loss, var_list=y_guess)"
      ],
      "execution_count": 57,
      "outputs": []
    },
    {
      "cell_type": "markdown",
      "metadata": {
        "id": "ykomkV8k00QP"
      },
      "source": [
        "Let's draw a trajectory of a gradient descent in 2D"
      ]
    },
    {
      "cell_type": "code",
      "metadata": {
        "id": "c01aa7SK00QP",
        "outputId": "ad65ab13-26ed-4eaa-a604-2cc3647dc0e5",
        "colab": {
          "base_uri": "https://localhost:8080/",
          "height": 269
        }
      },
      "source": [
        "from matplotlib import animation, rc\n",
        "import matplotlib_utils\n",
        "from IPython.display import HTML, display_html\n",
        "\n",
        "# nice figure settings\n",
        "fig, ax = plt.subplots()\n",
        "y_true_value = s.run(y_true)\n",
        "level_x = np.arange(0, 2, 0.02)\n",
        "level_y = np.arange(0, 3, 0.02)\n",
        "X, Y = np.meshgrid(level_x, level_y)\n",
        "Z = (X - y_true_value[0])**2 + (Y - y_true_value[1])**2\n",
        "ax.set_xlim(-0.02, 2)\n",
        "ax.set_ylim(-0.02, 3)\n",
        "s.run(tf.global_variables_initializer())\n",
        "ax.scatter(*s.run(y_true), c='red')\n",
        "contour = ax.contour(X, Y, Z, 10)\n",
        "ax.clabel(contour, inline=1, fontsize=10)\n",
        "line, = ax.plot([], [], lw=2)\n",
        "\n",
        "# start animation with empty trajectory\n",
        "def init():\n",
        "    line.set_data([], [])\n",
        "    return (line,)\n",
        "\n",
        "trajectory = [s.run(y_guess)]\n",
        "\n",
        "# one animation step (make one GD step)\n",
        "def animate(i):\n",
        "    s.run(step)\n",
        "    trajectory.append(s.run(y_guess))\n",
        "    line.set_data(*zip(*trajectory))\n",
        "    return (line,)\n",
        "\n",
        "anim = animation.FuncAnimation(fig, animate, init_func=init,\n",
        "                               frames=100, interval=20, blit=True)"
      ],
      "execution_count": 60,
      "outputs": [
        {
          "output_type": "display_data",
          "data": {
            "image/png": "[encoded data removed]",
            "text/plain": [
              "<Figure size 432x288 with 1 Axes>"
            ]
          },
          "metadata": {
            "needs_background": "light"
          }
        }
      ]
    },
    {
      "cell_type": "code",
      "metadata": {
        "id": "s_yIylR500QP",
        "outputId": "79bb47ea-966e-446d-b2b6-3845b219bfc4",
        "colab": {
          "base_uri": "https://localhost:8080/",
          "height": 309
        }
      },
      "source": [
        "try:\n",
        "    display_html(HTML(anim.to_html5_video()))\n",
        "except (RuntimeError, KeyError):\n",
        "    # In case the build-in renderers are unaviable, fall back to\n",
        "    # a custom one, that doesn't require external libraries\n",
        "    anim.save(None, writer=matplotlib_utils.SimpleMovieWriter(0.001))"
      ],
      "execution_count": 61,
      "outputs": [
        {
          "output_type": "display_data",
          "data": {
            "text/html": [
              "<video width=\"432\" height=\"288\" controls autoplay loop>\n",
              "  <source type=\"video/mp4\" src=\"data:video/mp4;base64,AAAAHGZ0eXBNNFYgAAACAGlzb21pc28yYXZjMQAAAAhmcmVlAABO1m1kYXQAAAKuBgX//6rcRem9\n",
              "5tlIt5Ys2CDZI+7veDI2NCAtIGNvcmUgMTUyIHIyODU0IGU5YTU5MDMgLSBILjI2NC9NUEVHLTQg\n",
              "QVZDIGNvZGVjIC0gQ29weWxlZnQgMjAwMy0yMDE3IC0gaHR0cDovL3d3dy52aWRlb2xhbi5vcmcv\n",
              "eDI2NC5odG1sIC0gb3B0aW9uczogY2FiYWM9MSByZWY9MyBkZWJsb2NrPTE6MDowIGFuYWx5c2U9\n",
              "MHgzOjB4MTEzIG1lPWhleCBzdWJtZT03IHBzeT0xIHBzeV9yZD0xLjAwOjAuMDAgbWl4ZWRfcmVm\n",
              "PTEgbWVfcmFuZ2U9MTYgY2hyb21hX21lPTEgdHJlbGxpcz0xIDh4OGRjdD0xIGNxbT0wIGRlYWR6\n",
              "b25lPTIxLDExIGZhc3RfcHNraXA9MSBjaHJvbWFfcXBfb2Zmc2V0PS0yIHRocmVhZHM9MyBsb29r\n",
              "YWhlYWRfdGhyZWFkcz0xIHNsaWNlZF90aHJlYWRzPTAgbnI9MCBkZWNpbWF0ZT0xIGludGVybGFj\n",
              "ZWQ9MCBibHVyYXlfY29tcGF0PTAgY29uc3RyYWluZWRfaW50cmE9MCBiZnJhbWVzPTMgYl9weXJh\n",
              "bWlkPTIgYl9hZGFwdD0xIGJfYmlhcz0wIGRpcmVjdD0xIHdlaWdodGI9MSBvcGVuX2dvcD0wIHdl\n",
              "aWdodHA9MiBrZXlpbnQ9MjUwIGtleWludF9taW49MjUgc2NlbmVjdXQ9NDAgaW50cmFfcmVmcmVz\n",
              "aD0wIHJjX2xvb2thaGVhZD00MCByYz1jcmYgbWJ0cmVlPTEgY3JmPTIzLjAgcWNvbXA9MC42MCBx\n",
              "cG1pbj0wIHFwbWF4PTY5IHFwc3RlcD00IGlwX3JhdGlvPTEuNDAgYXE9MToxLjAwAIAAADI+ZYiE\n",
              "ACv//vZzfAprRzOVLgV292aj5dCS5fsQYPrQAAADAAGq1jzipe3VQKREMzn+ud2GzbOJ43BPcMYj\n",
              "i93Y+Em0ioSb+61aEWEM7dcbRaivTOm4o+VA8ddAAAAFKlUSisUnKcUIhincww6T5PkKpaK19RDU\n",
              "XBPH/pmpmIqHtCYyZf8TZNeLqtLPBRS0zroJvm/0WhHZqHT4sVJ1A0QYyaRH3tm9j8pH6isGYwLm\n",
              "p80b8MFL5upDVMndNVIe0lPtZtq21Dpj84mws4mZKNEZVvfHjNmlvtN2GMNO5l4ylcOc33zCq1wk\n",
              "LPnp9m84I6D4NP3kYl7Qq59cuOH75TPx64OS7N4Z0DPeUwuOKqaVoPrXKk4mlhXQrU6jhfvC6QjJ\n",
              "cQhID7TroGsiNeMxdj8GZGCcPPTtxLa0QEWdQjVZEBd4+mMYwV/aOk2fsfT57cp18uVynvzjd/Eh\n",
              "E81ZKCMtDSiVmpEUsM143oeaGZxPgU5d+UImDim3Kf9X6RiArcbric5Rhm+DjNnncfDklslLzSH4\n",
              "o5ikhdkEjH491aNhpc96SiUcMErPRih5z+TUfhvZSoCJFl+5eJCYjlJ4Gru7LQf7d3M4lHcjjcZP\n",
              "magiNyPja5G+MwpcF5+QwdE1XnMUcOLtFxgWuJbuPlXjjh/48o6kKsls5by4V8xeDWf6a89zSK0n\n",
              "YT4qUZhw1ppSO/Z0rdcf+Pj5fvJI1Qx3b72qFnH9ANCQ5JgTOxcCgR69zhsBlnSI2YRrVse2RzDK\n",
              "btG61oFziQCzb1Zv2CyGFe1F6K7laxnL1rBTNbgIbAIPamqn1dqWqA5U+O9UpQKI6l+RcdvbKlhU\n",
              "N5SLOZj5tAsL75sLJpSiG14HVL+be/bM3Bz2u2iWUKY28dLQkHLejAn9Wp+4N+WDEOrJv6g3S0zJ\n",
              "vJhy227JUNMVISDm58faibtO8S8avxs3/VA65hFNo9zbKnY/cVNd9bsRIDAZE8kGOKzOVJwS423k\n",
              "nkjdG1V17N2S2TBrpNHpQMSqZ40y1lEXepbWzdgHDFA7zrDbDg2dIbp2jo+MbeWlOwYn2e47my8A\n",
              "dv2A8sY/kc1BXtGx+5sWlQs8x6dZZjnamqjjd8JPYNeB59WIQUJRYqYakVfilNBrJaYHEXHrmU4e\n",
              "wCi37Aw6vt0BP0ZxDboAvcGkebH1nDHsFLr2weQOSSQyBn+5xj8oxi7tFAe13LCVZ+5coBc/PWsr\n",
              "QcbmO7B4S5dd3vxBL3baZDsEJligYDRbM1gZO930T2U0v/kYJ3ztOjRw9XrcA7YjNn1kPYJr/bxP\n",
              "amVkcN1B0uYgxMET6367rDt2jeO7ggdQ/aVMQUFSUuWHnVRwufJ9qeskqzufbmIrgUMEQeokz1u5\n",
              "Ac3xCC1wK0m+i6hz9jjDUgm7SseFnjM/skXKVMLodvUQcRABO5KZWFPAhwsm7KqsJfqVIF/Mt+Uu\n",
              "w/8ZwUn23OdZOJiaZLtTCsJWROe4tJdSvHaAJ8R44K/IZWIh/zkUGaKcKsAhwlvaMyhzzJnjyQqE\n",
              "49Xl9si8bEANZ43iJgr6dupi9ZemmXAwnL+I6A0sUQ1i2E7+i1lgjHwhEfT0sN2WkKZpv/ABtR2O\n",
              "0lg5Hm7cl+LPq2IGf3p6su5C0y061d4hXiB0Sz/dsbR8od8n/Ocy0vd9DdOemY+4Ts3IG269/y0o\n",
              "aMSBsXo0m7F2BWfaKOT5AsvR4y5HzM1Fn3PTlRb1MJvtvRWlwyywnLO0FR6Q9dqnFfzbK+LqwtPg\n",
              "g2kAOWpFpyZqquzdxZ5gt8iTwYHIZvSVQF/owfFgP03+Wz4KrIWcvAs8JUj4wDO4L8FVucx/YDSC\n",
              "pC27a837HYaNioOzt1timLBjYBJIsQGiXvOR5Urh88HlVCDxAcB0Kql80DBfeFwLixMwToED/Syi\n",
              "1kDudVLbfPUhItNw2AwaTFgu35tSwEiGA1SFWhZNNCSEsBbHFMTV9BUeclTw0bDkAgu2STlpLgMJ\n",
              "wCH3m1RdBTagkqHvS/ZoxdRdiLr7OS9dxZbCXpPNGmooaB23CrrtXzYrUazlsDRZSh/RrLIyDfBi\n",
              "8vF6quaEq9Yz/pWwoMH/BqB/iS73KwTn15v503d4sIqh1dE8OVfyN4aDoldjWrwKB76T40DaLKVh\n",
              "XDtMmLAgKX1VZ21aYuCw/QQ5ZzTWD8nCHMumHcV94pj9IPXpkgtesLUjcHiZBaNELbPkc2O+qyu/\n",
              "//7KwW1t5MXPsZRWeGLzRm9QomEl5tu7t3JUADTESttZNo+zcqFCVXz29xqr3aXvF/RVelHPYGF/\n",
              "+8DxzBklvrYmAKnaeJbKuizzjZKCfWtWRzkjgYNCX8+1nKwgvDV1FykaUG76ieUggZXft/SgXDts\n",
              "rYNlnO642XSr7IisX3j2tnvpXLPl0SfPCpGVUy+5RkHmjkiEIoQC4pcxTx0lq1Al+GuTPO2+p1PJ\n",
              "hhDB796j4Zo/MfNmt/8tQvIB/QHC7PV0AwegtbaGmWTCMijLaTok5VQFERylQoXt4UhABKirRWZT\n",
              "dLWs83EzNywETwtE2msOsWBXKW1XeuCYccIuNUvKZxCEBoZRL+4DyiWGDoOjP0Wcq5xzfvl2WQVu\n",
              "iBBKosalAJMjgcyg9tRaRvzvd+49SuqyVqaJOECq5L37lIbJbAvenFJbdg/CdFqadUZ0uVBzF2Pl\n",
              "vrXmEij2F8FkE2pqlUqQaEmwo9uOs1miNhjtJoXugV9onVCIAYuZFOg/Ps+W4RvnnmV3kc95AWsl\n",
              "Q+PpENUH2VI70x4b0yLzMR/a0YmWoYvVXPQLHO2ARF5ykoIRTuYzQqfLSArzOnW0AdqeVrsHp43Q\n",
              "2dsataI/v+7ZJALZHyLVWMH/y7r5Ie4PfbbvZEU9hMtBtccoIlHAqj59OB1FrtpHDa+qZ12kI36v\n",
              "pEiYv/SO2FLZv7hZhAOcqzasFjIRP2l7nBxPqiCo0SWbEI1wYSyuzjO5K/NfFsX274XPUSiXrbqO\n",
              "OEavzRnmbUKOIpgxNiKSnhUVzudKW7vxv/D9L+afe7UfQCk3OqDXdRa9qPddZcoZ2fdOmihDD3CB\n",
              "O1IetGbE/Xa/YZ7usqymz63YjGldABtiq0aCIszeu1GtgCGkfajgpAkeSJS3vi0tSQDVL5Lbjc0/\n",
              "s6fusOjN/0g7NtsRyC1xnc70ytGbwUWq5aFGYW6DUbwQCM78ZRN4et4txHxjAmfGgMqcTdGhKiSO\n",
              "GsQmK4gqewaGgtAQYdNLGqhgFp1Gv7rbzC/GB/IchNLw68qA5wP9IerzkiP5ez98zMG9Po4CfAJj\n",
              "7gxnH4b1aoPns+dkErDErL6n5ebvqZwofTNaYmwTllLI08bswjKiWpikuoF8bTDiqeeaye3rDUmS\n",
              "D85Z0ZK81quqfTVt4H7N9Y9Xi0YzecyMYImJmMqfSSFI/PQqUQb6aTl7W9lwCn+j7SfW9L1AXFPS\n",
              "EDvlWEW4o/fiYSHZpoY6MjcG+4B3pjmI5vUfde9UES4MBTKINS8tGjbQ2sVhNjEc9DGC7hv9Vzc4\n",
              "3/PvL1vT1NL9a2do7hyieOPKb181ZLgmLYKbutE5ceXvhYauvp6Y8D1iXisk0Icc4cG+pD4T1Tz0\n",
              "RU2VITijr1wDy+t1oMOD6tpBTicOzrQ9WOV8XcTqjL3bhhu5zwrvOrnVd1onQ66RsuFdYjbNZtmu\n",
              "BH8v15L2F0H+bwX+czeyq0M1h9kVeveCGdnvjqE1PbcsQOnYeLxbA0Z1IoTqwV3hGGJk4emrVqJT\n",
              "Mt9LsyywvucTPiEX81r4RxOJwkCvsaU8SKCjNDcoxsT3iMYf7rpDhq85xPQhHfFMQmzVmanR+uiS\n",
              "Z1qSbevtysks1CJ2MMezVpRlhmHKC6+vLwOvIDrh9njG3IR7gy63RZxRiKeLfi5fZJXvOWvMZw75\n",
              "w5hcYZ/iinxm+7znJsEmOlr+t1g07hD1Q2N/+WcLYOuBETrvmv0TF1A5Zvh8uOiwlWcv2jqE/0/0\n",
              "bWSJ76x9HPaE0Hl0GdHX2TEIrQ//ww5P2oQYSmqINOZqJjxbt9P6NnlvrjFfvn+kvgGNdrjn6QF9\n",
              "yaaNoa0ha8A4eAc2ONCAZah2OI8nOPpaAiyTbthphwk5RzaJlBWk76ajfwTr5HFXLUBbjh2ePeVr\n",
              "Q+tKa+AyS9K6/ZtCJ5jofC3xAhd8BVOBR3cFJOrXGDPoaphHoNRYf8rG/N/ceCQs/+yLrebz4CNK\n",
              "Ix4R6YohVWCqZvjkdcVGP1QIsV2jlaAy3TyxkXHb8ynXO/rMW3O2z5yZJJeaGSUgfJeSAW49/7Sn\n",
              "aqCevLiajTo+TFvd7EBhoHLXROxcYf//1Bzi8cJJFQ9Yjy+7wEwjvOuzFJCfqAgckaCg3uqFyhfp\n",
              "T0K5L+sQp4Oi4mXMyua8PWsBg6hBZcaghWYeNeJ2DxUEah8zaZOYdlISC74tYdJROti9mukJgaEu\n",
              "ayp9oRzMhZSG0Sm1u4SGSnlLMhHT+zG165JUUiBDKoP9qtZIzXOfyA5cLoHYWDJlJ6npV87AnF3S\n",
              "GAlcpDyBSIRhLibR9LKvM4QogZhBEWjaHUnzyiCC3EFvyYAIG4to6xqIDF2PXVzB4vavy+tw/az1\n",
              "N4vjthJL0gnNvRra8WsspYupBJE+6fu8JRZ9+n9m42SCEXAZrFJ2Q4bUdO68lWpCFGkMG67ViptI\n",
              "L+Q8mgEz0OPvq2T684kQ7cGmr+ZDcOYhc1bjFfg3XLC9KXJEMD7Mg2jZ5TfOgl2mXBSx4LRSCADI\n",
              "2iJ+GQvqavKNK+mykr1rZl97dhPi1tW3/fe9KY6OiJRDydxftOa5u1xWICWVIXCUE8PFdj4FfchK\n",
              "CdEMxHoLbyqNEK2t549SDn7U3/T/q0KofA1bHqKIZf8EtWJ8mXh4oeZP0jLjeymgY1e8b7mgfuxK\n",
              "LtGeKTaW04b1p4HfuMCtwOyQPHJNya1G+zfcpysfTKoqSi9PFXcoJsO4byabZqBxqN/QoE4RTLqw\n",
              "sImHt3TGItKyI1tVaRZBPsH8aAc1c0uwfPzIT1InQbJe9jzy1YwqsFdgblLfFjvoCiNg1qzVtcAA\n",
              "J9l0QJ2OyH4+cah9O8/XBs6X0SVPsAUVAcQ2RiIU7UQ4YrUx1lnAs4X7mZG2DBWHpYFTdPbj2XCp\n",
              "re3spOzfF17X1KRY7DulOpu7pwB3LdB5it1KSQ0uYodHNufdxtZbxmtB2OqhezWlPJV+ekn6YSGR\n",
              "5/fP+78e90UKLbQazjXviCMDqSgLJ9J3KTxSoW+3Qu/2rD2egNHIa0g+m5Es6aWJwfD4Pdn0bWBW\n",
              "/xFzV70Yi6OICYLCValVT/2QkX/KYsW2nFxDqBBArw8S0a3Z0ZSo4TDeSl0vVfVradOZOL/eFeEb\n",
              "/+OcAWiAOlA+7+OLGVSe8cEXKithbMZRl/ar8blCM24adHHtFkrvmeNEtI7zwNh88/u0dHN9zvI0\n",
              "cV5h2pAiNqHOhu929ZodUDfm4Ne65speSpau9XpKJ6jyGwCXeUeMPyVRrg8+KxhXi4RqExnOP2f1\n",
              "TBcROasH0iEZIbLG8pDFuGsAO6cqCYHn+Hk0LSPedQ7sSzkAvwA0YlqKZg/VgOPqWRzK639XWm7v\n",
              "ii3t+wWc2hcIAYWwti9dQY1z1jcwzhEdaAe4wUwaKOx6gM9XwJTpYxCOyBvieXODuyIQ1JIemouZ\n",
              "UzFstdfR8Ot0kMtZFX+89WfAKQvKQyXbPC+nv4MsVpNlXQPNM1gIidceUcKVJxTGW4IIWNnBTAyl\n",
              "k5FERtRt4Lw/Jr8Si5jdRsiirBlARhbxZJU9C3gyGeNFMa/gyyCa8Z4UALsSPlLBaHd3OTlPalW0\n",
              "JkzNwdCioLZ6fQSTowkqgXmPoOdas/LNZn6WmDgVstvI9/n8mxtnFrf96skXQyrH50DWHGsoTByf\n",
              "vcsk3BZkZZ6lZLqrviWYBacfLbUPSc4/DYWhyYhVSH1LlIwUFHtQFQ/Q2LASvdnKBdE68vh7j8m5\n",
              "wjjh0r2ECTic5Q/5MlBbOcvzOej3amcznvu4HQqtmdLKwmJTt/KQk4sx9cJepj03CJRQDCf/fVv3\n",
              "DZw6SPpqmj5/iEe7z9EgJzAlwMpljj/ZcxKDGDN7xaiwApGfeFOj5BF/J2sO++aaqw4XGhzQt1Aa\n",
              "4QBImwLXo6nMYjDA//3p3q1QuRS1kZq9rsyfxSfN/a7qI1sv2uOUG0ttB9/ynQySmyHGDo+/be7I\n",
              "eRJ6zOkByODJ5BXfjvZnkiLrMX22UMRKRf/x9e0IYOp9mDmvutgwBSP0Meqarr/0KXCB++9X/Fdj\n",
              "mx2OfXa1QAIeoHH/uMaejfg0CZR4Ko/7cp9VZ7NgBDUdvNvq8Hln1qU7Xter/sdefYEP4++s3zHM\n",
              "3L5KyRbRw8TnTi9jX1hmuFEkISK37ZzwL2QiEVs5zvE4g7XEZxGF6r4cE9X4aUj98plhPGXEj276\n",
              "oLaWi3ilGLwcavC2bRRK0GpimJVwGke4jMmhKsD/qmPEiLqn0V9/9VQJFJiG8haTqWjCirxaYrQJ\n",
              "VOJDjkhxP/aIX+NVZD64dXhRhM+dZ2QhRz65mJtz2ln2U+rXS3bc9q6r84jSasM3CHL74/JaCAh1\n",
              "lNpbOzZh+1uskHGD/DqZyht1W3/CkMGQ2g05mE0V6RTAwVHPdfyF2onGERpys4CnoZQdNJmZvOtP\n",
              "Z+uNttnSIQb3yBGs6/zwmWjxgF2iD7dXCtQqXE9/jC2Zn2Tnpmhdcvev+L2YfMDWV5qKzDTTkDSr\n",
              "SvJKe9shpx3YUXFxIatchhZKvTzXTyWCSFe45CfmSjA4BSYDXBA5s4Qr4N6dKPQGKIM7cUFCel6j\n",
              "6cOCc/cmCigBSliZk7/w22Y3wE6O2B0XPZmWB857Yf69E73/JEMgF2oZI24Rx8I0hlSW5W6Mddti\n",
              "WhYP/1vDWRg+IzKy9j9EvlHbVEhk9wZCfeOWLcEnJaaPUt9PmY9Oraj7VjFO5H9un88+3uuDkhaB\n",
              "gtNdUN/pKWt9mEnE8JBJJOMs1BadKc4FjQcx3u5c0LJ7vLq3WSSVbkB3TWaq+6qaZ8H2ATdryjj2\n",
              "Qv5W5yChVwlBSPp/B7svX2UZ7f1N/ywf+3DgxK8aaxO7Ln+Bnu6YfWZ23dz3ISt/KMGsa16lZtJ5\n",
              "Mey1+5CoIVosFa+2GRnWlcFQIDl1wyPnDubMTCbhECk6Xnj/Ad6cP+UsDp1AagEE965wLJ8utKO9\n",
              "EhURnhpw256MJl603epjUb016GTRUui97FbfmVL3ZVd0FZXNTwBpNrs9a99lf5IwUBodmeLDn3yl\n",
              "LI/U9yaouhvDDIcT5i9jJqJ00Q/m775WwsCHgp/TbyghDC5fjovMYWwtZxNtM0uvMzgBaLaeeDXh\n",
              "O6ruQSjlKp/61exsrLKWohx9CTHfTS2vwtPZ/cLBoyPkWZ1n//8SMAZpa3CjL3Q+rWdvp1Fetsok\n",
              "A2FukogxA5qLGW5gKZFq0PsOFdI9dNqSTSMhWi2rhi8a8elOD5o++UarKEjv9Z8ZMSmYb9N/Wzv9\n",
              "8Ouf9ylCtEKvXN77wfk3gKMIpUkUyGAJ/uO4sipUiEXOFRgB+XhcHp+2nLVR/hbfloUDv/nZPuS6\n",
              "a88MrpaC45wBbU6plAxiHEd5rtW0ivghBfzlCk5h4UxDUpI2/7qC3CMeaT+1v2Nlv5vxJnYEa52e\n",
              "07iCw40t4zSY5prDC4BGnSoLRBdOi9MYHpYWtUdlav8zzAvFnTAOAPz7lHORUlfdFhSaODJgbhsx\n",
              "eel93nwFUfqj1bismUsXp9C2rN0KIbilzL+dfMlD8iRKYllkKvAfcIOu3QmF1YSjfLy8pvqQdRpZ\n",
              "ZFI+h7MWQ0jkwmRWYDXKj+OYlSs63clFVweF7JeCLyD8D3Kg1i6Gwf4Jdqph8fq+k8w1vreD/+E4\n",
              "WuzX5wu0F9WUHwtVG/Ax3J+0eilkiaptzII/EcdhnBVKlWGhVtZxmJKGJsXViuTFErBWXzDFL1PG\n",
              "S6KgFnEpgAT3LNffX3FhW+rsJWrCHjjq4Klw0oJ4iDhkXDeK9y13N+YN7cCYmjwUu43oRzC7mjDc\n",
              "TVFHY8UZ5Lyfvdk8yOvAWfxb7piy1NDXI/0ZYZm3Y7DLfjOVSwbWjRLaWeTYxnWX0Nfmp7B+Mxo1\n",
              "oyDcqft/3lt3VkCKrUosW5SxZLvJ5uqfU3eJVFrzJ0yI8fu8Lrc8MuKVwXPmKjc/dN4jI3lRUmce\n",
              "7W4m/j80PWQ+zQE/lVerjiSTE40e0GJ06cbynUG6queHz6Xy7oNAG5JEfe5OnuXFoRCS3Kz8sEvf\n",
              "qeU8lhJWMoeh89Pje4febVLTQKygwuFKTENQN2iz7/PEeUGXX1c8klJROYQW/leSv/QEV+l4tna2\n",
              "KlL1ibC283fjH37RSK7kUmbanoGkjbkp9Ihk2B+S/UrhOx5XJ60uQBbNpA2WjlNO9hZ7s4Q4JUm8\n",
              "HDcSchY0JE/WhvyPFRwOAaaW/KHz/2wz93K+wPtjkGbUVcsCeE1ry0ofbYudOeXEUbDlCHaA0F6z\n",
              "I9ln/edPTNrNLlIG3vJb/XuSV3TMaO7+1pXaYrW59/L0Qx97CenW9Hky/bu8hqZkaIkLG1gGCMFD\n",
              "PLSdJbapsM/0+uOqufM56lKlDwUmmwvWCR+8JRXMQLd11Qhb3uqH0bU/BxgeZ1Jlwsv7VoSi0fJg\n",
              "rXr/pPnxgCDJ/Is3FfWmsaR2XQmP3N0m9A9AEopZVoeoHlZa28tFfVE+/6BAhg9STCOAwQ8ue7zK\n",
              "zW08n+O2DE3J79YVvR/6sIfWb5XWcZhxpdwSKqR7ri16pAh9qlqTJcu5+r4iPMeATDYgguLeQH5P\n",
              "jLsATzdbosGbOK36hdoUdJvtOqsHkFpx+9E77tyj5YnDa7CyHduzdUxfH6X4ig0GoVPXxrPtXUtL\n",
              "AFG03+uD7X2IXtOynxj9UDQll5OwcfMYG7FlW5LHUZlqvbdqfxBMwOWgYreVwWL0WY0y29qrIzMM\n",
              "Ce/x50AkSQxcM6vHo8fHYSLA7iTN8J+fuVu4oFB5JZWMnh/HmyFL9HjfuyjgggPro0KvZ7EVoj5E\n",
              "y+aEHNwQNya8hmFF5Y+F48PxCWrq82O1cgLFA3/B32BtvZi7jyM4RSerItbdPh1IaL1PAPc+1Bwh\n",
              "GbXvMMtYBRFHOPdk0+e9ScwWP0QhBRbzPwhIX7WIxe8MjojpqjzbdJuuF0UL+h5YdSiSAt/LJXNN\n",
              "sUZd/c3oN+COP3QcNssB1yjMoKSdB1TPjHnc6sJV1cwAv3EQ0EU7q2h794T1L9crog/IlV/P7pcE\n",
              "xY64DaDHdQjib/qjFNu1c/tLY372XpCsk3yY0Elo4i5XGrNXphvpdC0TTJOLENTqtzny823XMhk/\n",
              "ANH2DrGnkrExkSSn5ED1AJs0khxPJdDqCBXTty3OpPpucJ3TSx+IJ5PBCm2JYNnvGIR5lIN/YMnC\n",
              "OzU+02s6pSZOSgDJ7ZDlF67hjKMHzf8PgAoLD7M8jkSlSoijBI3S3HmHGykqtmx1i7vYKvQMfR2b\n",
              "Yq8vco0sjCy+Gyk0bN4xMQuwJPkaJbewIbBirOOOZZ/FCI3exuwcE6CbL0FBUGnRl8u9374l7p1e\n",
              "BOoPNKLvoEmilAfxUZFsP7ykiQeuGGWFyYvv1r4z9PheDF7OOlyIOcrAIGr5nQuKHplwUyzmNfI9\n",
              "96UUePrNbZLSpYQrU6gF5wntqLKIwl9WEbY9PsrsSvSIOYFePyM53PBxvV7L5axtASW8Fl+hb/xJ\n",
              "dJLJ0q0Jv5hrBqvPAe5JkitMde2KI+2TnHbUNWhbcDku6KWpNDrdG3iSlSKzTpB6g4y6in3U8ux8\n",
              "PSOyyEgM4zXFUAauRsYi2/tu9GmBHJTvu6GvaZzLWOk6gX+KRsoO6jIdG5g2Oq+R3JMFb2GR6XPY\n",
              "EAVjfme8qvhc+cn1Io6iyO3GAINkBRcuA61btsrP//lHsfOArquwa8O/r/XRXpMv/wuJtxHkfcS8\n",
              "BihbxSeDTgeauy5XRhnE+p0PtWyo6Tpm0ka2VAhcPZa0mYdDrGL7rv87oPabCPt/fK4g5pGmiUNF\n",
              "dJ398CfwNC9Zcu7LqxK7XnWrtVsv4G0DnSDUW+24X1r8FRkh6zm9ZT6u02t7KYs5hDYWHkD4a9Kk\n",
              "tNPJR8Jq8OMSnHvQsMGBWf1hG8mdHPyBdOoWEf1ZSspLBoCY4i6eofIiz7XYNLa3EmLWvmSOaWvn\n",
              "mid7AJ6C/Kal9ES8xqNYJFdRV+Icp7rNNjD3vzh9zDNmUbtd1EgwrsUBhW7ny9yiXcfj6u6KSi9m\n",
              "9iCJ5yZJbIb0KDcbq+zy9zR4x4TfZ1uOogV5cDytZGJ0ekrslImr443qJHUow7L6ahZuD3xX7DuI\n",
              "YhvSXJhpPbNfSlXcbBeyevHrLbx63sEU7IHI3jrL8hkbnX1511nH5snMJGd2bAgkjjBgPdgdoF18\n",
              "vCglsXwkCufT31jtlugd680Hc1s2otkFaepRHnnr8q5C1arRhbaYX0TLoy0Cu7HuOJH0SeCj5twL\n",
              "sbO+NtQU95RZ7nwiZtl60EsEKxQcIT3RB6yhYGsq2ZfrEy5xJmeFIl/+hBDPmazr0xIWx/17Kjff\n",
              "D1wp0yZqMLHvpWyWq8JjSTu25akg+LaXAVwXt/s8dl4KQwe8ewVoT6EVVGbeUoIiow+qbUGoZpar\n",
              "YXWa9PEnkS8FYhbIa1+dlSG7pN5xC/kO7iuf5/MlDxz/yYG3f6B+bn7Xx6eoqW5cLxE9dJeZEH2d\n",
              "dQPIHUAE7AyIEhIkS6K7h8WQE2J/R0l/b54EGfdYpwm6l/DG19FtH1ztv9DiR9EhdcjtgOwVKlMT\n",
              "Z/L1B/m8zuza5vZe/FErLgft1+cPeHJrOkxZ55BLLOsupwOVEt2kUyzzjpbYlJudhSrv0D8MSSLZ\n",
              "c8sSAzunHDqv+N5u+6KP0qUeGFCk64Q9f27kceTJXHvp/Shs09RbdQC+AQihjrkc3Cqfhc1zT1ca\n",
              "NnidZUhmxV7/yStcGOj53baTEZaxigjvVgBcYITDeVqrp4qsPBuG0/CoP9LMEeP6WWD+lkaAks8S\n",
              "5yKbz5rPW1/PJ2SFzPKYeqgj1G2a6b1ELMaqD85qi+/Iz77tR0t2nMfyqIq4qdoIXs+IpnGwVsNt\n",
              "Wu8WqafXugrkQeYpzV7ji5dW2VXflRXMsQkFj0LKwe94Jbi4FGKfJ63OrFCzMfwELY4rUQYEwIVZ\n",
              "l1q6SrgRQCOatF1SGd0alFTPQCRyM81koSI2bXBEgTcqsUF1qPTIX8XiFnH/O6V7lqck9oQeqI2k\n",
              "MsoVTpLMuk8v8oSC/BG7eCRphhFK/AnWgwepqDTltLbcX4jfWh8MDVlHIco2srvRHOGs1C+dX//D\n",
              "DS9thfxIPIOvnm/xXwSR2rL2o6qMKUhC1YTDiWLUnHWxVwht4wrqer+vnkeLLC/JeOEX7/wY7qcN\n",
              "+kJnubHx1O4cTY/lVcVGgIDcTUStXSE87MUJbS4OC7Xo30d/TB9K2+Ghp2oxZO18AZ/iEzQb+pSp\n",
              "H3FhKeTWCoiNklNEAmWpsv/4vSptPYZXsYP0aKEJz1zfyy7TQG6Ep6Q58G0GeVYyZIACrLlosEGO\n",
              "HLiOmFR619omIU6xHdjHfsXw/KwWldLNjqTKJ48ExCheI1eA6Vu92KidDWbkFHU1NiQhxs0Q/quG\n",
              "+sZVTN4yMjhSCJ1Q9RUXO455oNavF/NbcWJ3thN+hK4yMiCBIMYuPCNeAVC2zAXujdgJXwP9qYP5\n",
              "9Oj6VRgV9m2nMksoHU3I9+LUqUFh6UA4xHbA0gTiA1/7TP3qjUlOm9dswxD+XvCGcHoO3HSwQi7T\n",
              "UVUUPdDO/D2x/I1++4zNwJ4pUA/RpNl66V5nInLBknAGPUd4h5NjzHV3Ry9pIPwXSxKL9wU1QyzG\n",
              "kvlddZ/LaXLr48etCgEGXrL9KzFuuY/Kwb8mQr8+4ZCGo+1oFa7GrQkxOSg2aQ/bHHGGCo1cGx6V\n",
              "syZGqwVIUYQyELJgXBf0RwUzZH+H9oOnms2FSc9QzfUJyyx5LPzI2gjSzFqIEZvy6UTdCTrnrny8\n",
              "ps+ttaAcGbyKtPG1QnJ/bJJy4HISsM8rQH37ICTn90u1ngWwYA+SwpF/lds+AGND0qoUbbOawSpx\n",
              "ov1F7zREmEdU+LOLB6+LZQEwfvKNH49zlbS2OG1as2LRZyETgCjwyFFBB3zBHZ+wJgLrOyL2B8f3\n",
              "xw3F5B7azuIf9QQzf7/Ys6XnzMeWEKoKZDeTyh1fvJRtdkyQz/1EChhxyl2SiMLMd2XPw2cuwti9\n",
              "z3luypi9inhJxlgsUOS1OpKyfW8479LdUN5xZ3nXFHHdNUZ4WhLUb/ImSLNxhl4fmKoFLXjs7L2V\n",
              "3qPcAwFUXnWM1qcpkl+PdE+2VqgTlu3JG6i5n+K/Ho/Tfzf50zfpobgC7YjEmy7RdjSZ1kOIULBN\n",
              "+JX+5N2M5of+hIJW7O5UI05R+bf9CVsQeIbneEin2uMYL24CXpPOBgXo1dM4Kf6Phw9p7Y0Yu7qt\n",
              "ODIkuK0vIXE+KNZvobj5tiXwmujZM2s9IhXuA45FGzSovVeqJoMVAkA0yiZ9Cqm9PH2uGPQHggSF\n",
              "6pY/B2s6litefSzBlJvmYg8qR3BaBuBZ78AGyqpFEEDuQWVHPYGPBVkB469aEItMWwHz84Ae2kX6\n",
              "qGI/EMyzm7VU372nl56nL5wzM+MjO1M3bZPbq4JLf+QfZs8+IWpc8wba1wwih2O0QT44Djn0V96G\n",
              "OY5VpdJZ/tFoDH32+fWE2TqNSfEh8+0ziaueAtt9pxhn5TwXM7qFye8k37vbBrOBONAraWtuIyd7\n",
              "gVM4LSrTag1P+mlOQEm6kRWaQbS4uBgY+YivxSxe/7DNfyhesJ2mtaQPW5szUeSZWhq9v47wz3vj\n",
              "M/Cr/XWVaSnguh13Us3Tx3ecgzYGXD4rVC7VpbY537uRvzEGVVLhp19y0A7qQS3v8eqDjIb7/m1X\n",
              "nOAVpSGSIVsU6MgO/e6x2HCKahZLq0qvivpt3lhfvPtzJq/Z5XZBCxYZ2K5ulQYpTKqMoTslkTYS\n",
              "T0fffKqggyt7hQjNAQ7F7gHpdOZgyiPZWvZUdqufBJ5UeaKy61toxkqndED/4NbCfT/+U2b51YJq\n",
              "UGaLWlZre5SLWtMTlNa7yzlEwXHiRFyBI3UTzzro5ipEnVs9+iubw5zpPc9U9wjhYxYSRVKz/J2u\n",
              "rOOkTw6jEMjEW8Ukg2NuIFMkKBb0VV1dj9SyHlExlUWM7FluXqhVbzSo3U1TjNcbV5P3lgc/5D8N\n",
              "Ylh7iw+CaE3xSoC9I/pnRIw1cgPhpN42M6g5Zr1s6J9abioNd4acZGGhUUzoKFFiRxcH6MQw11vE\n",
              "1OgLK4DS/XXZ8e+ZBRSvsB/SNeeLNAJpoHh0Dmc41+bLwrgVBx4S+oZBq+GODsfFCGOyYSH/s+zR\n",
              "XzmFkCz7mSSNcwQ/yjzviFH+UyM0fQR/N3EIVZVQ1Kd202CtwopapaDDAoQE2M7rykEZziXMiIrf\n",
              "YC96n25QSh09oN5PE0bzYMSlERqOYEFMb+/alR8iY12rfVOjleEurIM8uTuwKTroSOaV7+zgyNjW\n",
              "Q1Sjqkl7i5hIXFIhxaqIdAELu1moCgcrwkPU4yHPBEg/qzISHhwuO5hM9D2T/2vy0wqkqYrj9O4r\n",
              "C9PXH3EPJCCTZ8Hpp2gPUbFL7Vsctu81yDu2JVDC3FKWqcvNWFZi0VMKJ9TYtLAYjjFTH8oa/kPe\n",
              "d9IWWO/sebm5u5eZxxiYIQJu9/JAhEq2SRftuvlBILwIwy/anv3peV3kI3ERaqt7R83a9qquIj8g\n",
              "AwBmSWBigw5Owtl8rZWSnz0ZpTelmkBDC/6jZ2lbv6t0xGxH2JIOZEA1RXgN+uoRza13cCe4iwLt\n",
              "t0nAhnQQ/ISTtfxr1PbWC6Z0g+Knu9LmDDR531VQ2LOeg+dOvmIyKq36eTOpY9bW0pIt1XoM6NEo\n",
              "uqcgXj4uIzkHJutLwnLkcUuHVAvXEoshgmDe2BAAPvImgjgYtuIr8octqGwaBPPNydU2xNA8dd7i\n",
              "tL11PUT0PV+8Bq1E4jXONRkVLtFdM+U6ZsAzO77kbhvwNc59SHEZRE6Xd/71ZhpR92zd08p01brS\n",
              "CIQLLtuBTw39fJRdB2rNayDxO7JxoHQOssRa/l8hlNKr5loxl/SAMJzG8WxHxcSeT7c9+lapxmpn\n",
              "1LvruI5MDE1g0SUY0f1IFfYFCTXsHX0nTXyHyBy2oBICFqyHEnkmk7K+6Zp9x6+EpBfLzS4ucXBf\n",
              "yMq/+vA+Kxe39FTvJSj/EiRzpZhHqXEwzoJEIRCW2iSVU54dPEuoR+wb9wIBoNpRj5kWimiFAIw7\n",
              "26dqdE2750O7pB2Jpu2MbrC6lu1IRWLr6iUbVly8Q94SG70Tba212nwwLEx4m1GQpaa3SwnO83xY\n",
              "qw9WYo5PEuPCvaxlRzqeThXPJ3QO5ix+3xswSV2UCHthZn3EajvEgCSaPxq8CQoCvoMAWW6aoQ5Q\n",
              "Z1GYFf9Hq567NRCpPcISu9jfBk+V75bqPmEb67g+s7DRQJSAW/TrmJBpPj5tR+vuQ+sYcOOh9R04\n",
              "BfKDxkn2/WmKpEafoasXu7FKOYSSwF3ZopTzLdwntni4PlaLyFx5k5AQK2BaFN6RyhOMYG5aTZiG\n",
              "1pj10HSifXr/GAFI4ik3yq92wPmRkZ0/PtOz6PHHtr9fW01ajLFsmrV/2LCX0WpSnxZvMceq6Gpp\n",
              "hAXnA2Y4E3ytKnAE1MFoUVYDQ+G8C8Fz21EBGk6snINHjqsJA6Hy4uDQ6evoy02kjN9p7fr/17H6\n",
              "Z5FnlqVvf3REjKJlYOMstbkLF5wO/4wbYpW/e7dkM673AVnLJ6lZJ5OnPJtiy3bY5G0UVDQ9z1QU\n",
              "TmP5S6DE1glitdjTN///6WWB3Up7MalM0M66urYQ3AeJHsDLFlJGOR0RICRgyVL/Hl/7cDlT3C3M\n",
              "4A5iZy2d6M7NK+qMa+M7SwAWoyEwu4a8utThFRAABC5meZ8PVMpKWJjoP/Ha5XW/m/1gjjzQmXCI\n",
              "xKZzg4FAcdgxQfngxPmlAk58ceJa3ItXmzjBbGA0OI8DxKEtGBYMFpC7sTBf24W8oBaSfrvRnhVK\n",
              "7Z5rlWwvYVb+22aJaaK2BU5TadDwj7idb7YTrjO/K+awbdCR8fc0Xo11pXJVWh+hbwQdeTlgML7K\n",
              "OqajPGBqDqJt5a6gUUdiQHMMgJCjArhAFpyi+bnvZm2+VYtGtM7RZjJ6xmS4Oqd2rNbenHmswB8V\n",
              "ebd3L2c4Xc1VvRy86wtdevH1QHRHHsfhEz7z+hGu5KyKPxQ2J23Xf2k/TdJ1GJS04KVqp0+IrIDP\n",
              "W/6V/XdXGQx3vo4s4xkWCcy7MF4kvGIPyWkAdfgBa5YCpKL+x6RFWcd5Tb8FY7FzlxWQ8MYdY7o8\n",
              "e+NnC8TWuuO1hDb4UJrdp0OediDfQqbDS+bSOkpQ2f/c326w2HDm83yYTln0doMBkUTHSD/7vzdn\n",
              "GbvA+YTLfrVbw04aHQRQZEEzn+8ZzjsL/w1Gy5MlPjTIGtq4/yXf+34TLd/2wTZMuMdecnGODb/0\n",
              "7kg4x5A2I8AolGy7BpOEpKPYgCZ4NWSwRiv01esRmI6wJRJ5EPjEYvimn91gVBikSexHotlpOOuy\n",
              "ado9dhD1Ip6llwTX+k/aAnMLRnUSHfXA0klIsZ/kpoOU6OoA+94EPMRrUocfsLFztzIITchif5sl\n",
              "3FeDzodpNBIlux4A+xqz5QRmfzikWn9NaWDbJ3vasAuAD2ioZgWBozZRhLLOdHqt1/d677qWNqNa\n",
              "8cCAennC+DjOphcjjSWXSe/P9pcn4lzrW+5RGaaUEI/l8wixkrpE1D0xXAU3wvVcL2VmiNkMAcRz\n",
              "uwpqNg6x87ywDQR9Alkmso9W0hvazLQBRrJgQdnYLPER6n0Wir9mjDSBIQ/HjkqyUc/j2/Wtzj2s\n",
              "V+UVmrSvqPW0aUCCRWtC+VZHfXPauYKtLNPWyrKL6ePjVh+wHz7Nzdcx4R7BEQWf2fhvFDy3aQ1r\n",
              "PplmebOfSbdw9poiP/5YCz76PNI+YwLRTUbHG6pQUsOgZ0RyNXCiqvOUdvxoufDSazQlzQmCMtRr\n",
              "dT3+vICDwa65sMemhMXt4KHNlAWraCQK1pnDem4J/EA7FT5GKUBl3dMLZiDo8iIjksklE9uCSft8\n",
              "sBLp/cUE04dD4FZvRHpYbn5fOcnpJPJY+duYga8Sdifx7yBZCde37Ie6Rrs0towa1fW/OWJDg6ln\n",
              "BNzcySwh8jtH5q21gAJsJ2KQ6NcUrGTWzYSxEQgt2OPDIo5HiEMqS6is7NaS/YPuQNnwIPYkNGgF\n",
              "Rd296V7e/912rAIoej8PvWmlEXDb34HS5q0D7QAmQuILjd+R4jts0MH9WHvi1hZtU/DGZ0WfNNzc\n",
              "n4ofxaTpHxheSxhay5GnBkkEmQF86HiiJLbWhEqJre4qr3eNBbPO7u6ejd9pHfYCP5JZhaNb8s98\n",
              "QTfwquiXZDnKYyrM8Ht8PpzlkMr2xQNkPQQ25bohlHEgaUsPodeSjAB5sxQ1lpu4Z/qdDl4O2a28\n",
              "BDScIuAb+tFVBsBHZ9WgSPiw48J4JAWUQEP2qU6Z4FYtm/pX5j8sC1/COfJnzlJ7Nign28hqc8hE\n",
              "tl3DwYGqUydtTUoePGeFiz0p9FYPyAq+i6GdyRfjAcaF3hQo1Pl/2YIms1ZPsiB7wcLNArg1j8jO\n",
              "JaaO91qiN4ta4f/Dgk+v3jG9StSYm1B4GWf4lmXRYN6ktlD3Adea+Md5v+zDVJvFACGKAhak8Ldz\n",
              "WRr9qZasv59BHgeHWbIcukOF9qb/ENEWirwlpgPu9PmOFfZOxrb54DwBWZIww1Ovlg2ZlU6bSH/s\n",
              "rBhZpN+ievxHWlgLAuBY50yDupB3hkKPgFC5Jw6NshsAFlh2bA69hTlni1wDHSV5Gh3Ym8aTla5m\n",
              "b/3Qr+ZIIUwXS0P0xCaO6Btc4SGXpyzE6zcC9AAmQuHBWIHYBprp3EbUC/sc4Whgvq2Dn9JIv/2v\n",
              "kAkswlJDeHY3iaF80yJnJXFhaeaGas/Zb4+T/5/Mr3XLxv1kBR8VKqs+3e5Ib/JjuKc619ZPX1lz\n",
              "mG2ZTbT5rd2k0R89mDtlb2ijyQrHS49roudc6ulvrtnwxoLvL7NMhRyMEl6hQ36qeQW/W+aiWi6l\n",
              "ESiqTx7dYH6l/EvhV4w+bVMm3lyh5F96+JPZMb6QkSgDNmGN/UqSABjNweS+qWmPpXOB4+NBNgJH\n",
              "zR2O/6IMS+QfPWWx3+krYAEA1IMr2GWPW4zaXDvN0v+bWQAAAopBmiFsQv/+jLAgu5nqc+AIKJIA\n",
              "oEADPlbItFr3GvpJ5m6JKN3A0j0VjSUw5WhYSqtMvtUyjgPfmsKdACsjag7xAVnrBCkrhqw11rgj\n",
              "umNGHp9aUDYRVtcJF6j2C59QOHvKVE4sH5jpDI7N/6HuHvzZoQ3NQR9+keqV41mj0h3wuMUtowuS\n",
              "35idrIqu8hW+Ngvkg936Y4vdYL19e9qN50jQwaOGH22w6AxQtzLBftWeWj/yn9nuDdDkMhCkoVMY\n",
              "FC1vwajpejq1x/Y7Qk9yl7Zhl85GDK2T2OhICzhciasdwY3NITDhmB4R+beZWum1VhA7Bvx/0vaj\n",
              "TbJnU8NwaZ8tWzZ7oLYCdGmfGNn+IsQT2Hdj3o9E7mOVJ0YvB6+TyhWpH1/3bvwKhajAyA8l+5rM\n",
              "S2dMKExt5+WmiqZaTzfFwNw58MkMNHwcqDfztHARq5lyWu99pwFQgrrZgLJ4JxIZEOgHTZX5yOuz\n",
              "rweP1t2/vR8zG6CXCHysPUgNjvJanHKIzapHiftS8MEAtzcQB2JaIKnZZ5HjVEoIv/8jmYaTKoSC\n",
              "NxcsCMemoS/vb+cxPnyX18avGLXWmDewDKbQbOUXDTyNpQfLKAoDtFJ60YkcWmtG+hL41X7k+VLV\n",
              "2NNYl/MFK/YGrL7Y2OdkpevzlHxPyxTuwskoG6s50LV86hvtiqXqlQqO2CHzVF2RE3zYfLP389qt\n",
              "la33LG0RT4ZIP8GdBlGblF/Yi96PMUpb7OTx9CN+sHOCKkw7i/B3MjxRXnbH8g+R7Ltw0JG++CAt\n",
              "xLV11qRTa3QdLTju352pMg5vz7IJW+ibiS5YE+52YCOXqwzqpyItCmXDWwySMFshRc1afqiHqno6\n",
              "S5wo4AAAALlBmkM8IZMphC///oywhOJyc58APZJh2sqv0i4WvrOFWwg+VXRxsQAyBXaU4QABn1RM\n",
              "j4wx1EF6sAVFQWtUUzdEu6klRA9xc50DnWxCx1ycpSbw5JxLWY49z3+z4RWF+zEZeLZir+/2fR4j\n",
              "xDwSuyHNucqD59Lu2OHUoKjXGXV83X+YefaVPBbd4K1L96cpJunf5NMTAZpmVANgBCAVhWz2j+yJ\n",
              "/vY/SK5LlCj6pCkKo0Of8PM+nwZ4UQAAADYBnmJqR/8H5IoyikqkzF0PYbMppGXLDy3WS1W4N8Rp\n",
              "iFACVFgMsXgOBgSkwOxDxSJ33vn4+4IAAAE7QZpnSeEPJlMCFf/+OEAABfPE4ghugCdy6ns/4+Cf\n",
              "J6ex8CJAjRTGEU2BN4hDI9RT+ISQ23SOWu4+4xxzefufYqTDrHmsBkKOYxhsUU4wB2L9skfss6T1\n",
              "pGiGBzk13K8JSE4bLMDjLsNBSXl38xWvlq7PztzgdHLDrVcrxT8XwYd3OlDCZV7yyOGqZPVTMgi2\n",
              "iFb9wBTnD8lBx3CnBWhX+g48sqY/6sQyHfCRj9HLU44lGucdPmZT5O5mYPjQPeGNb4yfY9PfrDKH\n",
              "gBnSPEoG7HJax/MHJT0poB7RYJtgStWJG8r8oHxAKC6VD1w754fj5BT+kulXNkWasNDH544CTooj\n",
              "3N2+fSO48l5Sx4lWa1AlJbbYsJ/RP6Q7aMdV/kJvSg8kR9U5fz4tkUoffRuQ0enDEqWqgPqW50/h\n",
              "AAAANEGehUURPCP/ArHU7zX+FBzYSxOJKRXALFreVFu5KgA2K1L1aOeNGwJCU9xcFZnqwMuRgmsA\n",
              "AAAiAZ6kdEf/BDGI4k63NMVKAmABdAjB/RrdLV82m10zuZAFXwAAACEBnqZqR/8EM+RCGYujvcoA\n",
              "AXNg69K2vOVYu7WxOCaMjgkAAABnQZqpSahBaJlMFPCv/jhAAAv4aivXoBA619ROVs4d1Fl1r/8F\n",
              "gMre+MA+fWy0o7q45melpeFdXDVDCYiSzzz0vClTn90SD6GUYyfE5B5id5/4/ci+hDFaBj69U9m+\n",
              "FgSjEC24abW9ugAAACwBnshqR/8ENPk4v9b7S/dB7zRUPgyAAro12WazDzXR4aym7YUNZY0z69QA\n",
              "4AAAAJ9BmstJ4QpSZTBSwr/+OEAAFzttmATDVDqUAoWPUkSG2uDpNvCLZeWFm8YclFiihdBFC8a4\n",
              "PsJTr9tSFWgWgg6PBYj3SgmcG+ddc7GPLS5pDytkC6Nn+C5KkUJ8QASTgGBZXURnHsyTMz5n9QIQ\n",
              "9Xp4/+1tMDF+0OU/ZqNzjt7DdbOGA4zVpS2NTWLJGk8rirME75n+MJIg7t/JcTAEocEAAAAqAZ7q\n",
              "akf/AHFCeI+xnfY4srolnrYAJH7tjB2C0fSJr16BcgWFnidR/VmQAAAAPEGa7EnhDomUwIX//oyw\n",
              "AAYCAgcAco0ms9UCIulA9FaSDBLhOFHkPi90xGHKXnezZkGXGM98eQqOE8+UnAAAAE5Bmw5J4Q8m\n",
              "UwUVPC///oywAAwDsyACO1m4fXTneticr+qh1zIqT2iaKxdBXFzK6Phq0NugYR+IDKQVi8LQonha\n",
              "2ZPCASgNAqJ5C7DPzPkAAAAnAZ8takf/AHFCeI+xnfaRZMtSQAJmFmZ9ckIBwWVCS9xGXivonhjR\n",
              "AAAAXUGbMknhDyZTAhf//oywAAwWtGjLAi7e9gCVyXmLLKtoL3k0klGRapmAMbtFyKHLCo6lnm0b\n",
              "V6j6V436z8Crh7xbu7NxhFR1JenhyOZhJoX+N3voCLEJKzMxRXzPgQAAAChBn1BFETwj/wEaUVcc\n",
              "t9tHtGaeLMpwx+nAAWqEBEMILJCUAVrRX572AAAAJgGfb3RH/wHEimSAn4+AGtv2GEX1wplh0+fE\n",
              "GXKRQFkR+xBACreAAAAAIQGfcWpH/wHFgALEKGGQAC5ild+YPm587C9S9jTQ039aCQAAAGNBm3RJ\n",
              "qEFomUwU8L/+jLAADBVzKagAv49IKL6u/1Tu8w+WpZ8YQw90EkyQgfM2ZE/LK05oBcFUDKMJpXkW\n",
              "JWvphjIKHkxenqqcLcrMA330mVX2tMOmKCla8uUDj/UBxPmaakAAAAAoAZ+Takf/AcXvgRRq8i4J\n",
              "S587yQALbx8KvysIuD+ZxlyBfWeJ1I1/MgAAANpBm5hJ4QpSZTAhX/44QABarPEADUlzuuk9flh7\n",
              "dzYes72OGNqkFDCvOHkj4UwphIYcWa7CSeKnk0P51aoq+gxJg/5g0cv5k3BPlblzs1vnqAlzO0RN\n",
              "iFYnC7Y3JXwQf765EZGyoTI2lzabahoirGMHB3q7FMVidSuDbaMcPLhBHJ+73zEmmMgdfi9QI3mZ\n",
              "062EXsoDw5mZRfwZulg0Pv27K4d1m19pUXMNSFqKilOrQpBLSFy1RZVE6zyK9oLWsx6quco4mT13\n",
              "VB7oMPgZF9DNAHFMrr+UdgO5oQAAACxBn7ZFNEwj/wEeCpJbwtm43Z0Vn2U75GrmoBpSiCoo2dWH\n",
              "JMzUQbMpJ/gS8AAAACUBn9V0R/8BxIpmaaKYAX4O63QVMPn259aFnXnBID0YQnjNR68hAAAAGQGf\n",
              "12pH/wHFgAfOFT9mgDsv7VwyTxI+UkkAAABhQZvZSahBaJlMCFf//jhAALEnPr5QaCss3tgFLXIs\n",
              "nrbT0UTROE6uE2FTkzWv+qT9jZhoKQYZ/Mty/xVvwgWev3mMtRx164OG6hFZyBvtcgQCLvxKDYSc\n",
              "nC6muwiwv2nXEAAAADhBm/pJ4QpSZTAhX/44QACxMRUkBUAbXGOQxs8lbtJrqm8WD1du4tO9rslG\n",
              "PWN/fpCp4iw30dLCXwAAADZBmhtJ4Q6JlMCF//6MsAAtuO2wFDPV7aaKY0MuM8pAt6vtv5sJHZ7h\n",
              "DcQbNSo7TJ9EH1HwQsAAAABeQZo/SeEPJlMCFf/+OEAArW7fLD/9eAg1AdENAetB0B1uTXftPJWQ\n",
              "6FKtZCxnt9Q6vgSJdUt/OTNdOfRPbo3bae3NR5u+57vTul9vNBUhWj8Pu9EcgsOmtrZbYzIwYQAA\n",
              "ACxBnl1FETwj/wEaUVcct9tHtGaeLNwFcyPl4AC6h9p1w6Bs+KzEUM2Em4HPgQAAABgBnnx0R/8B\n",
              "xIpp4YTf57JchTIqdwyWrokAAAAYAZ5+akf/AcWAB6Md64PNLUZnlO4ZGS5KAAAAUEGaYUmoQWiZ\n",
              "TBTwr/44QACnvc2gCVgXmBlfIAmA+WiIvMGNTvgZGUUv3yqiBepDO0eEq3UhJcz9k4kqEWomoSgq\n",
              "tSh4FpqNlugf0RrkMyMbAAAAIAGegGpH/wHF74EUavIuCUzbRsc8xqoL3rdkZJ08u0HAAAAAQUGa\n",
              "gknhClJlMCF//oywACpkdx0zsAVqUnYXv8oFrVoZRaHaH2xlXC6ZxeEb+fYXxjBC35mL/h5Yedcu\n",
              "MYzcsxDxAAAAN0Gao0nhDomUwIX//oywACpa0kABQbai5H2T3U2jIrq9zq+XDVorQYKfTfPtzxZ8\n",
              "wcIJYAQwyoAAAABqQZrHSeEPJlMCF//+jLAAK6UkcwVdgCtT0EQ7KL9RRDavCMAKApsTcuj3SpEg\n",
              "H2NEl2L1NFZt0dcuH8UcPj24dsra+bw8dX62JNFbqwnJr/2H4WBHb/hljLBKXp1rubx393OidrX7\n",
              "hih0wQAAAC1BnuVFETwj/wEaUVcct9tHtGaeLNtl/J6PkAF09tW8Or2MHLVoJowfkgJJDDkAAAAT\n",
              "AZ8EdEf/AcSKYoQV+1O4cp6kXwAAABYBnwZqR/8BxYAHfgnt2p7PKdwyGumVAAAAK0GbCkmoQWiZ\n",
              "TAhf//6MsAAreebwAWCicXTAY6y1qajIK9E1vrAjWxpjMQcAAAAiQZ8oRREsI/8BHio5gQW3tls5\n",
              "/vh8OIXBZaif1VnM1VVTwAAAABEBn0lqR/8BxYAHezBvHRBSwwAAAExBm05JqEFsmUwIV//+OEAA\n",
              "rF5txARqrN75XhWGMrTE1/vED/6FIMsyNDLmzOK6vZRnBIAPGZJlHOie67HH5/CtUyMcsNFIy6h5\n",
              "4ImAAAAAKEGfbEUVLCP/AR4qOYEFt7ZbPBg3f50puUPuqhAASew3BNsJb4C4k0AAAAAaAZ+LdEf/\n",
              "AcSKcR3mEGCmTCOFWq+LDJbURIEAAAAmAZ+Nakf/AcWADkwgsPfYuIAEzTYKVEgZ7D2ChPoL215e\n",
              "LDILnJUAAABEQZuQSahBbJlMFEwr//44QACnsXyDu6APmH4254BZCMrg9vggWrKthIpDMzb5j55i\n",
              "b+Nh4cCtEe0lGemCXKNg6EQcOuEAAAApAZ+vakf/AcXvgRRq8i/P8D9tkfP5sACZiPXtPu148NXF\n",
              "DiZeK+jwVRAAAABHQZuxSeEKUmUwIX/+jLAAVv9WACnKUqe23m9EP3ufpOCK0Nmg46cJNPmfhNi9\n",
              "ddjq8CRYt/s0jGx7jXyDC0TgsuAoiSjURMAAAACUQZvVSeEOiZTAhX/+OEABUTemOmAdgMUtE82t\n",
              "jp0nilX+S/kSVNnkqUHMxEXolZnMFUPLFzNuUlusKj8qozdLsjFroFm0u/QABiqukU+cD8TH0V2L\n",
              "7FbKWlRzvnvVIOO9leXIHi9ItwrMC/fu3r8TCFBvy9hbZoB80bTNtjZevLYp7pi236vHYgg7wmKm\n",
              "ZE0Ej8CCbwAAADJBn/NFETwj/wEeCpJbwtm43Z4lvoYH3NLAAmzx4D5Ezxja9vJ7XxPVNQRBjwwM\n",
              "3diHgAAAACYBnhJ0R/8BxIpxamNlIgAE0s3v6GwYMQMrkndGrJfATLxYZHmUkAAAACMBnhRqR/8B\n",
              "xYAOTE3p8ABJ9MuWi+4gj3GXb4ojF7wdQk+5IQAAAE9BmhZJqEFomUwIV//+OEACGn7QdaMxAJNP\n",
              "5AYubZS2oL5e2b/eH2XKJG1dW7zfwHCx12WGy2lTOig1PeSuZX9TgwRLMKN0+qLuVJ7PExl3AAAA\n",
              "bkGaOEnhClJlMFESwr/+OEABPqfSKk2YBMNQfAoNc4zIo6vd+/vJjsIcuvcf9VEjRo3MN01JeQDE\n",
              "FeHEdDv4uz/l93eT/6IiSr5l49uluO8n1YXHUGPmicwbuvc5t5NoLaMCsFDKYa+h9EzqVD0hAAAA\n",
              "KAGeV2pH/wBxQniPtXiHgAff4VBY+81S3Yy1Ud669V0iiCMvFhj1rIkAAAA1QZpZSeEOiZTAhf/+\n",
              "jLAAjCOCJvwaWAOYeVqKP/fxWZD1AHOLfPfg8rAfhkEK8wE1acE24QsAAAA8QZp6SeEPJlMCF//+\n",
              "jLAAUBocpo7lmAJ80Jwv6EDlOEZR4RaFuLkBK1QYLI8k7HxQZA9yOJNg4WLvGYR9AAAASkGanUnh\n",
              "DyZTAhf//oywAFBXwwYA5a/DqjbbCqdknlK54hh6DEmVqc339PtmFncxxkrwxtheLlK5w35tvyEx\n",
              "OtSRm+EgRgYIYoPmAAAALkGeu0URPCP/ARpRVxy320e0ZqWGIHylx+aAExvTljgPdp2qwjkwAydn\n",
              "Pws7UMEAAAAaAZ7cakf/AcWADQaRXWl/GHl5q5F6eGqct4EAAABZQZrASahBaJlMCGf//p4QAFGx\n",
              "uOAImPtAXUVbQARgVuUCsRWGEsdgqZL5Jh6ZQPHcSkONCO3PNOMM7olZQq9S3X8ubKvdqvuf0DOc\n",
              "xvdUC0fWyIEWNY2fBHwAAAArQZ7+RREsI/8BHio5gQW3tls7KHrvnEIAEPjfQvjRNEEUthvoDHxn\n",
              "T1g3xgAAACIBnx9qR/8BxYANXI34ATVr4Fs0VDFZlH32L2avksnhrXGbAAAAiEGbBEmoQWyZTAhn\n",
              "//6eEABRsd/EAPot722vmMm1hPo6BFSO42kG2suWGRLXS0ZeJCLov7KmoabCRMjltHjBgVAz/+gs\n",
              "zk37/FL3aVLYcrvuMGJ6yUnYat4mROwoQ0Qe5mjOrTW0Qh8x+39gBLkDPECpE+M1grMLRfOn7siO\n",
              "lo/MxXXou5LQZUAAAAAwQZ8iRRUsI/8BHio5gQW3tls7Is/OTUeYYrgBZISfTh8Y/+PqtH5dBcAE\n",
              "ToXkD0B1AAAAJAGfQXRH/wHEinBlDBk+ripgAg51cDpyu107QMgMBxRYZJeQyAAAACQBn0NqR/8B\n",
              "xYALnheeaHw6AFbOEgRyWjBq8zkF7qLGmhkdXqUAAABcQZtISahBbJlMCGf//p4QAFPxuOAK368L\n",
              "Y47jb+peCmqqi1lhh6aXVKuvxKgHF3vzllXDGgqNa0U4e+5jexO7bhiBeD3drIDDrTKl4IF41jFN\n",
              "j1u7UfpEkWGgQ8EAAAAuQZ9mRRUsI/8BHio5gQW3tls7bv1cqDGAASuE78FPqc0e58Kwh4AnhI5A\n",
              "3u4lYQAAACIBn4V0R/8BxIpuhPaEMqACWnOIXMUM210FcgIzLxYZIruzAAAAGAGfh2pH/wHFgA2m\n",
              "jBU6kltYZU7hkC9ZwAAAAI5Bm4xJqEFsmUwIZ//+nhAAU/G44ArcLZa33UNuUCpVutFuVjcCFr9k\n",
              "XBzV1vWczLKWw+3TrBZklkPT0cX1J5ofl4ZXNqBH2vAXlvg9FA/8LD9gigKW5G6pMJ5P6NLxoxLs\n",
              "b0+V/7EVWw/UV9ipe+ESu4FfvVY448T6qTrks9yd+kht3Z/9wzau1caisCLgAAAAKEGfqkUVLCP/\n",
              "AR4qOYEFt7ZbO2cSf8AIU72mqvvbmfAyRAZkk4T97/MAAAAjAZ/JdEf/AcSKcMCXOhMAB/Omok1v\n",
              "S29ZlXLltzFiwyTiRUAAAAAlAZ/Lakf/AcWADVZREIACdXLU9eeOGa4symihUvs1qfXcMjAraAAA\n",
              "ADtBm9BJqEFsmUwIX//+jLAAUDKdAAsNYfkpC4aCwoflb3pwZZydprvemDf1JqPq++a692hrROMq\n",
              "/KolYQAAACBBn+5FFSwj/wEeKjmBBbe2Wzq9RvOfwcxYPzkUwio+GQAAABQBng10R/8BxIpuhPUY\n",
              "fstqc9JlwQAAABABng9qR/8BxYALnhD7EOlfAAAAH0GaFEmoQWyZTAhf//6MsABQMt0QBExRiwad\n",
              "55LQDQgAAAAbQZ4yRRUsI/8BHio5gQW3tls5/vTBBgdrCeChAAAAEAGeUXRH/wHEim6E63T3bcIA\n",
              "AAAQAZ5Takf/AcWAC54Q+xDpXwAAAENBmldJqEFsmUwIX//+jLAAUDHbYAiQ0nZtdeb2YT0LdbXE\n",
              "Vje/MVS/ZpvT8Z9X6yk7QyDiySWOsfVDahbPGSleIwlZAAAAKkGedUUVLCP/AR4qOYEFt7ZbOuAF\n",
              "gAIgxieoY+x8xPUA3YZ7zNg+M+aPBQAAACYBnpZqR/8BxYANBkmhrELYaYAG8oJkipHlX9NETNkC\n",
              "aQCLDIKrawAAAEBBmppJqEFsmUwIX//+jLAAThDGctjY/ZAC0VoePvWJGqWUt1NzfwP4LXPObhM0\n",
              "Sgi88OTvJDb9t9MR3DcByR1RAAAAK0GeuEUVLCP/AR4qOYEFt7ZbOqZjzkyUidggBI05/7JoXa+1\n",
              "gKdE6l+PsiAAAAAYAZ7Zakf/AcWAC54WtnnZFhlRJmhkY+4pAAAAOkGa3kmoQWyZTAhX//44QACa\n",
              "1ZfOgA4Oahcj/i6LCxfSgA8YXAJwAJt+TXw1dKGkVqfu/vfzWIwIlYAAAAAnQZ78RRUsI/8BHio5\n",
              "gQW3tls5/vgHUHrPsAAWpOuWywKjbMIxHHrBAAAAJQGfG3RH/wHEim6E9T4x8AC4mn4FHhDuusqL\n",
              "DbkUBZY00MkQ0ZEAAAAXAZ8dakf/AcWAC54WYbPvVshTuGQfOZAAAAAoQZsCSahBbJlMCEf//eEA\n",
              "Alodr8AAswKfSiYz829+k/8mAvVytfh0wAAAAClBnyBFFSwj/wEeKjmBBbe2Wzn++Bv9lABIhU2p\n",
              "/98oE7Azmos75q8y8QAAABUBn190R/8BxIpuhOt06wdTuGoB1bwAAAAVAZ9Bakf/AcWAC54Q+wbY\n",
              "kzQ031MNAAAAHkGbQ0moQWyZTAj//IQACSes2AAHuCysVdvVb5BHwAAAB45tb292AAAAbG12aGQA\n",
              "AAAAAAAAAAAAAAAAAAPoAAAH0AABAAABAAAAAAAAAAAAAAAAAQAAAAAAAAAAAAAAAAAAAAEAAAAA\n",
              "AAAAAAAAAAAAAEAAAAAAAAAAAAAAAAAAAAAAAAAAAAAAAAAAAAAAAAACAAAGuHRyYWsAAABcdGto\n",
              "ZAAAAAMAAAAAAAAAAAAAAAEAAAAAAAAH0AAAAAAAAAAAAAAAAAAAAAAAAQAAAAAAAAAAAAAAAAAA\n",
              "AAEAAAAAAAAAAAAAAAAAAEAAAAABsAAAASAAAAAAACRlZHRzAAAAHGVsc3QAAAAAAAAAAQAAB9AA\n",
              "AAIAAAEAAAAABjBtZGlhAAAAIG1kaGQAAAAAAAAAAAAAAAAAADIAAABkAFXEAAAAAAAtaGRscgAA\n",
              "AAAAAAAAdmlkZQAAAAAAAAAAAAAAAFZpZGVvSGFuZGxlcgAAAAXbbWluZgAAABR2bWhkAAAAAQAA\n",
              "AAAAAAAAAAAAJGRpbmYAAAAcZHJlZgAAAAAAAAABAAAADHVybCAAAAABAAAFm3N0YmwAAACzc3Rz\n",
              "ZAAAAAAAAAABAAAAo2F2YzEAAAAAAAAAAQAAAAAAAAAAAAAAAAAAAAABsAEgAEgAAABIAAAAAAAA\n",
              "AAEAAAAAAAAAAAAAAAAAAAAAAAAAAAAAAAAAAAAAAAAAAAAY//8AAAAxYXZjQwFkAB7/4QAYZ2QA\n",
              "HqzZQbCWhAAAAwAEAAADAZA8WLZYAQAGaOvjyyLAAAAAHHV1aWRraEDyXyRPxbo5pRvPAyPzAAAA\n",
              "AAAAABhzdHRzAAAAAAAAAAEAAABkAAABAAAAABRzdHNzAAAAAAAAAAEAAAABAAAC4GN0dHMAAAAA\n",
              "AAAAWgAAAAIAAAIAAAAAAQAAAwAAAAABAAABAAAAAAEAAAUAAAAAAQAAAgAAAAABAAAAAAAAAAEA\n",
              "AAEAAAAAAQAAAwAAAAABAAABAAAAAAEAAAMAAAAAAQAAAQAAAAABAAACAAAAAAEAAAMAAAAAAQAA\n",
              "AQAAAAABAAAFAAAAAAEAAAIAAAAAAQAAAAAAAAABAAABAAAAAAEAAAMAAAAAAQAAAQAAAAABAAAF\n",
              "AAAAAAEAAAIAAAAAAQAAAAAAAAABAAABAAAAAAMAAAIAAAAAAQAABQAAAAABAAACAAAAAAEAAAAA\n",
              "AAAAAQAAAQAAAAABAAADAAAAAAEAAAEAAAAAAgAAAgAAAAABAAAFAAAAAAEAAAIAAAAAAQAAAAAA\n",
              "AAABAAABAAAAAAEAAAQAAAAAAgAAAQAAAAABAAAFAAAAAAEAAAIAAAAAAQAAAAAAAAABAAABAAAA\n",
              "AAEAAAMAAAAAAQAAAQAAAAABAAACAAAAAAEAAAUAAAAAAQAAAgAAAAABAAAAAAAAAAEAAAEAAAAA\n",
              "AQAAAgAAAAABAAADAAAAAAEAAAEAAAAAAgAAAgAAAAABAAAEAAAAAAIAAAEAAAAAAQAABAAAAAAC\n",
              "AAABAAAAAAEAAAUAAAAAAQAAAgAAAAABAAAAAAAAAAEAAAEAAAAAAQAABQAAAAABAAACAAAAAAEA\n",
              "AAAAAAAAAQAAAQAAAAABAAAFAAAAAAEAAAIAAAAAAQAAAAAAAAABAAABAAAAAAEAAAUAAAAAAQAA\n",
              "AgAAAAABAAAAAAAAAAEAAAEAAAAAAQAABQAAAAABAAACAAAAAAEAAAAAAAAAAQAAAQAAAAABAAAE\n",
              "AAAAAAIAAAEAAAAAAQAABAAAAAACAAABAAAAAAEAAAUAAAAAAQAAAgAAAAABAAAAAAAAAAEAAAEA\n",
              "AAAAAQAABQAAAAABAAACAAAAAAEAAAAAAAAAAQAAAQAAAAABAAACAAAAABxzdHNjAAAAAAAAAAEA\n",
              "AAABAAAAZAAAAAEAAAGkc3RzegAAAAAAAAAAAAAAZAAANPQAAAKOAAAAvQAAADoAAAE/AAAAOAAA\n",
              "ACYAAAAlAAAAawAAADAAAACjAAAALgAAAEAAAABSAAAAKwAAAGEAAAAsAAAAKgAAACUAAABnAAAA\n",
              "LAAAAN4AAAAwAAAAKQAAAB0AAABlAAAAPAAAADoAAABiAAAAMAAAABwAAAAcAAAAVAAAACQAAABF\n",
              "AAAAOwAAAG4AAAAxAAAAFwAAABoAAAAvAAAAJgAAABUAAABQAAAALAAAAB4AAAAqAAAASAAAAC0A\n",
              "AABLAAAAmAAAADYAAAAqAAAAJwAAAFMAAAByAAAALAAAADkAAABAAAAATgAAADIAAAAeAAAAXQAA\n",
              "AC8AAAAmAAAAjAAAADQAAAAoAAAAKAAAAGAAAAAyAAAAJgAAABwAAACSAAAALAAAACcAAAApAAAA\n",
              "PwAAACQAAAAYAAAAFAAAACMAAAAfAAAAFAAAABQAAABHAAAALgAAACoAAABEAAAALwAAABwAAAA+\n",
              "AAAAKwAAACkAAAAbAAAALAAAAC0AAAAZAAAAGQAAACIAAAAUc3RjbwAAAAAAAAABAAAALAAAAGJ1\n",
              "ZHRhAAAAWm1ldGEAAAAAAAAAIWhkbHIAAAAAAAAAAG1kaXJhcHBsAAAAAAAAAAAAAAAALWlsc3QA\n",
              "AAAlqXRvbwAAAB1kYXRhAAAAAQAAAABMYXZmNTcuODMuMTAw\n",
              "\">\n",
              "  Your browser does not support the video tag.\n",
              "</video>"
            ]
          },
          "metadata": {}
        }
      ]
    }
  ]
}